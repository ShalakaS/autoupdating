{
 "cells": [
  {
   "cell_type": "code",
   "execution_count": 1,
   "id": "56862a28",
   "metadata": {},
   "outputs": [],
   "source": [
    "import pandas as pd\n",
    "import asyncio\n",
    "from playwright.async_api import async_playwright\n",
    "playwright = await async_playwright().start()\n",
    "browser = await playwright.chromium.launch(headless = False)\n",
    "page = await browser.new_page()"
   ]
  },
  {
   "cell_type": "code",
   "execution_count": 2,
   "id": "cf54129d",
   "metadata": {},
   "outputs": [],
   "source": [
    "url = \"https://ews.tropmet.res.in/\""
   ]
  },
  {
   "cell_type": "code",
   "execution_count": 3,
   "id": "3378a961",
   "metadata": {},
   "outputs": [],
   "source": [
    "await page.goto(url, wait_until=\"networkidle\", timeout=100000)\n",
    "await page.locator(\"div.slideshow-container\").wait_for()"
   ]
  },
  {
   "cell_type": "code",
   "execution_count": 4,
   "id": "f260a7cf",
   "metadata": {},
   "outputs": [],
   "source": [
    "All = await page.locator(\"text tspan.highcharts-text-outline\").all_text_contents()"
   ]
  },
  {
   "cell_type": "code",
   "execution_count": 5,
   "id": "37bc2f36",
   "metadata": {},
   "outputs": [
    {
     "data": {
      "text/plain": [
       "['379\\u200b',\n",
       " '345\\u200b',\n",
       " '160\\u200b',\n",
       " '210\\u200b',\n",
       " '159\\u200b',\n",
       " '307\\u200b',\n",
       " '259\\u200b',\n",
       " '352\\u200b',\n",
       " '90\\u200b',\n",
       " '73\\u200b',\n",
       " '64\\u200b',\n",
       " '80\\u200b',\n",
       " '376\\u200b',\n",
       " '334\\u200b',\n",
       " '114\\u200b',\n",
       " '165\\u200b',\n",
       " '167\\u200b',\n",
       " '155\\u200b']"
      ]
     },
     "execution_count": 5,
     "metadata": {},
     "output_type": "execute_result"
    }
   ],
   "source": [
    "All"
   ]
  },
  {
   "cell_type": "code",
   "execution_count": 6,
   "id": "1d30cbfe",
   "metadata": {
    "scrolled": true
   },
   "outputs": [
    {
     "name": "stdout",
     "output_type": "stream",
     "text": [
      "379​ 160​ 159​ 259​ 90​ 64​ 376​ 114​ 167​\n"
     ]
    }
   ],
   "source": [
    "print(All[0], All[2], All[4], All[6], All[8], All[10], All[12], All[14], All[16])"
   ]
  },
  {
   "cell_type": "code",
   "execution_count": 7,
   "id": "bd7f19f1",
   "metadata": {},
   "outputs": [],
   "source": [
    "major_cities_AQI = {}"
   ]
  },
  {
   "cell_type": "code",
   "execution_count": 8,
   "id": "e53ce782",
   "metadata": {},
   "outputs": [],
   "source": [
    "major_cities_AQI['Delhi'] = All[0]\n",
    "major_cities_AQI['Pune'] = All[2]\n",
    "major_cities_AQI['Mumbai'] =  All[4]\n",
    "major_cities_AQI['Kolkata'] = All[6]\n",
    "major_cities_AQI['Bengalore'] = All[8]\n",
    "major_cities_AQI['Lucknow'] = All[10]\n",
    "major_cities_AQI['Patna'] = All[12]\n",
    "major_cities_AQI['Hyderabad'] = All[14]\n",
    "major_cities_AQI['Ahmedabad'] = All[16]"
   ]
  },
  {
   "cell_type": "code",
   "execution_count": 9,
   "id": "cf2fcf8e",
   "metadata": {},
   "outputs": [
    {
     "data": {
      "text/plain": [
       "{'Delhi': '379\\u200b',\n",
       " 'Pune': '160\\u200b',\n",
       " 'Mumbai': '159\\u200b',\n",
       " 'Kolkata': '259\\u200b',\n",
       " 'Bengalore': '90\\u200b',\n",
       " 'Lucknow': '64\\u200b',\n",
       " 'Patna': '376\\u200b',\n",
       " 'Hyderabad': '114\\u200b',\n",
       " 'Ahmedabad': '167\\u200b'}"
      ]
     },
     "execution_count": 9,
     "metadata": {},
     "output_type": "execute_result"
    }
   ],
   "source": [
    "major_cities_AQI"
   ]
  },
  {
   "cell_type": "code",
   "execution_count": 10,
   "id": "a2c8d6f5",
   "metadata": {},
   "outputs": [],
   "source": [
    "df = pd.DataFrame(major_cities_AQI, index=[\"AQI\"])"
   ]
  },
  {
   "cell_type": "code",
   "execution_count": 11,
   "id": "504c3704",
   "metadata": {},
   "outputs": [
    {
     "data": {
      "text/html": [
       "<div>\n",
       "<style scoped>\n",
       "    .dataframe tbody tr th:only-of-type {\n",
       "        vertical-align: middle;\n",
       "    }\n",
       "\n",
       "    .dataframe tbody tr th {\n",
       "        vertical-align: top;\n",
       "    }\n",
       "\n",
       "    .dataframe thead th {\n",
       "        text-align: right;\n",
       "    }\n",
       "</style>\n",
       "<table border=\"1\" class=\"dataframe\">\n",
       "  <thead>\n",
       "    <tr style=\"text-align: right;\">\n",
       "      <th></th>\n",
       "      <th>Delhi</th>\n",
       "      <th>Pune</th>\n",
       "      <th>Mumbai</th>\n",
       "      <th>Kolkata</th>\n",
       "      <th>Bengalore</th>\n",
       "      <th>Lucknow</th>\n",
       "      <th>Patna</th>\n",
       "      <th>Hyderabad</th>\n",
       "      <th>Ahmedabad</th>\n",
       "    </tr>\n",
       "  </thead>\n",
       "  <tbody>\n",
       "    <tr>\n",
       "      <th>AQI</th>\n",
       "      <td>379​</td>\n",
       "      <td>160​</td>\n",
       "      <td>159​</td>\n",
       "      <td>259​</td>\n",
       "      <td>90​</td>\n",
       "      <td>64​</td>\n",
       "      <td>376​</td>\n",
       "      <td>114​</td>\n",
       "      <td>167​</td>\n",
       "    </tr>\n",
       "  </tbody>\n",
       "</table>\n",
       "</div>"
      ],
      "text/plain": [
       "    Delhi  Pune Mumbai Kolkata Bengalore Lucknow Patna Hyderabad Ahmedabad\n",
       "AQI  379​  160​   159​    259​       90​     64​  376​      114​      167​"
      ]
     },
     "execution_count": 11,
     "metadata": {},
     "output_type": "execute_result"
    }
   ],
   "source": [
    "df"
   ]
  },
  {
   "cell_type": "code",
   "execution_count": 12,
   "id": "e69af142",
   "metadata": {},
   "outputs": [],
   "source": [
    "df.to_csv(\"major_cities_aqi.csv\", index=False)"
   ]
  },
  {
   "cell_type": "code",
   "execution_count": 13,
   "id": "a1c833fa",
   "metadata": {},
   "outputs": [
    {
     "data": {
      "text/html": [
       "<div>\n",
       "<style scoped>\n",
       "    .dataframe tbody tr th:only-of-type {\n",
       "        vertical-align: middle;\n",
       "    }\n",
       "\n",
       "    .dataframe tbody tr th {\n",
       "        vertical-align: top;\n",
       "    }\n",
       "\n",
       "    .dataframe thead th {\n",
       "        text-align: right;\n",
       "    }\n",
       "</style>\n",
       "<table border=\"1\" class=\"dataframe\">\n",
       "  <thead>\n",
       "    <tr style=\"text-align: right;\">\n",
       "      <th></th>\n",
       "      <th>Delhi</th>\n",
       "      <th>Pune</th>\n",
       "      <th>Mumbai</th>\n",
       "      <th>Kolkata</th>\n",
       "      <th>Bengalore</th>\n",
       "      <th>Lucknow</th>\n",
       "      <th>Patna</th>\n",
       "      <th>Hyderabad</th>\n",
       "      <th>Ahmedabad</th>\n",
       "    </tr>\n",
       "  </thead>\n",
       "  <tbody>\n",
       "    <tr>\n",
       "      <th>0</th>\n",
       "      <td>379​</td>\n",
       "      <td>160​</td>\n",
       "      <td>159​</td>\n",
       "      <td>259​</td>\n",
       "      <td>90​</td>\n",
       "      <td>64​</td>\n",
       "      <td>376​</td>\n",
       "      <td>114​</td>\n",
       "      <td>167​</td>\n",
       "    </tr>\n",
       "  </tbody>\n",
       "</table>\n",
       "</div>"
      ],
      "text/plain": [
       "  Delhi  Pune Mumbai Kolkata Bengalore Lucknow Patna Hyderabad Ahmedabad\n",
       "0  379​  160​   159​    259​       90​     64​  376​      114​      167​"
      ]
     },
     "execution_count": 13,
     "metadata": {},
     "output_type": "execute_result"
    }
   ],
   "source": [
    "pd.read_csv(\"major_cities_aqi.csv\")"
   ]
  }
 ],
 "metadata": {
  "kernelspec": {
   "display_name": "Python 3 (ipykernel)",
   "language": "python",
   "name": "python3"
  },
  "language_info": {
   "codemirror_mode": {
    "name": "ipython",
    "version": 3
   },
   "file_extension": ".py",
   "mimetype": "text/x-python",
   "name": "python",
   "nbconvert_exporter": "python",
   "pygments_lexer": "ipython3",
   "version": "3.11.0rc2"
  }
 },
 "nbformat": 4,
 "nbformat_minor": 5
}
