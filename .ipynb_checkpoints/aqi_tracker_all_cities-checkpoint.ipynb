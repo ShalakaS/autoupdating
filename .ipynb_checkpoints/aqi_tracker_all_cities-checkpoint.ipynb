{
 "cells": [
  {
   "cell_type": "code",
   "execution_count": 16,
   "id": "df35fa10-763b-45b2-b97a-c4839007a9d5",
   "metadata": {},
   "outputs": [],
   "source": [
    "import requests\n",
    "import re\n",
    "import pandas as pd\n",
    "from datetime import datetime\n",
    "import pdfplumber\n",
    "import certifi\n",
    "import sys\n",
    "import folium\n",
    "from folium.plugins import HeatMap\n",
    "import googlemaps\n",
    "import pytz\n",
    "from dotenv import load_dotenv\n",
    "import os"
   ]
  },
  {
   "cell_type": "code",
   "execution_count": 17,
   "id": "05d798bc-5c67-4451-afcc-a9763efc974b",
   "metadata": {},
   "outputs": [
    {
     "data": {
      "text/plain": [
       "False"
      ]
     },
     "execution_count": 17,
     "metadata": {},
     "output_type": "execute_result"
    }
   ],
   "source": [
    "load_dotenv()"
   ]
  },
  {
   "cell_type": "code",
   "execution_count": 84,
   "id": "cda0db2d-2998-4180-894f-f0a4a4216394",
   "metadata": {},
   "outputs": [
    {
     "data": {
      "text/plain": [
       "'20250323'"
      ]
     },
     "execution_count": 84,
     "metadata": {},
     "output_type": "execute_result"
    }
   ],
   "source": [
    "time_zone = pytz.timezone('Asia/Kolkata')\n",
    "date = datetime.now(time_zone).strftime(\"%Y%m%d\")\n",
    "date"
   ]
  },
  {
   "cell_type": "code",
   "execution_count": 76,
   "id": "54e8231d-1c78-465c-ab15-9f3c9001bd65",
   "metadata": {},
   "outputs": [],
   "source": [
    "url = f'https://cpcb.nic.in//upload/Downloads/AQI_Bulletin_{date}.pdf'"
   ]
  },
  {
   "cell_type": "code",
   "execution_count": 77,
   "id": "a64a93dc-2aba-47f6-901d-c07dee819f52",
   "metadata": {},
   "outputs": [
    {
     "name": "stdout",
     "output_type": "stream",
     "text": [
      "Download successful.\n"
     ]
    }
   ],
   "source": [
    "response = requests.get(url, headers={\"User-Agent\": \"Mozilla/5.0\"}, verify=certifi.where())\n",
    "\n",
    "if response.status_code == 200:\n",
    "    with open(f\"AQI_Bulletin_{date}.pdf\", \"wb\") as f:\n",
    "        f.write(response.content)\n",
    "    print(\"Download successful.\")\n",
    "else:\n",
    "    print(\"Failed to download:\", response.status_code)"
   ]
  },
  {
   "cell_type": "code",
   "execution_count": 78,
   "id": "06efcb47-a867-4e95-8df0-de5ed0d0ad1c",
   "metadata": {},
   "outputs": [],
   "source": [
    "daily_doc = f'AQI_Bulletin_{date}.pdf'"
   ]
  },
  {
   "cell_type": "code",
   "execution_count": 79,
   "id": "18945399-c5b8-4544-9334-c047993a2637",
   "metadata": {},
   "outputs": [
    {
     "data": {
      "text/plain": [
       "<pdfplumber.pdf.PDF at 0x158c1a4d0>"
      ]
     },
     "execution_count": 79,
     "metadata": {},
     "output_type": "execute_result"
    }
   ],
   "source": [
    "pdfplumber.open(daily_doc)"
   ]
  },
  {
   "cell_type": "code",
   "execution_count": 83,
   "id": "75527bb6-7687-47b4-87e1-b7812fe080a9",
   "metadata": {},
   "outputs": [],
   "source": [
    "if daily_doc:\n",
    "    tables = []\n",
    "    with pdfplumber.open(daily_doc) as pdf:\n",
    "        for page in pdf.pages[:-1]:\n",
    "            extracted_tables = page.extract_tables()\n",
    "            # print(extracted_tables[0])\n",
    "            tables.extend(extracted_tables)"
   ]
  },
  {
   "cell_type": "code",
   "execution_count": 8,
   "id": "c20c5755-dec4-4918-a7be-ee9870e5302f",
   "metadata": {},
   "outputs": [],
   "source": [
    "clean_tables = []\n",
    "for table in tables:\n",
    "    table_wihtout_headers = table[1:]\n",
    "    clean_tables.append(table_wihtout_headers)"
   ]
  },
  {
   "cell_type": "code",
   "execution_count": 9,
   "id": "bb3bf321-f0b4-4066-80b2-6fa4fb547169",
   "metadata": {},
   "outputs": [],
   "source": [
    "df_list = []\n",
    "for each_table in clean_tables:\n",
    "    df = pd.DataFrame(each_table)\n",
    "    df_list.append(df)"
   ]
  },
  {
   "cell_type": "code",
   "execution_count": 10,
   "id": "22d95c34-ceff-4728-945c-d3f72323b765",
   "metadata": {},
   "outputs": [],
   "source": [
    "df_combined = pd.concat(df_list, ignore_index=True)\n",
    "df_combined.columns = tables[0][0]"
   ]
  },
  {
   "cell_type": "code",
   "execution_count": 11,
   "id": "9fdb1891-7849-4831-ae59-214062c3aa0e",
   "metadata": {},
   "outputs": [],
   "source": [
    "df = df_combined.drop(columns=['S.No', 'Prominent Pollutant', 'No. of Stations\\nParticipated/\\nTotal Stations'])"
   ]
  },
  {
   "cell_type": "code",
   "execution_count": 12,
   "id": "2988aebe-c589-4f7a-8689-371f6fbff1c4",
   "metadata": {},
   "outputs": [],
   "source": [
    "df.columns = df.columns.str.replace(\"\\n\", \"\").str.replace(\" \",\"_\")"
   ]
  },
  {
   "cell_type": "code",
   "execution_count": 13,
   "id": "98de0784-0938-459e-a1cb-a735ca771785",
   "metadata": {},
   "outputs": [],
   "source": [
    "df['IndexValue'] = df['IndexValue'].astype(int)"
   ]
  },
  {
   "cell_type": "code",
   "execution_count": 20,
   "id": "2ccb929c-ddba-4428-9a6f-21154b27c9d2",
   "metadata": {},
   "outputs": [],
   "source": [
    "API_KEY = os.getenv(\"GOOGLE_API_KEY\")"
   ]
  },
  {
   "cell_type": "code",
   "execution_count": 25,
   "id": "eb50974e-3251-42f3-aff4-f95c8eb99938",
   "metadata": {},
   "outputs": [],
   "source": [
    "gmaps = googlemaps.Client(key=API_KEY)"
   ]
  },
  {
   "cell_type": "code",
   "execution_count": 26,
   "id": "b492a1f4-8f7b-4e81-bd89-4e689c462aee",
   "metadata": {},
   "outputs": [],
   "source": [
    "# Function to get state using reverse geocoding\n",
    "def get_state(city):\n",
    "    try:\n",
    "        geocode_result = gmaps.geocode(f\"{city}, India\")\n",
    "        for component in geocode_result[0]['address_components']:\n",
    "            if 'administrative_area_level_1' in component['types']:\n",
    "                return component['long_name']\n",
    "    except Exception as e:\n",
    "        return None\n",
    "\n",
    "df[\"State\"] = df[\"City\"].apply(get_state)"
   ]
  },
  {
   "cell_type": "code",
   "execution_count": 27,
   "id": "2d22fdf2-07d8-4568-abe1-ee0e33f90b5a",
   "metadata": {},
   "outputs": [
    {
     "data": {
      "text/html": [
       "<div>\n",
       "<style scoped>\n",
       "    .dataframe tbody tr th:only-of-type {\n",
       "        vertical-align: middle;\n",
       "    }\n",
       "\n",
       "    .dataframe tbody tr th {\n",
       "        vertical-align: top;\n",
       "    }\n",
       "\n",
       "    .dataframe thead th {\n",
       "        text-align: right;\n",
       "    }\n",
       "</style>\n",
       "<table border=\"1\" class=\"dataframe\">\n",
       "  <thead>\n",
       "    <tr style=\"text-align: right;\">\n",
       "      <th></th>\n",
       "      <th>City</th>\n",
       "      <th>Air_Quality</th>\n",
       "      <th>IndexValue</th>\n",
       "      <th>State</th>\n",
       "    </tr>\n",
       "  </thead>\n",
       "  <tbody>\n",
       "    <tr>\n",
       "      <th>159</th>\n",
       "      <td>Nalbari</td>\n",
       "      <td>Poor</td>\n",
       "      <td>280</td>\n",
       "      <td>Assam</td>\n",
       "    </tr>\n",
       "    <tr>\n",
       "      <th>86</th>\n",
       "      <td>Ghaziabad</td>\n",
       "      <td>Poor</td>\n",
       "      <td>257</td>\n",
       "      <td>Uttar Pradesh</td>\n",
       "    </tr>\n",
       "    <tr>\n",
       "      <th>210</th>\n",
       "      <td>Thiruvananthapuram</td>\n",
       "      <td>Poor</td>\n",
       "      <td>253</td>\n",
       "      <td>Kerala</td>\n",
       "    </tr>\n",
       "    <tr>\n",
       "      <th>91</th>\n",
       "      <td>Guwahati</td>\n",
       "      <td>Poor</td>\n",
       "      <td>233</td>\n",
       "      <td>Assam</td>\n",
       "    </tr>\n",
       "    <tr>\n",
       "      <th>201</th>\n",
       "      <td>Siwan</td>\n",
       "      <td>Poor</td>\n",
       "      <td>216</td>\n",
       "      <td>Bihar</td>\n",
       "    </tr>\n",
       "    <tr>\n",
       "      <th>90</th>\n",
       "      <td>Gurugram</td>\n",
       "      <td>Poor</td>\n",
       "      <td>202</td>\n",
       "      <td>Haryana</td>\n",
       "    </tr>\n",
       "    <tr>\n",
       "      <th>3</th>\n",
       "      <td>Ahmednagar</td>\n",
       "      <td>Moderate</td>\n",
       "      <td>185</td>\n",
       "      <td>Maharashtra</td>\n",
       "    </tr>\n",
       "    <tr>\n",
       "      <th>203</th>\n",
       "      <td>Sri Ganganagar</td>\n",
       "      <td>Moderate</td>\n",
       "      <td>177</td>\n",
       "      <td>Rajasthan</td>\n",
       "    </tr>\n",
       "    <tr>\n",
       "      <th>22</th>\n",
       "      <td>Baghpat</td>\n",
       "      <td>Moderate</td>\n",
       "      <td>171</td>\n",
       "      <td>Uttar Pradesh</td>\n",
       "    </tr>\n",
       "    <tr>\n",
       "      <th>70</th>\n",
       "      <td>Delhi</td>\n",
       "      <td>Moderate</td>\n",
       "      <td>161</td>\n",
       "      <td>Delhi</td>\n",
       "    </tr>\n",
       "    <tr>\n",
       "      <th>56</th>\n",
       "      <td>Charkhi Dadri</td>\n",
       "      <td>Moderate</td>\n",
       "      <td>161</td>\n",
       "      <td>Haryana</td>\n",
       "    </tr>\n",
       "    <tr>\n",
       "      <th>171</th>\n",
       "      <td>Pithampur</td>\n",
       "      <td>Moderate</td>\n",
       "      <td>158</td>\n",
       "      <td>Madhya Pradesh</td>\n",
       "    </tr>\n",
       "    <tr>\n",
       "      <th>49</th>\n",
       "      <td>Bulandshahr</td>\n",
       "      <td>Moderate</td>\n",
       "      <td>157</td>\n",
       "      <td>Uttar Pradesh</td>\n",
       "    </tr>\n",
       "    <tr>\n",
       "      <th>136</th>\n",
       "      <td>Ludhiana</td>\n",
       "      <td>Moderate</td>\n",
       "      <td>157</td>\n",
       "      <td>Punjab</td>\n",
       "    </tr>\n",
       "    <tr>\n",
       "      <th>95</th>\n",
       "      <td>Hanumangarh</td>\n",
       "      <td>Moderate</td>\n",
       "      <td>157</td>\n",
       "      <td>Rajasthan</td>\n",
       "    </tr>\n",
       "    <tr>\n",
       "      <th>40</th>\n",
       "      <td>Bhiwadi</td>\n",
       "      <td>Moderate</td>\n",
       "      <td>155</td>\n",
       "      <td>Rajasthan</td>\n",
       "    </tr>\n",
       "    <tr>\n",
       "      <th>194</th>\n",
       "      <td>Sawai Madhopur</td>\n",
       "      <td>Moderate</td>\n",
       "      <td>153</td>\n",
       "      <td>Rajasthan</td>\n",
       "    </tr>\n",
       "    <tr>\n",
       "      <th>219</th>\n",
       "      <td>Tumakuru</td>\n",
       "      <td>Moderate</td>\n",
       "      <td>153</td>\n",
       "      <td>Karnataka</td>\n",
       "    </tr>\n",
       "    <tr>\n",
       "      <th>155</th>\n",
       "      <td>Nagaon</td>\n",
       "      <td>Moderate</td>\n",
       "      <td>148</td>\n",
       "      <td>Assam</td>\n",
       "    </tr>\n",
       "    <tr>\n",
       "      <th>146</th>\n",
       "      <td>Meerut</td>\n",
       "      <td>Moderate</td>\n",
       "      <td>147</td>\n",
       "      <td>Uttar Pradesh</td>\n",
       "    </tr>\n",
       "  </tbody>\n",
       "</table>\n",
       "</div>"
      ],
      "text/plain": [
       "                   City Air_Quality  IndexValue           State\n",
       "159             Nalbari        Poor         280           Assam\n",
       "86            Ghaziabad        Poor         257   Uttar Pradesh\n",
       "210  Thiruvananthapuram        Poor         253          Kerala\n",
       "91             Guwahati        Poor         233           Assam\n",
       "201               Siwan        Poor         216           Bihar\n",
       "90             Gurugram        Poor         202         Haryana\n",
       "3            Ahmednagar    Moderate         185     Maharashtra\n",
       "203      Sri Ganganagar    Moderate         177       Rajasthan\n",
       "22              Baghpat    Moderate         171   Uttar Pradesh\n",
       "70                Delhi    Moderate         161           Delhi\n",
       "56        Charkhi Dadri    Moderate         161         Haryana\n",
       "171           Pithampur    Moderate         158  Madhya Pradesh\n",
       "49          Bulandshahr    Moderate         157   Uttar Pradesh\n",
       "136            Ludhiana    Moderate         157          Punjab\n",
       "95          Hanumangarh    Moderate         157       Rajasthan\n",
       "40              Bhiwadi    Moderate         155       Rajasthan\n",
       "194      Sawai Madhopur    Moderate         153       Rajasthan\n",
       "219            Tumakuru    Moderate         153       Karnataka\n",
       "155              Nagaon    Moderate         148           Assam\n",
       "146              Meerut    Moderate         147   Uttar Pradesh"
      ]
     },
     "execution_count": 27,
     "metadata": {},
     "output_type": "execute_result"
    }
   ],
   "source": [
    "df.sort_values(by='IndexValue', ascending=False).head(20)#.to_csv('daily_aqi.csv', index=False)"
   ]
  },
  {
   "cell_type": "code",
   "execution_count": 28,
   "id": "e6911dee-d043-4309-a9d0-23bcea75657c",
   "metadata": {},
   "outputs": [],
   "source": [
    "# Function to geocode addresses\n",
    "def geocode_google(address):\n",
    "    try:\n",
    "        geocode_result = gmaps.geocode(address)\n",
    "        if geocode_result:\n",
    "            location = geocode_result[0]['geometry']['location']\n",
    "            return pd.Series([location['lat'], location['lng']])\n",
    "        else:\n",
    "            return pd.Series([None, None])\n",
    "    except Exception as e:\n",
    "        return pd.Series([None, None])"
   ]
  },
  {
   "cell_type": "code",
   "execution_count": 29,
   "id": "564ed777-ae4f-45da-9319-b4cc7eace32f",
   "metadata": {},
   "outputs": [],
   "source": [
    "# Apply geocoding function to the DataFrame\n",
    "df[['Latitude', 'Longitude']] = df['City'].apply(geocode_google)"
   ]
  },
  {
   "cell_type": "code",
   "execution_count": 81,
   "id": "ab2f5d77-6e43-4b91-8419-d44b166326ff",
   "metadata": {},
   "outputs": [],
   "source": [
    "df['date'] = date"
   ]
  },
  {
   "cell_type": "code",
   "execution_count": 30,
   "id": "0c9380cf-e95b-419c-a059-f7d451f64713",
   "metadata": {
    "scrolled": true
   },
   "outputs": [],
   "source": [
    "if len(df[df['Latitude'].isna()]['City']) > 0:\n",
    "    df[['Latitude', 'Longitude']] = df['City'].apply(geocode_google)"
   ]
  },
  {
   "cell_type": "code",
   "execution_count": 32,
   "id": "c3a07744-243c-40e8-be52-9537b39b587e",
   "metadata": {},
   "outputs": [
    {
     "data": {
      "text/plain": [
       "3"
      ]
     },
     "execution_count": 32,
     "metadata": {},
     "output_type": "execute_result"
    }
   ],
   "source": [
    "len(df[df['Latitude'].isna()]['City'])"
   ]
  },
  {
   "cell_type": "code",
   "execution_count": 33,
   "id": "108f3cc9-869b-44e4-9d57-ab4e670a5bb8",
   "metadata": {},
   "outputs": [],
   "source": [
    "if len(df[df['Latitude'].isna()]['City']) > 0:\n",
    "    df['Latitude'] = df['Latitude'].fillna('0')\n",
    "    df['Longitude'] = df['Longitude'].fillna('0')"
   ]
  },
  {
   "cell_type": "code",
   "execution_count": 34,
   "id": "8d1ef039-c623-44c2-9fc0-67c88a850dca",
   "metadata": {},
   "outputs": [
    {
     "data": {
      "text/plain": [
       "0"
      ]
     },
     "execution_count": 34,
     "metadata": {},
     "output_type": "execute_result"
    }
   ],
   "source": [
    "len(df[df['Latitude'].isna()]['City']) "
   ]
  },
  {
   "cell_type": "code",
   "execution_count": 35,
   "id": "4d8a8a15-d69f-4ed2-9dcd-c8022403c593",
   "metadata": {},
   "outputs": [],
   "source": [
    "with pdfplumber.open(daily_doc) as pdf:\n",
    "    last_page_text = pdf.pages[-1].extract_text()"
   ]
  },
  {
   "cell_type": "code",
   "execution_count": 36,
   "id": "4b3d87b6-5da5-45a6-a0a5-08acf306e663",
   "metadata": {},
   "outputs": [],
   "source": [
    "text = last_page_text.replace(\"\\n\", \" \")"
   ]
  },
  {
   "cell_type": "code",
   "execution_count": 37,
   "id": "acd01d31-8423-468e-95a2-86fc20cdf394",
   "metadata": {},
   "outputs": [],
   "source": [
    "list_of_no_data_cities = text.split(\":\")[1].split(\",\")"
   ]
  },
  {
   "cell_type": "code",
   "execution_count": 38,
   "id": "8a955366-b3d9-4f61-9fc3-14c6b8c34b9d",
   "metadata": {},
   "outputs": [],
   "source": [
    "no_data_cities = []\n",
    "for each_city in list_of_no_data_cities:\n",
    "    city_name = each_city.split(\")\")[1].strip()\n",
    "    no_data_cities.append(city_name)"
   ]
  },
  {
   "cell_type": "code",
   "execution_count": 39,
   "id": "27be2af5-1f94-44b9-9e58-f25ff0d81791",
   "metadata": {},
   "outputs": [],
   "source": [
    "geocoded_no_data_cities = []\n",
    "for each_city in no_data_cities:\n",
    "    no_data_city_dict = {}\n",
    "    no_data_city_dict['city'] = each_city \n",
    "    no_data_city_dict['lat'] = geocode_google(each_city)[0]\n",
    "    no_data_city_dict['long'] = geocode_google(each_city)[1]\n",
    "    geocoded_no_data_cities.append(no_data_city_dict)"
   ]
  },
  {
   "cell_type": "code",
   "execution_count": 55,
   "id": "a0462a2b-c69b-433e-866e-2d72965f7e01",
   "metadata": {},
   "outputs": [],
   "source": [
    "df_no_data = pd.DataFrame(geocoded_no_data_cities)\n",
    "df_no_data['state'] = df_no_data['city'].apply(get_state)"
   ]
  },
  {
   "cell_type": "code",
   "execution_count": 82,
   "id": "48bdd438-1b03-4a1b-b2d0-7b5c69f3be34",
   "metadata": {},
   "outputs": [],
   "source": [
    "df_no_data['date'] = date"
   ]
  },
  {
   "cell_type": "code",
   "execution_count": 57,
   "id": "7fe69ef7-58bf-4628-8d6c-0b7d7bda9474",
   "metadata": {},
   "outputs": [],
   "source": [
    "if len(df_no_data[df_no_data['lat'].isna()]) > 0:\n",
    "    df_no_data['city'].apply(geocode_google)"
   ]
  },
  {
   "cell_type": "code",
   "execution_count": 68,
   "id": "89086515-d835-4e93-aaac-76ef94e7fc12",
   "metadata": {},
   "outputs": [],
   "source": [
    "if len(df_no_data[df_no_data['lat'].isna()]) > 0:\n",
    "    df_no_data['lat'] = df_no_data['lat'].fillna('0')\n",
    "    df_no_data['long'] = df_no_data['long'].fillna('0')"
   ]
  },
  {
   "cell_type": "code",
   "execution_count": 70,
   "id": "a3c28d6d-85fd-412a-b018-67c62e1d280a",
   "metadata": {},
   "outputs": [],
   "source": [
    "df_no_data.to_csv('no_data_cities.csv', index=False)"
   ]
  },
  {
   "cell_type": "code",
   "execution_count": 43,
   "id": "ba75d3bf-8a6d-4c2c-81c1-e7703a09c759",
   "metadata": {},
   "outputs": [
    {
     "data": {
      "text/html": [
       "<div style=\"width:100%;\"><div style=\"position:relative;width:100%;height:0;padding-bottom:60%;\"><span style=\"color:#565656\">Make this Notebook Trusted to load map: File -> Trust Notebook</span><iframe srcdoc=\"&lt;!DOCTYPE html&gt;\n",
       "&lt;html&gt;\n",
       "&lt;head&gt;\n",
       "    \n",
       "    &lt;meta http-equiv=&quot;content-type&quot; content=&quot;text/html; charset=UTF-8&quot; /&gt;\n",
       "    \n",
       "        &lt;script&gt;\n",
       "            L_NO_TOUCH = false;\n",
       "            L_DISABLE_3D = false;\n",
       "        &lt;/script&gt;\n",
       "    \n",
       "    &lt;style&gt;html, body {width: 100%;height: 100%;margin: 0;padding: 0;}&lt;/style&gt;\n",
       "    &lt;style&gt;#map {position:absolute;top:0;bottom:0;right:0;left:0;}&lt;/style&gt;\n",
       "    &lt;script src=&quot;https://cdn.jsdelivr.net/npm/leaflet@1.9.3/dist/leaflet.js&quot;&gt;&lt;/script&gt;\n",
       "    &lt;script src=&quot;https://code.jquery.com/jquery-3.7.1.min.js&quot;&gt;&lt;/script&gt;\n",
       "    &lt;script src=&quot;https://cdn.jsdelivr.net/npm/bootstrap@5.2.2/dist/js/bootstrap.bundle.min.js&quot;&gt;&lt;/script&gt;\n",
       "    &lt;script src=&quot;https://cdnjs.cloudflare.com/ajax/libs/Leaflet.awesome-markers/2.0.2/leaflet.awesome-markers.js&quot;&gt;&lt;/script&gt;\n",
       "    &lt;link rel=&quot;stylesheet&quot; href=&quot;https://cdn.jsdelivr.net/npm/leaflet@1.9.3/dist/leaflet.css&quot;/&gt;\n",
       "    &lt;link rel=&quot;stylesheet&quot; href=&quot;https://cdn.jsdelivr.net/npm/bootstrap@5.2.2/dist/css/bootstrap.min.css&quot;/&gt;\n",
       "    &lt;link rel=&quot;stylesheet&quot; href=&quot;https://netdna.bootstrapcdn.com/bootstrap/3.0.0/css/bootstrap-glyphicons.css&quot;/&gt;\n",
       "    &lt;link rel=&quot;stylesheet&quot; href=&quot;https://cdn.jsdelivr.net/npm/@fortawesome/fontawesome-free@6.2.0/css/all.min.css&quot;/&gt;\n",
       "    &lt;link rel=&quot;stylesheet&quot; href=&quot;https://cdnjs.cloudflare.com/ajax/libs/Leaflet.awesome-markers/2.0.2/leaflet.awesome-markers.css&quot;/&gt;\n",
       "    &lt;link rel=&quot;stylesheet&quot; href=&quot;https://cdn.jsdelivr.net/gh/python-visualization/folium/folium/templates/leaflet.awesome.rotate.min.css&quot;/&gt;\n",
       "    \n",
       "            &lt;meta name=&quot;viewport&quot; content=&quot;width=device-width,\n",
       "                initial-scale=1.0, maximum-scale=1.0, user-scalable=no&quot; /&gt;\n",
       "            &lt;style&gt;\n",
       "                #map_565c379e733c2f9e965a70041f199e46 {\n",
       "                    position: relative;\n",
       "                    width: 100.0%;\n",
       "                    height: 100.0%;\n",
       "                    left: 0.0%;\n",
       "                    top: 0.0%;\n",
       "                }\n",
       "                .leaflet-container { font-size: 1rem; }\n",
       "            &lt;/style&gt;\n",
       "        \n",
       "    &lt;script src=&quot;https://cdn.jsdelivr.net/gh/python-visualization/folium@main/folium/templates/leaflet_heat.min.js&quot;&gt;&lt;/script&gt;\n",
       "&lt;/head&gt;\n",
       "&lt;body&gt;\n",
       "    \n",
       "    \n",
       "            &lt;div class=&quot;folium-map&quot; id=&quot;map_565c379e733c2f9e965a70041f199e46&quot; &gt;&lt;/div&gt;\n",
       "        \n",
       "&lt;/body&gt;\n",
       "&lt;script&gt;\n",
       "    \n",
       "    \n",
       "            var map_565c379e733c2f9e965a70041f199e46 = L.map(\n",
       "                &quot;map_565c379e733c2f9e965a70041f199e46&quot;,\n",
       "                {\n",
       "                    center: [22.9734, 78.6569],\n",
       "                    crs: L.CRS.EPSG3857,\n",
       "                    ...{\n",
       "  &quot;zoom&quot;: 4.5,\n",
       "  &quot;zoomControl&quot;: true,\n",
       "  &quot;preferCanvas&quot;: false,\n",
       "}\n",
       "\n",
       "                }\n",
       "            );\n",
       "\n",
       "            \n",
       "\n",
       "        \n",
       "    \n",
       "            var tile_layer_e6f22e5568c9829f59af7e9c1877c4db = L.tileLayer(\n",
       "                &quot;https://tile.openstreetmap.org/{z}/{x}/{y}.png&quot;,\n",
       "                {\n",
       "  &quot;minZoom&quot;: 0,\n",
       "  &quot;maxZoom&quot;: 19,\n",
       "  &quot;maxNativeZoom&quot;: 19,\n",
       "  &quot;noWrap&quot;: false,\n",
       "  &quot;attribution&quot;: &quot;\\u0026copy; \\u003ca href=\\&quot;https://www.openstreetmap.org/copyright\\&quot;\\u003eOpenStreetMap\\u003c/a\\u003e contributors&quot;,\n",
       "  &quot;subdomains&quot;: &quot;abc&quot;,\n",
       "  &quot;detectRetina&quot;: false,\n",
       "  &quot;tms&quot;: false,\n",
       "  &quot;opacity&quot;: 1,\n",
       "}\n",
       "\n",
       "            );\n",
       "        \n",
       "    \n",
       "            tile_layer_e6f22e5568c9829f59af7e9c1877c4db.addTo(map_565c379e733c2f9e965a70041f199e46);\n",
       "        \n",
       "    \n",
       "            var heat_map_48f060defbe3cc99f0bf81aec6f360ad = L.heatLayer(\n",
       "                [[23.831457, 91.2867777, 46], [27.1766701, 78.00807449999999, 81], [23.022505, 72.5713621, 137], [19.0948287, 74.74797889999999, 185], [23.7307175, 92.71731059999999, 54], [26.4498954, 74.6399163, 93], [20.7002159, 77.0081678, 76], [27.5529907, 76.6345735, 70], [16.5130887, 80.5164523, 36], [20.9319821, 77.7523039, 78], [31.6339793, 74.8722642, 96], [14.6824455, 77.6017089, 50], [20.8404122, 85.1028982, 95], [21.6264236, 73.0151984, 55], [26.1324689, 87.4528067, 62], [11.1403677, 79.07445, 43], [25.5541358, 84.6664797, 85], [23.6888636, 86.9660638, 130], [24.7486689, 84.3807025, 71], [19.875754, 75.3393195, 90], [30.9578258, 76.79135579999999, 90], [0.0, 0.0, 84], [28.9427827, 77.22760699999999, 171], [21.4933578, 86.9134794, 60], [23.5451408, 74.4405475, 101], [25.1012882, 76.5119321, 100], [22.1112096, 85.38585379999999, 52], [28.3670355, 79.4304381, 78], [21.9319838, 86.7465928, 78], [25.7521467, 71.3966865, 83], [22.766117, 88.35155619999999, 52], [30.210994, 74.9454745, 47], [25.4181638, 86.1271542, 68], [19.0221652, 73.0390426, 107], [12.9715987, 77.5945627, 81], [26.8025577, 84.520147, 85], [25.242453, 86.9842256, 61], [27.2151863, 77.5029996, 104], [21.1938475, 81.3509416, 50], [25.3407388, 74.63131829999999, 102], [28.2014149, 76.8275503, 155], [19.2812547, 73.0482912, 100], [23.2599333, 77.412615, 122], [20.2959847, 85.8246101, 58], [28.0229348, 73.3119159, 139], [22.0796545, 82.1409152, 118], [21.8635241, 84.9850045, 66], [19.7968929, 72.7451817, 89], [21.8284575, 83.91759259999999, 66], [28.406963, 77.8498292, 157], [25.4325869, 75.6482726, 124], [25.5647103, 83.9777482, 61], [20.9550552, 86.1271048, 65], [11.9261471, 76.9437312, 45], [30.7333148, 76.7794179, 86], [19.9615398, 79.2961468, 86], [28.5920617, 76.2652909, 161], [12.6819372, 79.98884129999999, 64], [13.0843007, 80.2704622, 52], [25.7811397, 84.7543413, 53], [13.4354985, 77.7315344, 63], [13.217176, 79.1003289, 61], [24.8829177, 74.6229699, 95], [11.0168445, 76.9558321, 36], [11.7480419, 79.7713687, 57], [20.462521, 85.8829895, 101], [23.8323022, 79.4386591, 34], [26.8996953, 76.332411, 137], [14.4644085, 75.921758, 61], [30.3164945, 78.03219179999999, 71], [28.6139298, 77.2088282, 161], [22.9675929, 76.0534454, 90], [23.7956531, 86.43038589999999, 127], [15.4589236, 75.007808, 66], [26.6965521, 77.8907576, 90], [20.9042201, 74.7748979, 75], [10.3623794, 77.9694579, 52], [23.8518813, 73.72043049999999, 98], [23.5204443, 87.3119227, 78], [10.0669103, 76.2989896, 79], [28.4089123, 77.3177894, 88], [27.1591961, 78.3957331, 88], [15.4315406, 75.63551489999999, 51], [23.2156354, 72.63694149999999, 112], [27.3313512, 88.6138113, 97], [24.7913957, 85.0002336, 62], [28.6691565, 77.45375779999999, 257], [26.7605545, 83.3731675, 111], [28.4743879, 77.50399039999999, 96], [13.4109557, 80.11697079999999, 76], [28.4594965, 77.0266383, 202], [26.1157917, 91.7085933, 233], [26.2124007, 78.1772053, 124], [25.6924354, 85.20832399999999, 126], [22.0627164, 88.0832934, 50], [29.5821848, 74.3292106, 157], [28.73057979999999, 77.7758825, 86], [13.0752578, 76.17837390000001, 91], [12.7409127, 77.8252923, 83], [22.5957689, 88.26363940000002, 72], [15.3647083, 75.1239547, 50], [17.406498, 78.47724389999999, 71], [22.7195687, 75.8577258, 67], [23.1685786, 79.9338798, 71], [26.9124336, 75.7872709, 111], [26.9157487, 70.9083443, 104], [31.3260152, 75.57618289999999, 99], [21.0076578, 75.5626039, 77], [19.8346659, 75.88163449999999, 87], [25.3474783, 72.6226296, 98], [24.593906, 76.1642846, 120], [25.4487699, 78.5697526, 57], [28.1317038, 75.4022233, 94], [26.2389469, 73.02430939999999, 98], [14.4673154, 78.8242089, 42], [17.329731, 76.8342957, 46], [19.2403305, 73.1305395, 92], [12.8371787, 79.7041698, 20], [11.8744775, 75.37036619999999, 57], [26.449923, 80.3318736, 82], [26.5049791, 77.0267705, 88], [10.9600778, 78.07660360000001, 36], [29.2104232, 78.9618845, 76], [23.8343441, 80.38938139999999, 89], [30.70707689999999, 76.2169907, 81], [28.2489801, 77.854903, 131], [26.0982167, 87.9450379, 87], [25.6751129, 94.10859980000001, 73], [16.7049873, 74.24325270000001, 78], [22.5743545, 88.3628734, 51], [15.3504652, 76.1567298, 40], [22.3594501, 82.75005949999999, 87], [25.2138156, 75.8647527, 119], [22.1196254, 83.4952996, 45], [18.4087934, 76.5603828, 106], [26.8466937, 80.94616599999999, 101], [30.900965, 75.8572758, 157], [12.4244205, 75.7381856, 49], [9.9252007, 78.1197754, 39], [18.0820208, 73.42244099999999, 109], [24.2657817, 80.7624352, 35], [20.5579034, 74.5089457, 79], [30.66422799999999, 76.29139049999999, 67], [23.0992796, 77.5114731, 122], [12.9141417, 74.8559568, 49], [26.5638594, 84.60735369999999, 91], [28.9844618, 77.7064137, 147], [19.2952325, 72.8543897, 61], [28.8386481, 78.7733286, 72], [26.6438482, 84.9040337, 78], [19.0759837, 72.8776559, 74], [25.3707993, 86.47339029999999, 66], [29.4726817, 77.7085091, 140], [26.1196607, 85.390982, 84], [12.2958104, 76.6393805, 56], [26.348009, 92.6838111, 148], [27.1983368, 73.7493272, 140], [21.1458004, 79.0881546, 115], [27.1086309, 93.69839789999999, 91], [26.4446185, 91.4410527, 280], [19.1485289, 77.3191471, 83], [19.9974533, 73.78980229999999, 90], [19.0330488, 73.0296625, 94], [20.1231332, 85.1038426, 61], [28.5355161, 77.3910265, 114], [11.4102038, 76.6950324, 109], [25.7780623, 73.331147, 131], [0.0, 0.0, 29], [30.3397809, 76.3868797, 92], [25.5940947, 85.1375645, 106], [18.6297811, 73.7997094, 102], [22.611121, 75.6772689, 158], [25.8973038, 81.9452981, 115], [25.468338, 81.85460189999999, 85], [11.9415915, 79.8083133, 30], [10.3832867, 78.800129, 40], [18.5204303, 73.8567437, 145], [25.7771391, 87.4752551, 86], [21.2513844, 81.62964130000002, 71], [17.0005383, 81.8040345, 40], [25.0583257, 73.88600339999999, 104], [12.7208614, 77.27989629999999, 62], [9.3639356, 78.8394819, 48], [12.9487403, 79.318978, 37], [23.3315103, 75.0366677, 109], [30.1157619, 78.28530169999999, 52], [22.260423, 84.8535844, 80], [30.9661003, 76.5230961, 100], [23.9259385, 78.8382644, 57], [25.8773651, 86.5927887, 54], [11.664325, 78.1460142, 38], [25.8560271, 85.7868233, 137], [24.9538803, 84.01428659999999, 53], [24.6005075, 80.8322428, 75], [26.012373, 76.3560109, 153], [25.5787726, 91.8932535, 65], [27.6093912, 75.1397935, 119], [24.8332708, 92.7789054, 49], [26.7271012, 88.39528609999999, 142], [24.8827147, 72.8608948, 91], [26.989087, 94.63942399999999, 75], [26.2243204, 84.3599953, 216], [17.6599188, 75.9063906, 105], [29.9093759, 73.87998050000002, 177], [11.6233774, 92.7264828, 71], [21.6043925, 85.5161612, 35], [21.1702401, 72.83106070000001, 47], [0.0, 0.0, 63], [19.2183307, 72.9780897, 69], [10.787719, 79.1384288, 39], [8.5241391, 76.9366376, 253], [8.764166099999999, 78.1348361, 100], [10.5276416, 76.2144349, 61], [10.7904833, 78.7046725, 29], [13.6807357, 79.3508975, 38], [8.715017999999999, 77.765628, 42], [13.6287557, 79.4191795, 68], [11.1085242, 77.3410656, 55], [26.1623706, 75.62080879999999, 126], [13.3378762, 77.117325, 153], [22.0585051, 83.344206, 62], [24.585445, 73.712479, 88], [23.1764665, 75.7885163, 49], [19.2215115, 73.1644628, 72], [20.3893155, 72.9106202, 61], [25.3176452, 82.9739144, 49], [22.9664255, 72.6159326, 99], [12.9235541, 79.1330768, 54], [16.5061743, 80.6480153, 65], [19.4563596, 72.79246119999999, 76], [9.5680116, 77.96244349999999, 72], [17.6868159, 83.2184815, 78], [27.5650088, 77.6593394, 78], [16.7625516, 77.1442251, 80]],\n",
       "                {\n",
       "  &quot;minOpacity&quot;: 0.5,\n",
       "  &quot;maxZoom&quot;: 4.5,\n",
       "  &quot;radius&quot;: 13,\n",
       "  &quot;blur&quot;: 10,\n",
       "}\n",
       "            );\n",
       "        \n",
       "    \n",
       "            heat_map_48f060defbe3cc99f0bf81aec6f360ad.addTo(map_565c379e733c2f9e965a70041f199e46);\n",
       "        \n",
       "    \n",
       "            var marker_80928d140a52c1269aa1011a3dd9c2c4 = L.marker(\n",
       "                [35.5, 75.0],\n",
       "                {\n",
       "}\n",
       "            ).addTo(map_565c379e733c2f9e965a70041f199e46);\n",
       "        \n",
       "    \n",
       "            var div_icon_a4e67924394360321b44bfec4d8c1f1b = L.divIcon({\n",
       "  &quot;html&quot;: &quot;\\n        \\u003cdiv style=\\&quot;position: absolute; top: 10px; left: 10px; font-size: 12px; font-weight: bold; \\n                    background: rgba(255, 255, 255, 0.5); padding: 5px; border-radius: 2px; \\n                    border: 0.5px solid black; z-index:9999;\\&quot;\\u003e\\n            Zoom in at area of interest\\n        \\u003c/div\\u003e\\n    &quot;,\n",
       "  &quot;className&quot;: &quot;empty&quot;,\n",
       "});\n",
       "            marker_80928d140a52c1269aa1011a3dd9c2c4.setIcon(div_icon_a4e67924394360321b44bfec4d8c1f1b);\n",
       "        \n",
       "    \n",
       "                marker_80928d140a52c1269aa1011a3dd9c2c4.setIcon(div_icon_a4e67924394360321b44bfec4d8c1f1b);\n",
       "            \n",
       "&lt;/script&gt;\n",
       "&lt;/html&gt;\" style=\"position:absolute;width:100%;height:100%;left:0;top:0;border:none !important;\" allowfullscreen webkitallowfullscreen mozallowfullscreen></iframe></div></div>"
      ],
      "text/plain": [
       "<folium.folium.Map at 0x159cef650>"
      ]
     },
     "execution_count": 43,
     "metadata": {},
     "output_type": "execute_result"
    }
   ],
   "source": [
    "# Create base map\n",
    "m1 = folium.Map(location=[22.9734, 78.6569], zoom_start=4.5)\n",
    "\n",
    "heat_data = [[row['Latitude'], row['Longitude'], row['IndexValue']] for index, row in df.iterrows()]\n",
    "HeatMap(heat_data, radius=13, blur=10, max_zoom=4.5).add_to(m1)\n",
    "\n",
    "folium.map.Marker(\n",
    "    [35.5, 75],  # Approximate location to place annotation (adjust as needed)\n",
    "    icon=folium.DivIcon(html=\"\"\"\n",
    "        <div style=\"position: absolute; top: 10px; left: 10px; font-size: 12px; font-weight: bold; \n",
    "                    background: rgba(255, 255, 255, 0.5); padding: 5px; border-radius: 2px; \n",
    "                    border: 0.5px solid black; z-index:9999;\">\n",
    "            Zoom in at area of interest\n",
    "        </div>\n",
    "    \"\"\")\n",
    ").add_to(m1)\n",
    "\n",
    "m1#.save(f\"daily_map_{date}.html\")"
   ]
  },
  {
   "cell_type": "code",
   "execution_count": 32,
   "id": "892eb9a7-4270-4102-9786-9bc0e54602ba",
   "metadata": {},
   "outputs": [],
   "source": [
    "with open(\"daily_map.html\", \"r\") as source_file:\n",
    "    content = source_file.read()\n",
    "\n",
    "with open(f\"daily_map_{date}.html\", \"w\") as target_file:\n",
    "    target_file.write(content)"
   ]
  },
  {
   "cell_type": "code",
   "execution_count": 72,
   "id": "c816e227-fa01-4b0a-b571-76c9b1c52fbc",
   "metadata": {},
   "outputs": [],
   "source": [
    "# Create a base map centered around India\n",
    "m2 = folium.Map(location=[20.5937, 78.9629], zoom_start=4.5)\n",
    "\n",
    "# Add markers with city names as labels\n",
    "for _, row in df_no_data.iterrows():\n",
    "    folium.Marker(\n",
    "        location=[row[\"lat\"], row[\"long\"]],\n",
    "        popup=folium.Popup(row[\"city\"], parse_html=True),\n",
    "        icon=folium.Icon(color=\"red\", icon=\"flag\")\n",
    "    ).add_to(m2)\n",
    "\n",
    "folium.map.Marker(\n",
    "    [33, 75],  # Approximate location to place annotation (adjust as needed)\n",
    "    icon=folium.DivIcon(html=\"\"\"\n",
    "        <div style=\"position: absolute; top: 10px; left: 10px; font-size: 12px; font-weight: bold; \n",
    "                    background: rgba(255, 255, 255, 0.5); padding: 5px; border-radius: 2px; \n",
    "                    border: 0.5px solid black; z-index:9999;\">\n",
    "            Zoom in at area of interest\n",
    "        </div>\n",
    "    \"\"\")\n",
    ").add_to(m2)\n",
    "\n",
    "# Display the map\n",
    "m2.save(f\"no_data_map_{date}.html\")"
   ]
  },
  {
   "cell_type": "code",
   "execution_count": 73,
   "id": "30ed4797-7823-4294-95c1-f0f6b6c23dcb",
   "metadata": {},
   "outputs": [],
   "source": [
    "with open(\"no_data_map.html\", \"r\") as source_file:\n",
    "    content = source_file.read()\n",
    "\n",
    "with open(f\"no_data_map_{date}.html\", \"w\") as target_file:\n",
    "    target_file.write(content)"
   ]
  }
 ],
 "metadata": {
  "kernelspec": {
   "display_name": "python3.11",
   "language": "python",
   "name": "python3.11"
  },
  "language_info": {
   "codemirror_mode": {
    "name": "ipython",
    "version": 3
   },
   "file_extension": ".py",
   "mimetype": "text/x-python",
   "name": "python",
   "nbconvert_exporter": "python",
   "pygments_lexer": "ipython3",
   "version": "3.11.0"
  }
 },
 "nbformat": 4,
 "nbformat_minor": 5
}
