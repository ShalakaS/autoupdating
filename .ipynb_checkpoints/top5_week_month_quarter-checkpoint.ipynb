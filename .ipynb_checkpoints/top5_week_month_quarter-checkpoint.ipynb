{
 "cells": [
  {
   "cell_type": "code",
   "execution_count": 5,
   "id": "2f57bad1-2aed-40af-a122-5a6bcb6d408b",
   "metadata": {},
   "outputs": [],
   "source": [
    "import pandas as pd\n",
    "import os\n",
    "import pytz\n",
    "from datetime import datetime "
   ]
  },
  {
   "cell_type": "code",
   "execution_count": 6,
   "id": "4fc3f2ef-eaa8-4452-b297-e1bbcc377893",
   "metadata": {},
   "outputs": [
    {
     "data": {
      "text/plain": [
       "'20250601'"
      ]
     },
     "execution_count": 6,
     "metadata": {},
     "output_type": "execute_result"
    }
   ],
   "source": [
    "time_zone = pytz.timezone('Asia/Kolkata')\n",
    "date = datetime.now(time_zone).strftime(\"%Y%m%d\")\n",
    "date"
   ]
  },
  {
   "cell_type": "code",
   "execution_count": 12,
   "id": "ccd0f1d4-d2ba-4791-bb73-9526bd15c00b",
   "metadata": {},
   "outputs": [],
   "source": [
    "date = '20250531'"
   ]
  },
  {
   "cell_type": "code",
   "execution_count": 14,
   "id": "b2534ea3-18df-4916-8bf5-4c7a1da6d3da",
   "metadata": {},
   "outputs": [
    {
     "data": {
      "text/html": [
       "<div>\n",
       "<style scoped>\n",
       "    .dataframe tbody tr th:only-of-type {\n",
       "        vertical-align: middle;\n",
       "    }\n",
       "\n",
       "    .dataframe tbody tr th {\n",
       "        vertical-align: top;\n",
       "    }\n",
       "\n",
       "    .dataframe thead th {\n",
       "        text-align: right;\n",
       "    }\n",
       "</style>\n",
       "<table border=\"1\" class=\"dataframe\">\n",
       "  <thead>\n",
       "    <tr style=\"text-align: right;\">\n",
       "      <th></th>\n",
       "      <th>City</th>\n",
       "      <th>Air_Quality</th>\n",
       "      <th>Index_Value</th>\n",
       "      <th>Prominent_Pollutant</th>\n",
       "      <th>No._of_Stations_Participated_Total_Stations</th>\n",
       "    </tr>\n",
       "  </thead>\n",
       "  <tbody>\n",
       "    <tr>\n",
       "      <th>0</th>\n",
       "      <td>Bikaner</td>\n",
       "      <td>Poor</td>\n",
       "      <td>246</td>\n",
       "      <td>PM\\n10</td>\n",
       "      <td>1/1</td>\n",
       "    </tr>\n",
       "    <tr>\n",
       "      <th>1</th>\n",
       "      <td>Jaisalmer</td>\n",
       "      <td>Poor</td>\n",
       "      <td>246</td>\n",
       "      <td>PM\\n10</td>\n",
       "      <td>1/1</td>\n",
       "    </tr>\n",
       "    <tr>\n",
       "      <th>2</th>\n",
       "      <td>Noida</td>\n",
       "      <td>Poor</td>\n",
       "      <td>242</td>\n",
       "      <td>O , PM , PM\\n3 10 2.5</td>\n",
       "      <td>4/4</td>\n",
       "    </tr>\n",
       "    <tr>\n",
       "      <th>3</th>\n",
       "      <td>Delhi</td>\n",
       "      <td>Poor</td>\n",
       "      <td>241</td>\n",
       "      <td>O , PM , PM\\n3 10 2.5</td>\n",
       "      <td>38/39</td>\n",
       "    </tr>\n",
       "    <tr>\n",
       "      <th>4</th>\n",
       "      <td>Brajrajnagar</td>\n",
       "      <td>Poor</td>\n",
       "      <td>235</td>\n",
       "      <td>O\\n3</td>\n",
       "      <td>1/1</td>\n",
       "    </tr>\n",
       "    <tr>\n",
       "      <th>...</th>\n",
       "      <td>...</td>\n",
       "      <td>...</td>\n",
       "      <td>...</td>\n",
       "      <td>...</td>\n",
       "      <td>...</td>\n",
       "    </tr>\n",
       "    <tr>\n",
       "      <th>207</th>\n",
       "      <td>Coimbatore</td>\n",
       "      <td>Good</td>\n",
       "      <td>26</td>\n",
       "      <td>PM , PM\\n10 2.5</td>\n",
       "      <td>2/2</td>\n",
       "    </tr>\n",
       "    <tr>\n",
       "      <th>208</th>\n",
       "      <td>Madikeri</td>\n",
       "      <td>Good</td>\n",
       "      <td>26</td>\n",
       "      <td>PM\\n10</td>\n",
       "      <td>1/1</td>\n",
       "    </tr>\n",
       "    <tr>\n",
       "      <th>209</th>\n",
       "      <td>Shillong</td>\n",
       "      <td>Good</td>\n",
       "      <td>25</td>\n",
       "      <td>PM\\n2.5</td>\n",
       "      <td>1/2</td>\n",
       "    </tr>\n",
       "    <tr>\n",
       "      <th>210</th>\n",
       "      <td>Palkalaiperur</td>\n",
       "      <td>Good</td>\n",
       "      <td>24</td>\n",
       "      <td>PM\\n10</td>\n",
       "      <td>1/1</td>\n",
       "    </tr>\n",
       "    <tr>\n",
       "      <th>211</th>\n",
       "      <td>Sivasagar</td>\n",
       "      <td>Good</td>\n",
       "      <td>18</td>\n",
       "      <td>PM\\n2.5</td>\n",
       "      <td>1/1</td>\n",
       "    </tr>\n",
       "  </tbody>\n",
       "</table>\n",
       "<p>212 rows × 5 columns</p>\n",
       "</div>"
      ],
      "text/plain": [
       "              City Air_Quality  Index_Value    Prominent_Pollutant  \\\n",
       "0          Bikaner        Poor          246                 PM\\n10   \n",
       "1        Jaisalmer        Poor          246                 PM\\n10   \n",
       "2            Noida        Poor          242  O , PM , PM\\n3 10 2.5   \n",
       "3            Delhi        Poor          241  O , PM , PM\\n3 10 2.5   \n",
       "4     Brajrajnagar        Poor          235                   O\\n3   \n",
       "..             ...         ...          ...                    ...   \n",
       "207     Coimbatore        Good           26        PM , PM\\n10 2.5   \n",
       "208       Madikeri        Good           26                 PM\\n10   \n",
       "209       Shillong        Good           25                PM\\n2.5   \n",
       "210  Palkalaiperur        Good           24                 PM\\n10   \n",
       "211      Sivasagar        Good           18                PM\\n2.5   \n",
       "\n",
       "    No._of_Stations_Participated_Total_Stations  \n",
       "0                                           1/1  \n",
       "1                                           1/1  \n",
       "2                                           4/4  \n",
       "3                                         38/39  \n",
       "4                                           1/1  \n",
       "..                                          ...  \n",
       "207                                         2/2  \n",
       "208                                         1/1  \n",
       "209                                         1/2  \n",
       "210                                         1/1  \n",
       "211                                         1/1  \n",
       "\n",
       "[212 rows x 5 columns]"
      ]
     },
     "execution_count": 14,
     "metadata": {},
     "output_type": "execute_result"
    }
   ],
   "source": [
    "df = pd.read_csv(f'daily_aqi_{date}.csv')\n",
    "df"
   ]
  },
  {
   "cell_type": "code",
   "execution_count": null,
   "id": "cd5b7e51-8932-49cb-9605-9a28f2036bbf",
   "metadata": {},
   "outputs": [],
   "source": [
    "df "
   ]
  }
 ],
 "metadata": {
  "kernelspec": {
   "display_name": "python3.11",
   "language": "python",
   "name": "python3.11"
  },
  "language_info": {
   "codemirror_mode": {
    "name": "ipython",
    "version": 3
   },
   "file_extension": ".py",
   "mimetype": "text/x-python",
   "name": "python",
   "nbconvert_exporter": "python",
   "pygments_lexer": "ipython3",
   "version": "3.11.0"
  }
 },
 "nbformat": 4,
 "nbformat_minor": 5
}
