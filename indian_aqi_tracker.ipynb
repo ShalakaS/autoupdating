{
 "cells": [
  {
   "cell_type": "code",
   "execution_count": 1,
   "id": "56862a28",
   "metadata": {},
   "outputs": [],
   "source": [
    "import pandas as pd\n",
    "import asyncio\n",
    "from playwright.async_api import async_playwright\n",
    "playwright = await async_playwright().start()\n",
    "browser = await playwright.chromium.launch(headless = True)\n",
    "page = await browser.new_page()\n",
    "import re"
   ]
  },
  {
   "cell_type": "code",
   "execution_count": 2,
   "id": "cf54129d",
   "metadata": {},
   "outputs": [],
   "source": [
    "url = \"https://ews.tropmet.res.in/\""
   ]
  },
  {
   "cell_type": "code",
   "execution_count": 3,
   "id": "3378a961",
   "metadata": {},
   "outputs": [],
   "source": [
    "await page.goto(url, wait_until='networkidle', timeout=0)\n",
    "await page.locator(\"div.slideshow-container\").wait_for()"
   ]
  },
  {
   "cell_type": "code",
   "execution_count": 4,
   "id": "0c3ddf62-84bb-4ec5-ac11-897a930aebbe",
   "metadata": {},
   "outputs": [
    {
     "data": {
      "text/plain": [
       "['Current AQI - 1992025-03-14 07',\n",
       " 'Forecast AQI - 1922025-03-15 01',\n",
       " 'Current AQI - 1052024-12-31 23',\n",
       " 'Forecast AQI - 862025-01-27 10',\n",
       " 'Current AQI - 1432025-01-22 09',\n",
       " 'Forecast AQI - 2372025-01-25 10',\n",
       " 'Current AQI - 1612023-12-31 23',\n",
       " 'Forecast AQI - 3772025-01-25 10',\n",
       " 'Current AQI - 1332025-01-23 14',\n",
       " 'Forecast AQI -432025-01-25 10',\n",
       " 'Current AQI - 02025-01-23 14',\n",
       " 'Forecast AQI - 232025-01-25 11',\n",
       " 'Current AQI -2232025-01-22 09',\n",
       " 'Forecast AQI -1922025-01-25 10',\n",
       " 'Current AQI - 842025-01-22 09',\n",
       " 'Forecast AQI - 862025-01-25 10',\n",
       " 'Current AQI - 622024-07-11 16',\n",
       " 'Forecast AQI - 802025-01-25 10']"
      ]
     },
     "execution_count": 4,
     "metadata": {},
     "output_type": "execute_result"
    }
   ],
   "source": [
    "await page.locator(\"div.slideshow-container strong\").all_text_contents()"
   ]
  },
  {
   "cell_type": "code",
   "execution_count": 5,
   "id": "578957e9-ddbc-4975-a995-1c52501d6983",
   "metadata": {},
   "outputs": [],
   "source": [
    "dates = await page.locator(\"div.slideshow-container strong\").all_text_contents()"
   ]
  },
  {
   "cell_type": "code",
   "execution_count": 6,
   "id": "7bd190ad-8f74-4eb4-85bb-fd3ada516888",
   "metadata": {},
   "outputs": [
    {
     "data": {
      "text/plain": [
       "'Current AQI - 1052024-12-31 23'"
      ]
     },
     "execution_count": 6,
     "metadata": {},
     "output_type": "execute_result"
    }
   ],
   "source": [
    "dates[2]"
   ]
  },
  {
   "cell_type": "code",
   "execution_count": 7,
   "id": "c3c552b6-d40a-4874-9fa8-bd293a63efaa",
   "metadata": {},
   "outputs": [],
   "source": [
    "date = [re.search(r'\\d{4}-\\d{2}-\\d{2}', item).group() for item in dates]"
   ]
  },
  {
   "cell_type": "code",
   "execution_count": 8,
   "id": "182dcc99-75fd-4902-b781-298060481db0",
   "metadata": {},
   "outputs": [
    {
     "data": {
      "text/plain": [
       "['2025-03-14',\n",
       " '2025-03-15',\n",
       " '2024-12-31',\n",
       " '2025-01-27',\n",
       " '2025-01-22',\n",
       " '2025-01-25',\n",
       " '2023-12-31',\n",
       " '2025-01-25',\n",
       " '2025-01-23',\n",
       " '2025-01-25',\n",
       " '2025-01-23',\n",
       " '2025-01-25',\n",
       " '2025-01-22',\n",
       " '2025-01-25',\n",
       " '2025-01-22',\n",
       " '2025-01-25',\n",
       " '2024-07-11',\n",
       " '2025-01-25']"
      ]
     },
     "execution_count": 8,
     "metadata": {},
     "output_type": "execute_result"
    }
   ],
   "source": [
    "date\n"
   ]
  },
  {
   "cell_type": "code",
   "execution_count": 9,
   "id": "ccb6d1cf-3d5c-413f-a161-1957a116077d",
   "metadata": {},
   "outputs": [
    {
     "data": {
      "text/plain": [
       "['2025-03-14',\n",
       " '2024-12-31',\n",
       " '2025-01-22',\n",
       " '2023-12-31',\n",
       " '2025-01-23',\n",
       " '2025-01-23',\n",
       " '2025-01-22',\n",
       " '2025-01-22',\n",
       " '2024-07-11']"
      ]
     },
     "execution_count": 9,
     "metadata": {},
     "output_type": "execute_result"
    }
   ],
   "source": [
    "on_date = [elem for index, elem in enumerate(date) if (index + 1) % 2 != 0]\n",
    "on_date"
   ]
  },
  {
   "cell_type": "code",
   "execution_count": 10,
   "id": "f260a7cf",
   "metadata": {},
   "outputs": [],
   "source": [
    "result = await page.locator(\"text tspan.highcharts-text-outline\").all_text_contents()"
   ]
  },
  {
   "cell_type": "code",
   "execution_count": 11,
   "id": "37bc2f36",
   "metadata": {},
   "outputs": [
    {
     "data": {
      "text/plain": [
       "['199\\u200b',\n",
       " '191\\u200b',\n",
       " '105\\u200b',\n",
       " '83\\u200b',\n",
       " '143\\u200b',\n",
       " '158\\u200b',\n",
       " '161\\u200b',\n",
       " '351\\u200b',\n",
       " '133\\u200b',\n",
       " '43\\u200b',\n",
       " '0\\u200b',\n",
       " '40\\u200b',\n",
       " '223\\u200b',\n",
       " '111\\u200b',\n",
       " '84\\u200b',\n",
       " '89\\u200b',\n",
       " '62\\u200b',\n",
       " '89\\u200b']"
      ]
     },
     "execution_count": 11,
     "metadata": {},
     "output_type": "execute_result"
    }
   ],
   "source": [
    "result"
   ]
  },
  {
   "cell_type": "code",
   "execution_count": 12,
   "id": "265370c0-e242-41c1-9180-66862e548dbf",
   "metadata": {},
   "outputs": [
    {
     "data": {
      "text/plain": [
       "['199',\n",
       " '191',\n",
       " '105',\n",
       " '83',\n",
       " '143',\n",
       " '158',\n",
       " '161',\n",
       " '351',\n",
       " '133',\n",
       " '43',\n",
       " '0',\n",
       " '40',\n",
       " '223',\n",
       " '111',\n",
       " '84',\n",
       " '89',\n",
       " '62',\n",
       " '89']"
      ]
     },
     "execution_count": 12,
     "metadata": {},
     "output_type": "execute_result"
    }
   ],
   "source": [
    "All = [element.replace(\"\\u200b\", \"\") for element in result]\n",
    "All"
   ]
  },
  {
   "cell_type": "code",
   "execution_count": 13,
   "id": "2fd34be5-d756-4b36-b7a3-deb86bbffb39",
   "metadata": {},
   "outputs": [
    {
     "data": {
      "text/plain": [
       "['199', '105', '143', '161', '133', '0', '223', '84', '62']"
      ]
     },
     "execution_count": 13,
     "metadata": {},
     "output_type": "execute_result"
    }
   ],
   "source": [
    "AQI = [elem for index, elem in enumerate(All) if (index + 1) % 2 != 0]\n",
    "AQI"
   ]
  },
  {
   "cell_type": "code",
   "execution_count": 14,
   "id": "cf8ccd5d-cf7c-431a-97cb-39185088f8b2",
   "metadata": {},
   "outputs": [],
   "source": [
    "city = ['Delhi', 'Pune', 'Mumbai', 'Kolkata', 'Bengalore', 'Lucknow', 'Patna', 'Hyderabad', 'Ahmedabad']"
   ]
  },
  {
   "cell_type": "code",
   "execution_count": 15,
   "id": "7e3e9df0-2850-49ed-a04e-9e5717bc9552",
   "metadata": {},
   "outputs": [
    {
     "data": {
      "text/plain": [
       "[{'AQI': '199', 'on_date': '2025-03-14', 'city': 'Delhi'},\n",
       " {'AQI': '105', 'on_date': '2024-12-31', 'city': 'Pune'},\n",
       " {'AQI': '143', 'on_date': '2025-01-22', 'city': 'Mumbai'},\n",
       " {'AQI': '161', 'on_date': '2023-12-31', 'city': 'Kolkata'},\n",
       " {'AQI': '133', 'on_date': '2025-01-23', 'city': 'Bengalore'},\n",
       " {'AQI': '0', 'on_date': '2025-01-23', 'city': 'Lucknow'},\n",
       " {'AQI': '223', 'on_date': '2025-01-22', 'city': 'Patna'},\n",
       " {'AQI': '84', 'on_date': '2025-01-22', 'city': 'Hyderabad'},\n",
       " {'AQI': '62', 'on_date': '2024-07-11', 'city': 'Ahmedabad'}]"
      ]
     },
     "execution_count": 15,
     "metadata": {},
     "output_type": "execute_result"
    }
   ],
   "source": [
    "result_date_aqi = [{\"AQI\": aqi, \"on_date\": dt, \"city\": city} for aqi, dt, city in zip(AQI, on_date, city)]\n",
    "result_date_aqi"
   ]
  },
  {
   "cell_type": "code",
   "execution_count": 16,
   "id": "a10c47e9-e5bd-4ad0-bbb8-08a56f860fc3",
   "metadata": {},
   "outputs": [],
   "source": [
    "df = pd.DataFrame(result_date_aqi)"
   ]
  },
  {
   "cell_type": "code",
   "execution_count": 17,
   "id": "e69af142",
   "metadata": {},
   "outputs": [],
   "source": [
    "df.to_csv(\"major_cities_aqi.csv\", index=False)"
   ]
  },
  {
   "cell_type": "code",
   "execution_count": 18,
   "id": "a1c833fa",
   "metadata": {},
   "outputs": [
    {
     "data": {
      "text/html": [
       "<div>\n",
       "<style scoped>\n",
       "    .dataframe tbody tr th:only-of-type {\n",
       "        vertical-align: middle;\n",
       "    }\n",
       "\n",
       "    .dataframe tbody tr th {\n",
       "        vertical-align: top;\n",
       "    }\n",
       "\n",
       "    .dataframe thead th {\n",
       "        text-align: right;\n",
       "    }\n",
       "</style>\n",
       "<table border=\"1\" class=\"dataframe\">\n",
       "  <thead>\n",
       "    <tr style=\"text-align: right;\">\n",
       "      <th></th>\n",
       "      <th>AQI</th>\n",
       "      <th>on_date</th>\n",
       "      <th>city</th>\n",
       "    </tr>\n",
       "  </thead>\n",
       "  <tbody>\n",
       "    <tr>\n",
       "      <th>0</th>\n",
       "      <td>199</td>\n",
       "      <td>2025-03-14</td>\n",
       "      <td>Delhi</td>\n",
       "    </tr>\n",
       "    <tr>\n",
       "      <th>1</th>\n",
       "      <td>105</td>\n",
       "      <td>2024-12-31</td>\n",
       "      <td>Pune</td>\n",
       "    </tr>\n",
       "    <tr>\n",
       "      <th>2</th>\n",
       "      <td>143</td>\n",
       "      <td>2025-01-22</td>\n",
       "      <td>Mumbai</td>\n",
       "    </tr>\n",
       "    <tr>\n",
       "      <th>3</th>\n",
       "      <td>161</td>\n",
       "      <td>2023-12-31</td>\n",
       "      <td>Kolkata</td>\n",
       "    </tr>\n",
       "    <tr>\n",
       "      <th>4</th>\n",
       "      <td>133</td>\n",
       "      <td>2025-01-23</td>\n",
       "      <td>Bengalore</td>\n",
       "    </tr>\n",
       "    <tr>\n",
       "      <th>5</th>\n",
       "      <td>0</td>\n",
       "      <td>2025-01-23</td>\n",
       "      <td>Lucknow</td>\n",
       "    </tr>\n",
       "    <tr>\n",
       "      <th>6</th>\n",
       "      <td>223</td>\n",
       "      <td>2025-01-22</td>\n",
       "      <td>Patna</td>\n",
       "    </tr>\n",
       "    <tr>\n",
       "      <th>7</th>\n",
       "      <td>84</td>\n",
       "      <td>2025-01-22</td>\n",
       "      <td>Hyderabad</td>\n",
       "    </tr>\n",
       "    <tr>\n",
       "      <th>8</th>\n",
       "      <td>62</td>\n",
       "      <td>2024-07-11</td>\n",
       "      <td>Ahmedabad</td>\n",
       "    </tr>\n",
       "  </tbody>\n",
       "</table>\n",
       "</div>"
      ],
      "text/plain": [
       "   AQI     on_date       city\n",
       "0  199  2025-03-14      Delhi\n",
       "1  105  2024-12-31       Pune\n",
       "2  143  2025-01-22     Mumbai\n",
       "3  161  2023-12-31    Kolkata\n",
       "4  133  2025-01-23  Bengalore\n",
       "5    0  2025-01-23    Lucknow\n",
       "6  223  2025-01-22      Patna\n",
       "7   84  2025-01-22  Hyderabad\n",
       "8   62  2024-07-11  Ahmedabad"
      ]
     },
     "execution_count": 18,
     "metadata": {},
     "output_type": "execute_result"
    }
   ],
   "source": [
    "pd.read_csv(\"major_cities_aqi.csv\")"
   ]
  },
  {
   "cell_type": "code",
   "execution_count": null,
   "id": "b8e8cbf9-5b6c-4e42-9aee-87df2cc20b88",
   "metadata": {},
   "outputs": [],
   "source": []
  }
 ],
 "metadata": {
  "kernelspec": {
   "display_name": "Python (myenv)",
   "language": "python",
   "name": "myenv"
  },
  "language_info": {
   "codemirror_mode": {
    "name": "ipython",
    "version": 3
   },
   "file_extension": ".py",
   "mimetype": "text/x-python",
   "name": "python",
   "nbconvert_exporter": "python",
   "pygments_lexer": "ipython3",
   "version": "3.11.9"
  },
  "vscode": {
   "interpreter": {
    "hash": "b0fa6594d8f4cbf19f97940f81e996739fb7646882a419484c72d19e05852a7e"
   }
  }
 },
 "nbformat": 4,
 "nbformat_minor": 5
}
