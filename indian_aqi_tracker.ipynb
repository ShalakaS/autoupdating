{
 "cells": [
  {
   "cell_type": "code",
   "execution_count": 1,
   "id": "56862a28",
   "metadata": {},
   "outputs": [],
   "source": [
    "import pandas as pd\n",
    "import asyncio\n",
    "from playwright.async_api import async_playwright\n",
    "playwright = await async_playwright().start()\n",
    "browser = await playwright.chromium.launch(headless = True)\n",
    "page = await browser.new_page()"
   ]
  },
  {
   "cell_type": "code",
   "execution_count": 2,
   "id": "cf54129d",
   "metadata": {},
   "outputs": [],
   "source": [
    "url = \"https://ews.tropmet.res.in/\""
   ]
  },
  {
   "cell_type": "code",
   "execution_count": 12,
   "id": "3378a961",
   "metadata": {},
   "outputs": [
    {
     "ename": "AttributeError",
     "evalue": "'Locator' object has no attribute 'wait_for_load_state'",
     "output_type": "error",
     "traceback": [
      "\u001b[0;31m---------------------------------------------------------------------------\u001b[0m",
      "\u001b[0;31mAttributeError\u001b[0m                            Traceback (most recent call last)",
      "Cell \u001b[0;32mIn[12], line 3\u001b[0m\n\u001b[1;32m      1\u001b[0m \u001b[38;5;28;01mawait\u001b[39;00m page\u001b[38;5;241m.\u001b[39mgoto(url, wait_until\u001b[38;5;241m=\u001b[39m\u001b[38;5;124m'\u001b[39m\u001b[38;5;124mnetworkidle\u001b[39m\u001b[38;5;124m'\u001b[39m, timeout\u001b[38;5;241m=\u001b[39m\u001b[38;5;241m0\u001b[39m)\n\u001b[0;32m----> 3\u001b[0m \u001b[38;5;28;01mawait\u001b[39;00m \u001b[43mpage\u001b[49m\u001b[38;5;241;43m.\u001b[39;49m\u001b[43mlocator\u001b[49m\u001b[43m(\u001b[49m\u001b[38;5;124;43m\"\u001b[39;49m\u001b[38;5;124;43mdiv.slideshow-container\u001b[39;49m\u001b[38;5;124;43m\"\u001b[39;49m\u001b[43m)\u001b[49m\u001b[38;5;241;43m.\u001b[39;49m\u001b[43mwait_for_load_state\u001b[49m()\n",
      "\u001b[0;31mAttributeError\u001b[0m: 'Locator' object has no attribute 'wait_for_load_state'"
     ]
    }
   ],
   "source": [
    "await page.goto(url, wait_until='networkidle', timeout=0)\n",
    "await page.locator(\"div.slideshow-container\").wait_for()"
   ]
  },
  {
   "cell_type": "code",
   "execution_count": 13,
   "id": "0c3ddf62-84bb-4ec5-ac11-897a930aebbe",
   "metadata": {},
   "outputs": [],
   "source": []
  },
  {
   "cell_type": "code",
   "execution_count": 28,
   "id": "f260a7cf",
   "metadata": {},
   "outputs": [],
   "source": [
    "result = await page.locator(\"text tspan.highcharts-text-outline\").all_text_contents()"
   ]
  },
  {
   "cell_type": "code",
   "execution_count": 29,
   "id": "37bc2f36",
   "metadata": {},
   "outputs": [
    {
     "data": {
      "text/plain": [
       "['267\\u200b',\n",
       " '177\\u200b',\n",
       " '105\\u200b',\n",
       " '81\\u200b',\n",
       " '143\\u200b',\n",
       " '173\\u200b',\n",
       " '161\\u200b',\n",
       " '336\\u200b',\n",
       " '133\\u200b',\n",
       " '50\\u200b',\n",
       " '0\\u200b',\n",
       " '45\\u200b',\n",
       " '223\\u200b',\n",
       " '116\\u200b',\n",
       " '84\\u200b',\n",
       " '99\\u200b',\n",
       " '62\\u200b',\n",
       " '97\\u200b']"
      ]
     },
     "execution_count": 29,
     "metadata": {},
     "output_type": "execute_result"
    }
   ],
   "source": [
    "result"
   ]
  },
  {
   "cell_type": "code",
   "execution_count": 30,
   "id": "265370c0-e242-41c1-9180-66862e548dbf",
   "metadata": {},
   "outputs": [
    {
     "data": {
      "text/plain": [
       "['267',\n",
       " '177',\n",
       " '105',\n",
       " '81',\n",
       " '143',\n",
       " '173',\n",
       " '161',\n",
       " '336',\n",
       " '133',\n",
       " '50',\n",
       " '0',\n",
       " '45',\n",
       " '223',\n",
       " '116',\n",
       " '84',\n",
       " '99',\n",
       " '62',\n",
       " '97']"
      ]
     },
     "execution_count": 30,
     "metadata": {},
     "output_type": "execute_result"
    }
   ],
   "source": [
    "All = [element.replace(\"\\u200b\", \"\") for element in result]\n",
    "All"
   ]
  },
  {
   "cell_type": "code",
   "execution_count": 31,
   "id": "1d30cbfe",
   "metadata": {
    "scrolled": true
   },
   "outputs": [
    {
     "name": "stdout",
     "output_type": "stream",
     "text": [
      "267 105 143 161 133 0 223 84 62\n"
     ]
    }
   ],
   "source": [
    "print(All[0], All[2], All[4], All[6], All[8], All[10], All[12], All[14], All[16])"
   ]
  },
  {
   "cell_type": "code",
   "execution_count": 32,
   "id": "bd7f19f1",
   "metadata": {},
   "outputs": [],
   "source": [
    "major_cities_AQI = {}"
   ]
  },
  {
   "cell_type": "code",
   "execution_count": 33,
   "id": "e53ce782",
   "metadata": {},
   "outputs": [],
   "source": [
    "major_cities_AQI['Delhi'] = All[0]\n",
    "major_cities_AQI['Pune'] = All[2]\n",
    "major_cities_AQI['Mumbai'] =  All[4]\n",
    "major_cities_AQI['Kolkata'] = All[6]\n",
    "major_cities_AQI['Bengalore'] = All[8]\n",
    "major_cities_AQI['Lucknow'] = All[10]\n",
    "major_cities_AQI['Patna'] = All[12]\n",
    "major_cities_AQI['Hyderabad'] = All[14]\n",
    "major_cities_AQI['Ahmedabad'] = All[16]"
   ]
  },
  {
   "cell_type": "code",
   "execution_count": 34,
   "id": "cf2fcf8e",
   "metadata": {},
   "outputs": [
    {
     "data": {
      "text/plain": [
       "{'Delhi': '267',\n",
       " 'Pune': '105',\n",
       " 'Mumbai': '143',\n",
       " 'Kolkata': '161',\n",
       " 'Bengalore': '133',\n",
       " 'Lucknow': '0',\n",
       " 'Patna': '223',\n",
       " 'Hyderabad': '84',\n",
       " 'Ahmedabad': '62'}"
      ]
     },
     "execution_count": 34,
     "metadata": {},
     "output_type": "execute_result"
    }
   ],
   "source": [
    "major_cities_AQI"
   ]
  },
  {
   "cell_type": "code",
   "execution_count": 35,
   "id": "a2c8d6f5",
   "metadata": {},
   "outputs": [],
   "source": [
    "df = pd.DataFrame(major_cities_AQI, index=[\"AQI\"])"
   ]
  },
  {
   "cell_type": "code",
   "execution_count": 36,
   "id": "504c3704",
   "metadata": {},
   "outputs": [
    {
     "data": {
      "text/html": [
       "<div>\n",
       "<style scoped>\n",
       "    .dataframe tbody tr th:only-of-type {\n",
       "        vertical-align: middle;\n",
       "    }\n",
       "\n",
       "    .dataframe tbody tr th {\n",
       "        vertical-align: top;\n",
       "    }\n",
       "\n",
       "    .dataframe thead th {\n",
       "        text-align: right;\n",
       "    }\n",
       "</style>\n",
       "<table border=\"1\" class=\"dataframe\">\n",
       "  <thead>\n",
       "    <tr style=\"text-align: right;\">\n",
       "      <th></th>\n",
       "      <th>Delhi</th>\n",
       "      <th>Pune</th>\n",
       "      <th>Mumbai</th>\n",
       "      <th>Kolkata</th>\n",
       "      <th>Bengalore</th>\n",
       "      <th>Lucknow</th>\n",
       "      <th>Patna</th>\n",
       "      <th>Hyderabad</th>\n",
       "      <th>Ahmedabad</th>\n",
       "    </tr>\n",
       "  </thead>\n",
       "  <tbody>\n",
       "    <tr>\n",
       "      <th>AQI</th>\n",
       "      <td>267</td>\n",
       "      <td>105</td>\n",
       "      <td>143</td>\n",
       "      <td>161</td>\n",
       "      <td>133</td>\n",
       "      <td>0</td>\n",
       "      <td>223</td>\n",
       "      <td>84</td>\n",
       "      <td>62</td>\n",
       "    </tr>\n",
       "  </tbody>\n",
       "</table>\n",
       "</div>"
      ],
      "text/plain": [
       "    Delhi Pune Mumbai Kolkata Bengalore Lucknow Patna Hyderabad Ahmedabad\n",
       "AQI   267  105    143     161       133       0   223        84        62"
      ]
     },
     "execution_count": 36,
     "metadata": {},
     "output_type": "execute_result"
    }
   ],
   "source": [
    "df"
   ]
  },
  {
   "cell_type": "code",
   "execution_count": 37,
   "id": "e69af142",
   "metadata": {},
   "outputs": [],
   "source": [
    "df.to_csv(\"major_cities_aqi.csv\", index=False)"
   ]
  },
  {
   "cell_type": "code",
   "execution_count": 38,
   "id": "a1c833fa",
   "metadata": {},
   "outputs": [
    {
     "data": {
      "text/html": [
       "<div>\n",
       "<style scoped>\n",
       "    .dataframe tbody tr th:only-of-type {\n",
       "        vertical-align: middle;\n",
       "    }\n",
       "\n",
       "    .dataframe tbody tr th {\n",
       "        vertical-align: top;\n",
       "    }\n",
       "\n",
       "    .dataframe thead th {\n",
       "        text-align: right;\n",
       "    }\n",
       "</style>\n",
       "<table border=\"1\" class=\"dataframe\">\n",
       "  <thead>\n",
       "    <tr style=\"text-align: right;\">\n",
       "      <th></th>\n",
       "      <th>Delhi</th>\n",
       "      <th>Pune</th>\n",
       "      <th>Mumbai</th>\n",
       "      <th>Kolkata</th>\n",
       "      <th>Bengalore</th>\n",
       "      <th>Lucknow</th>\n",
       "      <th>Patna</th>\n",
       "      <th>Hyderabad</th>\n",
       "      <th>Ahmedabad</th>\n",
       "    </tr>\n",
       "  </thead>\n",
       "  <tbody>\n",
       "    <tr>\n",
       "      <th>0</th>\n",
       "      <td>267</td>\n",
       "      <td>105</td>\n",
       "      <td>143</td>\n",
       "      <td>161</td>\n",
       "      <td>133</td>\n",
       "      <td>0</td>\n",
       "      <td>223</td>\n",
       "      <td>84</td>\n",
       "      <td>62</td>\n",
       "    </tr>\n",
       "  </tbody>\n",
       "</table>\n",
       "</div>"
      ],
      "text/plain": [
       "   Delhi  Pune  Mumbai  Kolkata  Bengalore  Lucknow  Patna  Hyderabad  \\\n",
       "0    267   105     143      161        133        0    223         84   \n",
       "\n",
       "   Ahmedabad  \n",
       "0         62  "
      ]
     },
     "execution_count": 38,
     "metadata": {},
     "output_type": "execute_result"
    }
   ],
   "source": [
    "pd.read_csv(\"major_cities_aqi.csv\")"
   ]
  },
  {
   "cell_type": "markdown",
   "id": "0e891a72",
   "metadata": {},
   "source": [
    "# New York"
   ]
  },
  {
   "cell_type": "code",
   "execution_count": 31,
   "id": "97e9f75e",
   "metadata": {},
   "outputs": [],
   "source": [
    "import pandas as pd\n",
    "import asyncio\n",
    "from playwright.async_api import async_playwright\n",
    "playwright = await async_playwright().start()\n",
    "browser = await playwright.chromium.launch(headless = False)\n",
    "page = await browser.new_page()"
   ]
  },
  {
   "cell_type": "code",
   "execution_count": 32,
   "id": "e52999c9",
   "metadata": {},
   "outputs": [],
   "source": [
    "url = \"https://docs.airnowapi.org/feeds\""
   ]
  },
  {
   "cell_type": "code",
   "execution_count": 33,
   "id": "fa815bf7",
   "metadata": {},
   "outputs": [
    {
     "data": {
      "text/plain": [
       "<Response url='https://docs.airnowapi.org/login;jsessionid=9DC7BC26893BAB081F1CB70A7754A4B8?index=' request=<Request url='https://docs.airnowapi.org/login;jsessionid=9DC7BC26893BAB081F1CB70A7754A4B8?index=' method='GET'>>"
      ]
     },
     "execution_count": 33,
     "metadata": {},
     "output_type": "execute_result"
    }
   ],
   "source": [
    "await page.goto(url)"
   ]
  },
  {
   "cell_type": "code",
   "execution_count": 40,
   "id": "6493d933",
   "metadata": {},
   "outputs": [],
   "source": [
    "await page.get_by_label(\"User Name:\").fill(\"shalaka\")"
   ]
  },
  {
   "cell_type": "code",
   "execution_count": 41,
   "id": "82df63e9",
   "metadata": {},
   "outputs": [],
   "source": [
    "await page.get_by_label(\"Password:\").fill(\"Data@2023\")"
   ]
  },
  {
   "cell_type": "code",
   "execution_count": 44,
   "id": "262bf36a",
   "metadata": {},
   "outputs": [],
   "source": [
    "await page.get_by_role(\"button\").click()"
   ]
  },
  {
   "cell_type": "code",
   "execution_count": 58,
   "id": "ba32299f",
   "metadata": {},
   "outputs": [
    {
     "data": {
      "text/plain": [
       "['NY']"
      ]
     },
     "execution_count": 58,
     "metadata": {},
     "output_type": "execute_result"
    }
   ],
   "source": [
    "await page.locator(\"#code\").select_option(\"NY\")"
   ]
  },
  {
   "cell_type": "code",
   "execution_count": 61,
   "id": "de50c3fa",
   "metadata": {},
   "outputs": [],
   "source": [
    "await page.get_by_role(\"button\", name=\"Go\").click()"
   ]
  },
  {
   "cell_type": "code",
   "execution_count": 69,
   "id": "d5a77418",
   "metadata": {},
   "outputs": [
    {
     "ename": "TimeoutError",
     "evalue": "Timeout 30000ms exceeded.\n=========================== logs ===========================\nwaiting for locator(\"New York City Region\")\n============================================================",
     "output_type": "error",
     "traceback": [
      "\u001b[0;31m---------------------------------------------------------------------------\u001b[0m",
      "\u001b[0;31mTimeoutError\u001b[0m                              Traceback (most recent call last)",
      "Cell \u001b[0;32mIn [69], line 1\u001b[0m\n\u001b[0;32m----> 1\u001b[0m \u001b[38;5;28;01mawait\u001b[39;00m page\u001b[38;5;241m.\u001b[39minner_text(\u001b[38;5;124m\"\u001b[39m\u001b[38;5;124mNew York City Region\u001b[39m\u001b[38;5;124m\"\u001b[39m)\n",
      "File \u001b[0;32m~/.pyenv/versions/3.11.0rc2/lib/python3.11/site-packages/playwright/async_api/_generated.py:9662\u001b[0m, in \u001b[0;36mPage.inner_text\u001b[0;34m(self, selector, strict, timeout)\u001b[0m\n\u001b[1;32m   9633\u001b[0m \u001b[38;5;28;01masync\u001b[39;00m \u001b[38;5;28;01mdef\u001b[39;00m \u001b[38;5;21minner_text\u001b[39m(\n\u001b[1;32m   9634\u001b[0m     \u001b[38;5;28mself\u001b[39m,\n\u001b[1;32m   9635\u001b[0m     selector: \u001b[38;5;28mstr\u001b[39m,\n\u001b[0;32m   (...)\u001b[0m\n\u001b[1;32m   9638\u001b[0m     timeout: typing\u001b[38;5;241m.\u001b[39mOptional[\u001b[38;5;28mfloat\u001b[39m] \u001b[38;5;241m=\u001b[39m \u001b[38;5;28;01mNone\u001b[39;00m\n\u001b[1;32m   9639\u001b[0m ) \u001b[38;5;241m-\u001b[39m\u001b[38;5;241m>\u001b[39m \u001b[38;5;28mstr\u001b[39m:\n\u001b[1;32m   9640\u001b[0m     \u001b[38;5;124;03m\"\"\"Page.inner_text\u001b[39;00m\n\u001b[1;32m   9641\u001b[0m \n\u001b[1;32m   9642\u001b[0m \u001b[38;5;124;03m    Returns `element.innerText`.\u001b[39;00m\n\u001b[0;32m   (...)\u001b[0m\n\u001b[1;32m   9658\u001b[0m \u001b[38;5;124;03m    str\u001b[39;00m\n\u001b[1;32m   9659\u001b[0m \u001b[38;5;124;03m    \"\"\"\u001b[39;00m\n\u001b[1;32m   9661\u001b[0m     \u001b[38;5;28;01mreturn\u001b[39;00m mapping\u001b[38;5;241m.\u001b[39mfrom_maybe_impl(\n\u001b[0;32m-> 9662\u001b[0m         \u001b[38;5;28;01mawait\u001b[39;00m \u001b[38;5;28mself\u001b[39m\u001b[38;5;241m.\u001b[39m_impl_obj\u001b[38;5;241m.\u001b[39minner_text(\n\u001b[1;32m   9663\u001b[0m             selector\u001b[38;5;241m=\u001b[39mselector, strict\u001b[38;5;241m=\u001b[39mstrict, timeout\u001b[38;5;241m=\u001b[39mtimeout\n\u001b[1;32m   9664\u001b[0m         )\n\u001b[1;32m   9665\u001b[0m     )\n",
      "File \u001b[0;32m~/.pyenv/versions/3.11.0rc2/lib/python3.11/site-packages/playwright/_impl/_page.py:820\u001b[0m, in \u001b[0;36mPage.inner_text\u001b[0;34m(self, selector, strict, timeout)\u001b[0m\n\u001b[1;32m    817\u001b[0m \u001b[38;5;28;01masync\u001b[39;00m \u001b[38;5;28;01mdef\u001b[39;00m \u001b[38;5;21minner_text\u001b[39m(\n\u001b[1;32m    818\u001b[0m     \u001b[38;5;28mself\u001b[39m, selector: \u001b[38;5;28mstr\u001b[39m, strict: \u001b[38;5;28mbool\u001b[39m \u001b[38;5;241m=\u001b[39m \u001b[38;5;28;01mNone\u001b[39;00m, timeout: \u001b[38;5;28mfloat\u001b[39m \u001b[38;5;241m=\u001b[39m \u001b[38;5;28;01mNone\u001b[39;00m\n\u001b[1;32m    819\u001b[0m ) \u001b[38;5;241m-\u001b[39m\u001b[38;5;241m>\u001b[39m \u001b[38;5;28mstr\u001b[39m:\n\u001b[0;32m--> 820\u001b[0m     \u001b[38;5;28;01mreturn\u001b[39;00m \u001b[38;5;28;01mawait\u001b[39;00m \u001b[38;5;28mself\u001b[39m\u001b[38;5;241m.\u001b[39m_main_frame\u001b[38;5;241m.\u001b[39minner_text(\u001b[38;5;241m*\u001b[39m\u001b[38;5;241m*\u001b[39mlocals_to_params(\u001b[38;5;28mlocals\u001b[39m()))\n",
      "File \u001b[0;32m~/.pyenv/versions/3.11.0rc2/lib/python3.11/site-packages/playwright/_impl/_frame.py:610\u001b[0m, in \u001b[0;36mFrame.inner_text\u001b[0;34m(self, selector, strict, timeout)\u001b[0m\n\u001b[1;32m    607\u001b[0m \u001b[38;5;28;01masync\u001b[39;00m \u001b[38;5;28;01mdef\u001b[39;00m \u001b[38;5;21minner_text\u001b[39m(\n\u001b[1;32m    608\u001b[0m     \u001b[38;5;28mself\u001b[39m, selector: \u001b[38;5;28mstr\u001b[39m, strict: \u001b[38;5;28mbool\u001b[39m \u001b[38;5;241m=\u001b[39m \u001b[38;5;28;01mNone\u001b[39;00m, timeout: \u001b[38;5;28mfloat\u001b[39m \u001b[38;5;241m=\u001b[39m \u001b[38;5;28;01mNone\u001b[39;00m\n\u001b[1;32m    609\u001b[0m ) \u001b[38;5;241m-\u001b[39m\u001b[38;5;241m>\u001b[39m \u001b[38;5;28mstr\u001b[39m:\n\u001b[0;32m--> 610\u001b[0m     \u001b[38;5;28;01mreturn\u001b[39;00m \u001b[38;5;28;01mawait\u001b[39;00m \u001b[38;5;28mself\u001b[39m\u001b[38;5;241m.\u001b[39m_channel\u001b[38;5;241m.\u001b[39msend(\u001b[38;5;124m\"\u001b[39m\u001b[38;5;124minnerText\u001b[39m\u001b[38;5;124m\"\u001b[39m, locals_to_params(\u001b[38;5;28mlocals\u001b[39m()))\n",
      "File \u001b[0;32m~/.pyenv/versions/3.11.0rc2/lib/python3.11/site-packages/playwright/_impl/_connection.py:44\u001b[0m, in \u001b[0;36mChannel.send\u001b[0;34m(self, method, params)\u001b[0m\n\u001b[1;32m     43\u001b[0m \u001b[38;5;28;01masync\u001b[39;00m \u001b[38;5;28;01mdef\u001b[39;00m \u001b[38;5;21msend\u001b[39m(\u001b[38;5;28mself\u001b[39m, method: \u001b[38;5;28mstr\u001b[39m, params: Dict \u001b[38;5;241m=\u001b[39m \u001b[38;5;28;01mNone\u001b[39;00m) \u001b[38;5;241m-\u001b[39m\u001b[38;5;241m>\u001b[39m Any:\n\u001b[0;32m---> 44\u001b[0m     \u001b[38;5;28;01mreturn\u001b[39;00m \u001b[38;5;28;01mawait\u001b[39;00m \u001b[38;5;28mself\u001b[39m\u001b[38;5;241m.\u001b[39m_connection\u001b[38;5;241m.\u001b[39mwrap_api_call(\n\u001b[1;32m     45\u001b[0m         \u001b[38;5;28;01mlambda\u001b[39;00m: \u001b[38;5;28mself\u001b[39m\u001b[38;5;241m.\u001b[39minner_send(method, params, \u001b[38;5;28;01mFalse\u001b[39;00m)\n\u001b[1;32m     46\u001b[0m     )\n",
      "File \u001b[0;32m~/.pyenv/versions/3.11.0rc2/lib/python3.11/site-packages/playwright/_impl/_connection.py:419\u001b[0m, in \u001b[0;36mConnection.wrap_api_call\u001b[0;34m(self, cb, is_internal)\u001b[0m\n\u001b[1;32m    417\u001b[0m     \u001b[38;5;28mself\u001b[39m\u001b[38;5;241m.\u001b[39m_api_zone\u001b[38;5;241m.\u001b[39mset(metadata)\n\u001b[1;32m    418\u001b[0m \u001b[38;5;28;01mtry\u001b[39;00m:\n\u001b[0;32m--> 419\u001b[0m     \u001b[38;5;28;01mreturn\u001b[39;00m \u001b[38;5;28;01mawait\u001b[39;00m cb()\n\u001b[1;32m    420\u001b[0m \u001b[38;5;28;01mfinally\u001b[39;00m:\n\u001b[1;32m    421\u001b[0m     \u001b[38;5;28mself\u001b[39m\u001b[38;5;241m.\u001b[39m_api_zone\u001b[38;5;241m.\u001b[39mset(\u001b[38;5;28;01mNone\u001b[39;00m)\n",
      "File \u001b[0;32m~/.pyenv/versions/3.11.0rc2/lib/python3.11/site-packages/playwright/_impl/_connection.py:79\u001b[0m, in \u001b[0;36mChannel.inner_send\u001b[0;34m(self, method, params, return_as_dict)\u001b[0m\n\u001b[1;32m     77\u001b[0m \u001b[38;5;28;01mif\u001b[39;00m \u001b[38;5;129;01mnot\u001b[39;00m callback\u001b[38;5;241m.\u001b[39mfuture\u001b[38;5;241m.\u001b[39mdone():\n\u001b[1;32m     78\u001b[0m     callback\u001b[38;5;241m.\u001b[39mfuture\u001b[38;5;241m.\u001b[39mcancel()\n\u001b[0;32m---> 79\u001b[0m result \u001b[38;5;241m=\u001b[39m \u001b[38;5;28mnext\u001b[39m(\u001b[38;5;28miter\u001b[39m(done))\u001b[38;5;241m.\u001b[39mresult()\n\u001b[1;32m     80\u001b[0m \u001b[38;5;66;03m# Protocol now has named return values, assume result is one level deeper unless\u001b[39;00m\n\u001b[1;32m     81\u001b[0m \u001b[38;5;66;03m# there is explicit ambiguity.\u001b[39;00m\n\u001b[1;32m     82\u001b[0m \u001b[38;5;28;01mif\u001b[39;00m \u001b[38;5;129;01mnot\u001b[39;00m result:\n",
      "\u001b[0;31mTimeoutError\u001b[0m: Timeout 30000ms exceeded.\n=========================== logs ===========================\nwaiting for locator(\"New York City Region\")\n============================================================"
     ]
    }
   ],
   "source": [
    "await page.inner_text(\"New York City Region\")"
   ]
  },
  {
   "cell_type": "code",
   "execution_count": null,
   "id": "f093dcf9",
   "metadata": {},
   "outputs": [],
   "source": []
  }
 ],
 "metadata": {
  "kernelspec": {
   "display_name": "Python (myenv)",
   "language": "python",
   "name": "myenv"
  },
  "language_info": {
   "codemirror_mode": {
    "name": "ipython",
    "version": 3
   },
   "file_extension": ".py",
   "mimetype": "text/x-python",
   "name": "python",
   "nbconvert_exporter": "python",
   "pygments_lexer": "ipython3",
   "version": "3.11.9"
  },
  "vscode": {
   "interpreter": {
    "hash": "b0fa6594d8f4cbf19f97940f81e996739fb7646882a419484c72d19e05852a7e"
   }
  }
 },
 "nbformat": 4,
 "nbformat_minor": 5
}
