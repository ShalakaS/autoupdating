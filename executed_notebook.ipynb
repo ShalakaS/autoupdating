{
 "cells": [
  {
   "cell_type": "code",
   "execution_count": 1,
   "id": "df35fa10-763b-45b2-b97a-c4839007a9d5",
   "metadata": {
    "execution": {
     "iopub.execute_input": "2025-03-26T13:03:21.599953Z",
     "iopub.status.busy": "2025-03-26T13:03:21.599459Z",
     "iopub.status.idle": "2025-03-26T13:03:22.232810Z",
     "shell.execute_reply": "2025-03-26T13:03:22.232234Z"
    }
   },
   "outputs": [],
   "source": [
    "import requests\n",
    "import re\n",
    "import pandas as pd\n",
    "from datetime import datetime\n",
    "import pdfplumber\n",
    "import certifi\n",
    "import sys\n",
    "import folium\n",
    "from folium.plugins import HeatMap\n",
    "import googlemaps\n",
    "import pytz\n",
    "from dotenv import load_dotenv\n",
    "import os"
   ]
  },
  {
   "cell_type": "code",
   "execution_count": 2,
   "id": "05d798bc-5c67-4451-afcc-a9763efc974b",
   "metadata": {
    "execution": {
     "iopub.execute_input": "2025-03-26T13:03:22.235109Z",
     "iopub.status.busy": "2025-03-26T13:03:22.234673Z",
     "iopub.status.idle": "2025-03-26T13:03:22.240847Z",
     "shell.execute_reply": "2025-03-26T13:03:22.240313Z"
    }
   },
   "outputs": [
    {
     "data": {
      "text/plain": [
       "False"
      ]
     },
     "execution_count": 2,
     "metadata": {},
     "output_type": "execute_result"
    }
   ],
   "source": [
    "load_dotenv()"
   ]
  },
  {
   "cell_type": "code",
   "execution_count": 3,
   "id": "cda0db2d-2998-4180-894f-f0a4a4216394",
   "metadata": {
    "execution": {
     "iopub.execute_input": "2025-03-26T13:03:22.242906Z",
     "iopub.status.busy": "2025-03-26T13:03:22.242538Z",
     "iopub.status.idle": "2025-03-26T13:03:22.258408Z",
     "shell.execute_reply": "2025-03-26T13:03:22.257946Z"
    }
   },
   "outputs": [
    {
     "data": {
      "text/plain": [
       "'20250326'"
      ]
     },
     "execution_count": 3,
     "metadata": {},
     "output_type": "execute_result"
    }
   ],
   "source": [
    "time_zone = pytz.timezone('Asia/Kolkata')\n",
    "date = datetime.now(time_zone).strftime(\"%Y%m%d\")\n",
    "date"
   ]
  },
  {
   "cell_type": "code",
   "execution_count": 4,
   "id": "9a8e0d85-ec36-458b-a6aa-d6afa36de260",
   "metadata": {
    "execution": {
     "iopub.execute_input": "2025-03-26T13:03:22.260117Z",
     "iopub.status.busy": "2025-03-26T13:03:22.259938Z",
     "iopub.status.idle": "2025-03-26T13:03:22.263011Z",
     "shell.execute_reply": "2025-03-26T13:03:22.262311Z"
    }
   },
   "outputs": [],
   "source": [
    "# date = '20250322'"
   ]
  },
  {
   "cell_type": "code",
   "execution_count": 5,
   "id": "785d4ca3-6b04-47dd-b5ca-497861fb2b7c",
   "metadata": {
    "execution": {
     "iopub.execute_input": "2025-03-26T13:03:22.264701Z",
     "iopub.status.busy": "2025-03-26T13:03:22.264535Z",
     "iopub.status.idle": "2025-03-26T13:03:22.267540Z",
     "shell.execute_reply": "2025-03-26T13:03:22.266970Z"
    }
   },
   "outputs": [],
   "source": [
    "time = datetime.now(time_zone).strftime(\"%H:%M:%S\")"
   ]
  },
  {
   "cell_type": "code",
   "execution_count": 6,
   "id": "54e8231d-1c78-465c-ab15-9f3c9001bd65",
   "metadata": {
    "execution": {
     "iopub.execute_input": "2025-03-26T13:03:22.269188Z",
     "iopub.status.busy": "2025-03-26T13:03:22.269019Z",
     "iopub.status.idle": "2025-03-26T13:03:22.271985Z",
     "shell.execute_reply": "2025-03-26T13:03:22.271398Z"
    }
   },
   "outputs": [],
   "source": [
    "url = f'https://cpcb.nic.in//upload/Downloads/AQI_Bulletin_{date}.pdf'"
   ]
  },
  {
   "cell_type": "code",
   "execution_count": 7,
   "id": "a64a93dc-2aba-47f6-901d-c07dee819f52",
   "metadata": {
    "execution": {
     "iopub.execute_input": "2025-03-26T13:03:22.273650Z",
     "iopub.status.busy": "2025-03-26T13:03:22.273360Z",
     "iopub.status.idle": "2025-03-26T13:03:24.209577Z",
     "shell.execute_reply": "2025-03-26T13:03:24.209070Z"
    }
   },
   "outputs": [
    {
     "name": "stdout",
     "output_type": "stream",
     "text": [
      "Download successful.\n"
     ]
    }
   ],
   "source": [
    "response = requests.get(url, headers={\"User-Agent\": \"Mozilla/5.0\"}, verify=certifi.where())\n",
    "\n",
    "if response.status_code == 200:\n",
    "    with open(f\"AQI_Bulletin_{date}.pdf\", \"wb\") as f:\n",
    "        f.write(response.content)\n",
    "    print(\"Download successful.\")\n",
    "else:\n",
    "    print(\"Failed to download:\", response.status_code)"
   ]
  },
  {
   "cell_type": "code",
   "execution_count": 8,
   "id": "06efcb47-a867-4e95-8df0-de5ed0d0ad1c",
   "metadata": {
    "execution": {
     "iopub.execute_input": "2025-03-26T13:03:24.211379Z",
     "iopub.status.busy": "2025-03-26T13:03:24.211098Z",
     "iopub.status.idle": "2025-03-26T13:03:24.214106Z",
     "shell.execute_reply": "2025-03-26T13:03:24.213522Z"
    }
   },
   "outputs": [],
   "source": [
    "daily_doc = f'AQI_Bulletin_{date}.pdf'"
   ]
  },
  {
   "cell_type": "code",
   "execution_count": 9,
   "id": "75527bb6-7687-47b4-87e1-b7812fe080a9",
   "metadata": {
    "execution": {
     "iopub.execute_input": "2025-03-26T13:03:24.215819Z",
     "iopub.status.busy": "2025-03-26T13:03:24.215536Z",
     "iopub.status.idle": "2025-03-26T13:03:25.069507Z",
     "shell.execute_reply": "2025-03-26T13:03:25.068850Z"
    }
   },
   "outputs": [],
   "source": [
    "if daily_doc:\n",
    "    tables = []\n",
    "    with pdfplumber.open(daily_doc) as pdf:\n",
    "        for page in pdf.pages[:-1]:\n",
    "            extracted_tables = page.extract_tables()\n",
    "            # print(extracted_tables[0])\n",
    "            tables.extend(extracted_tables)"
   ]
  },
  {
   "cell_type": "code",
   "execution_count": 10,
   "id": "c20c5755-dec4-4918-a7be-ee9870e5302f",
   "metadata": {
    "execution": {
     "iopub.execute_input": "2025-03-26T13:03:25.071755Z",
     "iopub.status.busy": "2025-03-26T13:03:25.071563Z",
     "iopub.status.idle": "2025-03-26T13:03:25.074940Z",
     "shell.execute_reply": "2025-03-26T13:03:25.074323Z"
    }
   },
   "outputs": [],
   "source": [
    "clean_tables = []\n",
    "for table in tables:\n",
    "    table_wihtout_headers = table[1:]\n",
    "    clean_tables.append(table_wihtout_headers)"
   ]
  },
  {
   "cell_type": "code",
   "execution_count": 11,
   "id": "bb3bf321-f0b4-4066-80b2-6fa4fb547169",
   "metadata": {
    "execution": {
     "iopub.execute_input": "2025-03-26T13:03:25.077081Z",
     "iopub.status.busy": "2025-03-26T13:03:25.076566Z",
     "iopub.status.idle": "2025-03-26T13:03:25.082273Z",
     "shell.execute_reply": "2025-03-26T13:03:25.081663Z"
    }
   },
   "outputs": [],
   "source": [
    "df_list = []\n",
    "for each_table in clean_tables:\n",
    "    df = pd.DataFrame(each_table)\n",
    "    df_list.append(df)"
   ]
  },
  {
   "cell_type": "code",
   "execution_count": 12,
   "id": "22d95c34-ceff-4728-945c-d3f72323b765",
   "metadata": {
    "execution": {
     "iopub.execute_input": "2025-03-26T13:03:25.084201Z",
     "iopub.status.busy": "2025-03-26T13:03:25.083872Z",
     "iopub.status.idle": "2025-03-26T13:03:25.087484Z",
     "shell.execute_reply": "2025-03-26T13:03:25.086881Z"
    }
   },
   "outputs": [],
   "source": [
    "df_combined = pd.concat(df_list, ignore_index=True)\n",
    "df_combined.columns = tables[0][0]"
   ]
  },
  {
   "cell_type": "code",
   "execution_count": 13,
   "id": "9fdb1891-7849-4831-ae59-214062c3aa0e",
   "metadata": {
    "execution": {
     "iopub.execute_input": "2025-03-26T13:03:25.089386Z",
     "iopub.status.busy": "2025-03-26T13:03:25.089062Z",
     "iopub.status.idle": "2025-03-26T13:03:25.092733Z",
     "shell.execute_reply": "2025-03-26T13:03:25.092178Z"
    }
   },
   "outputs": [],
   "source": [
    "df = df_combined.drop(columns=['S.No', 'Prominent Pollutant', 'No. of Stations\\nParticipated/\\nTotal Stations'])"
   ]
  },
  {
   "cell_type": "code",
   "execution_count": 14,
   "id": "2988aebe-c589-4f7a-8689-371f6fbff1c4",
   "metadata": {
    "execution": {
     "iopub.execute_input": "2025-03-26T13:03:25.094473Z",
     "iopub.status.busy": "2025-03-26T13:03:25.094210Z",
     "iopub.status.idle": "2025-03-26T13:03:25.098022Z",
     "shell.execute_reply": "2025-03-26T13:03:25.097534Z"
    }
   },
   "outputs": [],
   "source": [
    "df.columns = df.columns.str.replace(\"\\n\", \"\").str.replace(\" \",\"_\")"
   ]
  },
  {
   "cell_type": "code",
   "execution_count": 15,
   "id": "98de0784-0938-459e-a1cb-a735ca771785",
   "metadata": {
    "execution": {
     "iopub.execute_input": "2025-03-26T13:03:25.099783Z",
     "iopub.status.busy": "2025-03-26T13:03:25.099477Z",
     "iopub.status.idle": "2025-03-26T13:03:25.102957Z",
     "shell.execute_reply": "2025-03-26T13:03:25.102328Z"
    }
   },
   "outputs": [],
   "source": [
    "df['IndexValue'] = df['IndexValue'].astype(int)"
   ]
  },
  {
   "cell_type": "code",
   "execution_count": 16,
   "id": "2ccb929c-ddba-4428-9a6f-21154b27c9d2",
   "metadata": {
    "execution": {
     "iopub.execute_input": "2025-03-26T13:03:25.104645Z",
     "iopub.status.busy": "2025-03-26T13:03:25.104327Z",
     "iopub.status.idle": "2025-03-26T13:03:25.107339Z",
     "shell.execute_reply": "2025-03-26T13:03:25.106729Z"
    }
   },
   "outputs": [],
   "source": [
    "API_KEY = os.getenv(\"GOOGLE_API_KEY\")"
   ]
  },
  {
   "cell_type": "code",
   "execution_count": 17,
   "id": "eb50974e-3251-42f3-aff4-f95c8eb99938",
   "metadata": {
    "execution": {
     "iopub.execute_input": "2025-03-26T13:03:25.109108Z",
     "iopub.status.busy": "2025-03-26T13:03:25.108760Z",
     "iopub.status.idle": "2025-03-26T13:03:25.111872Z",
     "shell.execute_reply": "2025-03-26T13:03:25.111255Z"
    }
   },
   "outputs": [],
   "source": [
    "gmaps = googlemaps.Client(key=API_KEY)"
   ]
  },
  {
   "cell_type": "code",
   "execution_count": 18,
   "id": "b492a1f4-8f7b-4e81-bd89-4e689c462aee",
   "metadata": {
    "execution": {
     "iopub.execute_input": "2025-03-26T13:03:25.113667Z",
     "iopub.status.busy": "2025-03-26T13:03:25.113355Z",
     "iopub.status.idle": "2025-03-26T13:03:43.727777Z",
     "shell.execute_reply": "2025-03-26T13:03:43.727244Z"
    }
   },
   "outputs": [],
   "source": [
    "# Function to get state using reverse geocoding\n",
    "def get_state(city):\n",
    "    try:\n",
    "        geocode_result = gmaps.geocode(f\"{city}, India\")\n",
    "        for component in geocode_result[0]['address_components']:\n",
    "            if 'administrative_area_level_1' in component['types']:\n",
    "                return component['long_name']\n",
    "    except Exception as e:\n",
    "        return None\n",
    "\n",
    "df[\"State\"] = df[\"City\"].apply(get_state)"
   ]
  },
  {
   "cell_type": "code",
   "execution_count": 19,
   "id": "2d22fdf2-07d8-4568-abe1-ee0e33f90b5a",
   "metadata": {
    "execution": {
     "iopub.execute_input": "2025-03-26T13:03:43.729892Z",
     "iopub.status.busy": "2025-03-26T13:03:43.729533Z",
     "iopub.status.idle": "2025-03-26T13:03:43.738333Z",
     "shell.execute_reply": "2025-03-26T13:03:43.737810Z"
    }
   },
   "outputs": [
    {
     "data": {
      "text/html": [
       "<div>\n",
       "<style scoped>\n",
       "    .dataframe tbody tr th:only-of-type {\n",
       "        vertical-align: middle;\n",
       "    }\n",
       "\n",
       "    .dataframe tbody tr th {\n",
       "        vertical-align: top;\n",
       "    }\n",
       "\n",
       "    .dataframe thead th {\n",
       "        text-align: right;\n",
       "    }\n",
       "</style>\n",
       "<table border=\"1\" class=\"dataframe\">\n",
       "  <thead>\n",
       "    <tr style=\"text-align: right;\">\n",
       "      <th></th>\n",
       "      <th>City</th>\n",
       "      <th>Air_Quality</th>\n",
       "      <th>IndexValue</th>\n",
       "      <th>State</th>\n",
       "    </tr>\n",
       "  </thead>\n",
       "  <tbody>\n",
       "    <tr>\n",
       "      <th>51</th>\n",
       "      <td>Byrnihat</td>\n",
       "      <td>Very Poor</td>\n",
       "      <td>335</td>\n",
       "      <td>Meghalaya</td>\n",
       "    </tr>\n",
       "    <tr>\n",
       "      <th>85</th>\n",
       "      <td>Ghaziabad</td>\n",
       "      <td>Very Poor</td>\n",
       "      <td>312</td>\n",
       "      <td>Uttar Pradesh</td>\n",
       "    </tr>\n",
       "    <tr>\n",
       "      <th>158</th>\n",
       "      <td>Nalbari</td>\n",
       "      <td>Very Poor</td>\n",
       "      <td>304</td>\n",
       "      <td>Assam</td>\n",
       "    </tr>\n",
       "    <tr>\n",
       "      <th>0</th>\n",
       "      <td>Agartala</td>\n",
       "      <td>Poor</td>\n",
       "      <td>299</td>\n",
       "      <td>Tripura</td>\n",
       "    </tr>\n",
       "    <tr>\n",
       "      <th>21</th>\n",
       "      <td>Baghpat</td>\n",
       "      <td>Poor</td>\n",
       "      <td>297</td>\n",
       "      <td>Uttar Pradesh</td>\n",
       "    </tr>\n",
       "    <tr>\n",
       "      <th>92</th>\n",
       "      <td>Hajipur</td>\n",
       "      <td>Poor</td>\n",
       "      <td>284</td>\n",
       "      <td>Bihar</td>\n",
       "    </tr>\n",
       "    <tr>\n",
       "      <th>50</th>\n",
       "      <td>Byasanagar</td>\n",
       "      <td>Poor</td>\n",
       "      <td>283</td>\n",
       "      <td>Odisha</td>\n",
       "    </tr>\n",
       "    <tr>\n",
       "      <th>89</th>\n",
       "      <td>Gurugram</td>\n",
       "      <td>Poor</td>\n",
       "      <td>263</td>\n",
       "      <td>Haryana</td>\n",
       "    </tr>\n",
       "    <tr>\n",
       "      <th>3</th>\n",
       "      <td>Ahmednagar</td>\n",
       "      <td>Poor</td>\n",
       "      <td>261</td>\n",
       "      <td>Maharashtra</td>\n",
       "    </tr>\n",
       "    <tr>\n",
       "      <th>55</th>\n",
       "      <td>Charkhi Dadri</td>\n",
       "      <td>Poor</td>\n",
       "      <td>259</td>\n",
       "      <td>Haryana</td>\n",
       "    </tr>\n",
       "    <tr>\n",
       "      <th>90</th>\n",
       "      <td>Guwahati</td>\n",
       "      <td>Poor</td>\n",
       "      <td>256</td>\n",
       "      <td>Assam</td>\n",
       "    </tr>\n",
       "    <tr>\n",
       "      <th>202</th>\n",
       "      <td>Siwan</td>\n",
       "      <td>Poor</td>\n",
       "      <td>251</td>\n",
       "      <td>Bihar</td>\n",
       "    </tr>\n",
       "    <tr>\n",
       "      <th>148</th>\n",
       "      <td>Motihari</td>\n",
       "      <td>Poor</td>\n",
       "      <td>233</td>\n",
       "      <td>Bihar</td>\n",
       "    </tr>\n",
       "    <tr>\n",
       "      <th>70</th>\n",
       "      <td>Delhi</td>\n",
       "      <td>Poor</td>\n",
       "      <td>231</td>\n",
       "      <td>Delhi</td>\n",
       "    </tr>\n",
       "    <tr>\n",
       "      <th>168</th>\n",
       "      <td>Patna</td>\n",
       "      <td>Poor</td>\n",
       "      <td>219</td>\n",
       "      <td>Bihar</td>\n",
       "    </tr>\n",
       "    <tr>\n",
       "      <th>48</th>\n",
       "      <td>Bulandshahr</td>\n",
       "      <td>Poor</td>\n",
       "      <td>219</td>\n",
       "      <td>Uttar Pradesh</td>\n",
       "    </tr>\n",
       "    <tr>\n",
       "      <th>54</th>\n",
       "      <td>Chandrapur</td>\n",
       "      <td>Poor</td>\n",
       "      <td>212</td>\n",
       "      <td>Maharashtra</td>\n",
       "    </tr>\n",
       "    <tr>\n",
       "      <th>144</th>\n",
       "      <td>Meerut</td>\n",
       "      <td>Poor</td>\n",
       "      <td>212</td>\n",
       "      <td>Uttar Pradesh</td>\n",
       "    </tr>\n",
       "    <tr>\n",
       "      <th>134</th>\n",
       "      <td>Lucknow</td>\n",
       "      <td>Poor</td>\n",
       "      <td>202</td>\n",
       "      <td>Uttar Pradesh</td>\n",
       "    </tr>\n",
       "    <tr>\n",
       "      <th>142</th>\n",
       "      <td>Mandideep</td>\n",
       "      <td>Poor</td>\n",
       "      <td>202</td>\n",
       "      <td>Madhya Pradesh</td>\n",
       "    </tr>\n",
       "  </tbody>\n",
       "</table>\n",
       "</div>"
      ],
      "text/plain": [
       "              City Air_Quality  IndexValue           State\n",
       "51        Byrnihat   Very Poor         335       Meghalaya\n",
       "85       Ghaziabad   Very Poor         312   Uttar Pradesh\n",
       "158        Nalbari   Very Poor         304           Assam\n",
       "0         Agartala        Poor         299         Tripura\n",
       "21         Baghpat        Poor         297   Uttar Pradesh\n",
       "92         Hajipur        Poor         284           Bihar\n",
       "50      Byasanagar        Poor         283          Odisha\n",
       "89        Gurugram        Poor         263         Haryana\n",
       "3       Ahmednagar        Poor         261     Maharashtra\n",
       "55   Charkhi Dadri        Poor         259         Haryana\n",
       "90        Guwahati        Poor         256           Assam\n",
       "202          Siwan        Poor         251           Bihar\n",
       "148       Motihari        Poor         233           Bihar\n",
       "70           Delhi        Poor         231           Delhi\n",
       "168          Patna        Poor         219           Bihar\n",
       "48     Bulandshahr        Poor         219   Uttar Pradesh\n",
       "54      Chandrapur        Poor         212     Maharashtra\n",
       "144         Meerut        Poor         212   Uttar Pradesh\n",
       "134        Lucknow        Poor         202   Uttar Pradesh\n",
       "142      Mandideep        Poor         202  Madhya Pradesh"
      ]
     },
     "execution_count": 19,
     "metadata": {},
     "output_type": "execute_result"
    }
   ],
   "source": [
    "df.sort_values(by='IndexValue', ascending=False).head(20)#.to_csv('daily_aqi.csv', index=False)"
   ]
  },
  {
   "cell_type": "code",
   "execution_count": 20,
   "id": "e6911dee-d043-4309-a9d0-23bcea75657c",
   "metadata": {
    "execution": {
     "iopub.execute_input": "2025-03-26T13:03:43.740186Z",
     "iopub.status.busy": "2025-03-26T13:03:43.740016Z",
     "iopub.status.idle": "2025-03-26T13:03:43.744261Z",
     "shell.execute_reply": "2025-03-26T13:03:43.743695Z"
    }
   },
   "outputs": [],
   "source": [
    "# Function to geocode addresses\n",
    "def geocode_google(address):\n",
    "    try:\n",
    "        geocode_result = gmaps.geocode(address)\n",
    "        if geocode_result:\n",
    "            location = geocode_result[0]['geometry']['location']\n",
    "            return pd.Series([location['lat'], location['lng']])\n",
    "        else:\n",
    "            return pd.Series([None, None])\n",
    "    except Exception as e:\n",
    "        return pd.Series([None, None])"
   ]
  },
  {
   "cell_type": "code",
   "execution_count": 21,
   "id": "564ed777-ae4f-45da-9319-b4cc7eace32f",
   "metadata": {
    "execution": {
     "iopub.execute_input": "2025-03-26T13:03:43.746134Z",
     "iopub.status.busy": "2025-03-26T13:03:43.745784Z",
     "iopub.status.idle": "2025-03-26T13:03:56.992353Z",
     "shell.execute_reply": "2025-03-26T13:03:56.991812Z"
    }
   },
   "outputs": [],
   "source": [
    "# Apply geocoding function to the DataFrame\n",
    "df[['Latitude', 'Longitude']] = df['City'].apply(geocode_google)"
   ]
  },
  {
   "cell_type": "code",
   "execution_count": 22,
   "id": "ab2f5d77-6e43-4b91-8419-d44b166326ff",
   "metadata": {
    "execution": {
     "iopub.execute_input": "2025-03-26T13:03:56.994439Z",
     "iopub.status.busy": "2025-03-26T13:03:56.994112Z",
     "iopub.status.idle": "2025-03-26T13:03:56.997316Z",
     "shell.execute_reply": "2025-03-26T13:03:56.996756Z"
    }
   },
   "outputs": [],
   "source": [
    "df['date'] = date"
   ]
  },
  {
   "cell_type": "code",
   "execution_count": 23,
   "id": "0c9380cf-e95b-419c-a059-f7d451f64713",
   "metadata": {
    "execution": {
     "iopub.execute_input": "2025-03-26T13:03:56.998947Z",
     "iopub.status.busy": "2025-03-26T13:03:56.998764Z",
     "iopub.status.idle": "2025-03-26T13:04:07.600626Z",
     "shell.execute_reply": "2025-03-26T13:04:07.600089Z"
    },
    "scrolled": true
   },
   "outputs": [],
   "source": [
    "if len(df[df['Latitude'].isna()]['City']) > 0:\n",
    "    df[['Latitude', 'Longitude']] = df['City'].apply(geocode_google)"
   ]
  },
  {
   "cell_type": "code",
   "execution_count": 24,
   "id": "c3a07744-243c-40e8-be52-9537b39b587e",
   "metadata": {
    "execution": {
     "iopub.execute_input": "2025-03-26T13:04:07.602532Z",
     "iopub.status.busy": "2025-03-26T13:04:07.602363Z",
     "iopub.status.idle": "2025-03-26T13:04:07.607114Z",
     "shell.execute_reply": "2025-03-26T13:04:07.606534Z"
    }
   },
   "outputs": [
    {
     "data": {
      "text/plain": [
       "4"
      ]
     },
     "execution_count": 24,
     "metadata": {},
     "output_type": "execute_result"
    }
   ],
   "source": [
    "len(df[df['Latitude'].isna()]['City'])"
   ]
  },
  {
   "cell_type": "code",
   "execution_count": 25,
   "id": "108f3cc9-869b-44e4-9d57-ab4e670a5bb8",
   "metadata": {
    "execution": {
     "iopub.execute_input": "2025-03-26T13:04:07.608875Z",
     "iopub.status.busy": "2025-03-26T13:04:07.608530Z",
     "iopub.status.idle": "2025-03-26T13:04:07.612876Z",
     "shell.execute_reply": "2025-03-26T13:04:07.612255Z"
    }
   },
   "outputs": [],
   "source": [
    "if len(df[df['Latitude'].isna()]['City']) > 0:\n",
    "    df['Latitude'] = df['Latitude'].fillna('0')\n",
    "    df['Longitude'] = df['Longitude'].fillna('0')"
   ]
  },
  {
   "cell_type": "code",
   "execution_count": 26,
   "id": "8d1ef039-c623-44c2-9fc0-67c88a850dca",
   "metadata": {
    "execution": {
     "iopub.execute_input": "2025-03-26T13:04:07.614627Z",
     "iopub.status.busy": "2025-03-26T13:04:07.614317Z",
     "iopub.status.idle": "2025-03-26T13:04:07.618732Z",
     "shell.execute_reply": "2025-03-26T13:04:07.618160Z"
    }
   },
   "outputs": [
    {
     "data": {
      "text/plain": [
       "0"
      ]
     },
     "execution_count": 26,
     "metadata": {},
     "output_type": "execute_result"
    }
   ],
   "source": [
    "len(df[df['Latitude'].isna()]['City']) "
   ]
  },
  {
   "cell_type": "code",
   "execution_count": 27,
   "id": "4d8a8a15-d69f-4ed2-9dcd-c8022403c593",
   "metadata": {
    "execution": {
     "iopub.execute_input": "2025-03-26T13:04:07.620548Z",
     "iopub.status.busy": "2025-03-26T13:04:07.620235Z",
     "iopub.status.idle": "2025-03-26T13:04:07.749369Z",
     "shell.execute_reply": "2025-03-26T13:04:07.748821Z"
    }
   },
   "outputs": [],
   "source": [
    "with pdfplumber.open(daily_doc) as pdf:\n",
    "    last_page_text = pdf.pages[-1].extract_text()"
   ]
  },
  {
   "cell_type": "code",
   "execution_count": 28,
   "id": "4b3d87b6-5da5-45a6-a0a5-08acf306e663",
   "metadata": {
    "execution": {
     "iopub.execute_input": "2025-03-26T13:04:07.751400Z",
     "iopub.status.busy": "2025-03-26T13:04:07.751121Z",
     "iopub.status.idle": "2025-03-26T13:04:07.754233Z",
     "shell.execute_reply": "2025-03-26T13:04:07.753614Z"
    }
   },
   "outputs": [],
   "source": [
    "text = last_page_text.replace(\"\\n\", \" \")"
   ]
  },
  {
   "cell_type": "code",
   "execution_count": 29,
   "id": "acd01d31-8423-468e-95a2-86fc20cdf394",
   "metadata": {
    "execution": {
     "iopub.execute_input": "2025-03-26T13:04:07.755838Z",
     "iopub.status.busy": "2025-03-26T13:04:07.755659Z",
     "iopub.status.idle": "2025-03-26T13:04:07.758562Z",
     "shell.execute_reply": "2025-03-26T13:04:07.757996Z"
    }
   },
   "outputs": [],
   "source": [
    "list_of_no_data_cities = text.split(\":\")[1].split(\",\")"
   ]
  },
  {
   "cell_type": "code",
   "execution_count": 30,
   "id": "8a955366-b3d9-4f61-9fc3-14c6b8c34b9d",
   "metadata": {
    "execution": {
     "iopub.execute_input": "2025-03-26T13:04:07.760369Z",
     "iopub.status.busy": "2025-03-26T13:04:07.759982Z",
     "iopub.status.idle": "2025-03-26T13:04:07.762950Z",
     "shell.execute_reply": "2025-03-26T13:04:07.762505Z"
    }
   },
   "outputs": [],
   "source": [
    "no_data_cities = []\n",
    "for each_city in list_of_no_data_cities:\n",
    "    city_name = each_city.split(\")\")[1].strip()\n",
    "    no_data_cities.append(city_name)"
   ]
  },
  {
   "cell_type": "code",
   "execution_count": 31,
   "id": "27be2af5-1f94-44b9-9e58-f25ff0d81791",
   "metadata": {
    "execution": {
     "iopub.execute_input": "2025-03-26T13:04:07.764868Z",
     "iopub.status.busy": "2025-03-26T13:04:07.764338Z",
     "iopub.status.idle": "2025-03-26T13:04:14.569291Z",
     "shell.execute_reply": "2025-03-26T13:04:14.568734Z"
    }
   },
   "outputs": [],
   "source": [
    "geocoded_no_data_cities = []\n",
    "for each_city in no_data_cities:\n",
    "    no_data_city_dict = {}\n",
    "    no_data_city_dict['city'] = each_city \n",
    "    no_data_city_dict['lat'] = geocode_google(each_city)[0]\n",
    "    no_data_city_dict['long'] = geocode_google(each_city)[1]\n",
    "    geocoded_no_data_cities.append(no_data_city_dict)"
   ]
  },
  {
   "cell_type": "code",
   "execution_count": 32,
   "id": "a0462a2b-c69b-433e-866e-2d72965f7e01",
   "metadata": {
    "execution": {
     "iopub.execute_input": "2025-03-26T13:04:14.571380Z",
     "iopub.status.busy": "2025-03-26T13:04:14.571039Z",
     "iopub.status.idle": "2025-03-26T13:04:18.611506Z",
     "shell.execute_reply": "2025-03-26T13:04:18.610974Z"
    }
   },
   "outputs": [],
   "source": [
    "df_no_data = pd.DataFrame(geocoded_no_data_cities)\n",
    "df_no_data['state'] = df_no_data['city'].apply(get_state)"
   ]
  },
  {
   "cell_type": "code",
   "execution_count": 33,
   "id": "48bdd438-1b03-4a1b-b2d0-7b5c69f3be34",
   "metadata": {
    "execution": {
     "iopub.execute_input": "2025-03-26T13:04:18.613547Z",
     "iopub.status.busy": "2025-03-26T13:04:18.613220Z",
     "iopub.status.idle": "2025-03-26T13:04:18.616285Z",
     "shell.execute_reply": "2025-03-26T13:04:18.615828Z"
    }
   },
   "outputs": [],
   "source": [
    "df_no_data['date'] = date"
   ]
  },
  {
   "cell_type": "code",
   "execution_count": 34,
   "id": "7fe69ef7-58bf-4628-8d6c-0b7d7bda9474",
   "metadata": {
    "execution": {
     "iopub.execute_input": "2025-03-26T13:04:18.618049Z",
     "iopub.status.busy": "2025-03-26T13:04:18.617637Z",
     "iopub.status.idle": "2025-03-26T13:04:18.621188Z",
     "shell.execute_reply": "2025-03-26T13:04:18.620615Z"
    }
   },
   "outputs": [],
   "source": [
    "if len(df_no_data[df_no_data['lat'].isna()]) > 0:\n",
    "    df_no_data['city'].apply(geocode_google)"
   ]
  },
  {
   "cell_type": "code",
   "execution_count": 35,
   "id": "89086515-d835-4e93-aaac-76ef94e7fc12",
   "metadata": {
    "execution": {
     "iopub.execute_input": "2025-03-26T13:04:18.623053Z",
     "iopub.status.busy": "2025-03-26T13:04:18.622740Z",
     "iopub.status.idle": "2025-03-26T13:04:18.626039Z",
     "shell.execute_reply": "2025-03-26T13:04:18.625492Z"
    }
   },
   "outputs": [],
   "source": [
    "if len(df_no_data[df_no_data['lat'].isna()]) > 0:\n",
    "    df_no_data['lat'] = df_no_data['lat'].fillna('0')\n",
    "    df_no_data['long'] = df_no_data['long'].fillna('0')"
   ]
  },
  {
   "cell_type": "code",
   "execution_count": 36,
   "id": "a3c28d6d-85fd-412a-b018-67c62e1d280a",
   "metadata": {
    "execution": {
     "iopub.execute_input": "2025-03-26T13:04:18.627854Z",
     "iopub.status.busy": "2025-03-26T13:04:18.627546Z",
     "iopub.status.idle": "2025-03-26T13:04:18.631883Z",
     "shell.execute_reply": "2025-03-26T13:04:18.631328Z"
    }
   },
   "outputs": [],
   "source": [
    "df_no_data.to_csv('no_data_cities.csv', index=False)"
   ]
  },
  {
   "cell_type": "code",
   "execution_count": 37,
   "id": "ba75d3bf-8a6d-4c2c-81c1-e7703a09c759",
   "metadata": {
    "execution": {
     "iopub.execute_input": "2025-03-26T13:04:18.633725Z",
     "iopub.status.busy": "2025-03-26T13:04:18.633395Z",
     "iopub.status.idle": "2025-03-26T13:04:18.659511Z",
     "shell.execute_reply": "2025-03-26T13:04:18.659066Z"
    }
   },
   "outputs": [],
   "source": [
    "# Create base map\n",
    "m1 = folium.Map(location=[22.9734, 78.6569], zoom_start=4.5)\n",
    "\n",
    "map_date = pd.to_datetime(df['date'].iloc[0]).strftime(\"%B %d, %Y\")  # Optional formatting\n",
    "\n",
    "# Define map center\n",
    "map_center = [33.9734, 78.6569]\n",
    "\n",
    "heat_data = [[row['Latitude'], row['Longitude'], row['IndexValue']] for index, row in df.iterrows()]\n",
    "HeatMap(heat_data, radius=13, blur=10, max_zoom=4.5).add_to(m1)\n",
    "\n",
    "folium.map.Marker(\n",
    "    [33.5, 78],  # Approximate location to place annotation (adjust as needed)\n",
    "    icon=folium.DivIcon(html=\"\"\"\n",
    "        <div style=\"position: absolute; top: 10px; left: 10px; font-size: 12px; font-weight: bold; \n",
    "                    background: rgba(255, 255, 255, 0.5); padding: 2px; border-radius: 1px; \n",
    "                    border: 1px solid; white-space: nowrap; z-index:9999;\">\n",
    "            Zoom in at area of interest\n",
    "        </div>\n",
    "    \"\"\")\n",
    ").add_to(m1)\n",
    "\n",
    "folium.map.Marker(\n",
    "    map_center,\n",
    "    icon=folium.DivIcon(html=f\"\"\"\n",
    "        <div style=\"text-align: center; font-size: 12px; min-width: 120px; font-weight: bold; \n",
    "                    background: rgba(255, 255, 255, 0.3); padding: 0px 0px; border-radius: 1px; \n",
    "                    border: 1px solid; z-index:9999;\">\n",
    "            {map_date}\n",
    "        </div>\n",
    "    \"\"\")\n",
    ").add_to(m1)\n",
    "\n",
    "m1.save(f\"daily_map_{date}.html\")"
   ]
  },
  {
   "cell_type": "code",
   "execution_count": 38,
   "id": "892eb9a7-4270-4102-9786-9bc0e54602ba",
   "metadata": {
    "execution": {
     "iopub.execute_input": "2025-03-26T13:04:18.661265Z",
     "iopub.status.busy": "2025-03-26T13:04:18.660916Z",
     "iopub.status.idle": "2025-03-26T13:04:18.664593Z",
     "shell.execute_reply": "2025-03-26T13:04:18.664044Z"
    }
   },
   "outputs": [],
   "source": [
    "with open(f\"daily_map_{date}.html\", \"r\") as source_file:\n",
    "    content = source_file.read()\n",
    "\n",
    "with open(\"daily_map.html\", \"w\") as target_file:\n",
    "    target_file.write(content)"
   ]
  },
  {
   "cell_type": "code",
   "execution_count": 39,
   "id": "c816e227-fa01-4b0a-b571-76c9b1c52fbc",
   "metadata": {
    "execution": {
     "iopub.execute_input": "2025-03-26T13:04:18.666432Z",
     "iopub.status.busy": "2025-03-26T13:04:18.666105Z",
     "iopub.status.idle": "2025-03-26T13:04:18.756480Z",
     "shell.execute_reply": "2025-03-26T13:04:18.755999Z"
    }
   },
   "outputs": [],
   "source": [
    "# Create a base map centered around India\n",
    "m2 = folium.Map(location=[22.9734, 78.9629], zoom_start=4.5)\n",
    "\n",
    "# Add markers with city names as labels\n",
    "for _, row in df_no_data.iterrows():\n",
    "    folium.Marker(\n",
    "        location=[row[\"lat\"], row[\"long\"]],\n",
    "        popup=folium.Popup(row[\"city\"], parse_html=True),\n",
    "        icon=folium.Icon(color=\"red\", icon=\"flag\")\n",
    "    ).add_to(m2)\n",
    "\n",
    "folium.map.Marker(\n",
    "    [33.5, 78],  # Approximate location to place annotation (adjust as needed)\n",
    "    icon=folium.DivIcon(html=\"\"\"\n",
    "        <div style=\"position: absolute; top: 10px; left: 10px; font-size: 12px; font-weight: bold; \n",
    "                    background: rgba(255, 255, 255, 0.5); padding: 2px; border-radius: 1px; \n",
    "                    border: 1px solid; white-space: nowrap; z-index:9999;\">\n",
    "            Zoom in at area of interest\n",
    "        </div>\n",
    "    \"\"\")\n",
    ").add_to(m2)\n",
    "\n",
    "folium.map.Marker(\n",
    "    map_center,\n",
    "    icon=folium.DivIcon(html=f\"\"\"\n",
    "        <div style=\"text-align: center; font-size: 12px; min-width: 120px; font-weight: bold; \n",
    "                    background: rgba(255, 255, 255, 0.3); padding: 0px 0px; border-radius: 1px; \n",
    "                    border: 1px solid; z-index:9999;\">\n",
    "            {map_date}\n",
    "        </div>\n",
    "    \"\"\")\n",
    ").add_to(m2)\n",
    "\n",
    "# Display the map\n",
    "m2.save(f\"no_data_map_{date}.html\")"
   ]
  },
  {
   "cell_type": "code",
   "execution_count": 40,
   "id": "30ed4797-7823-4294-95c1-f0f6b6c23dcb",
   "metadata": {
    "execution": {
     "iopub.execute_input": "2025-03-26T13:04:18.758517Z",
     "iopub.status.busy": "2025-03-26T13:04:18.758333Z",
     "iopub.status.idle": "2025-03-26T13:04:18.762171Z",
     "shell.execute_reply": "2025-03-26T13:04:18.761665Z"
    }
   },
   "outputs": [],
   "source": [
    "with open(f\"no_data_map_{date}.html\", \"r\") as source_file:\n",
    "    content = source_file.read()\n",
    "\n",
    "with open(\"no_data_map.html\", \"w\") as target_file:\n",
    "    target_file.write(content)"
   ]
  },
  {
   "cell_type": "code",
   "execution_count": null,
   "id": "31ed98a2-6622-4d5b-9c38-147adbb6803f",
   "metadata": {},
   "outputs": [],
   "source": []
  }
 ],
 "metadata": {
  "kernelspec": {
   "display_name": "python3.11",
   "language": "python",
   "name": "python3.11"
  },
  "language_info": {
   "codemirror_mode": {
    "name": "ipython",
    "version": 3
   },
   "file_extension": ".py",
   "mimetype": "text/x-python",
   "name": "python",
   "nbconvert_exporter": "python",
   "pygments_lexer": "ipython3",
   "version": "3.11.11"
  }
 },
 "nbformat": 4,
 "nbformat_minor": 5
}
