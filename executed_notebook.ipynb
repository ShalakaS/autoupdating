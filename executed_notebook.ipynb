{
 "cells": [
  {
   "cell_type": "code",
   "execution_count": 1,
   "id": "df35fa10-763b-45b2-b97a-c4839007a9d5",
   "metadata": {
    "execution": {
     "iopub.execute_input": "2025-03-27T13:02:46.757710Z",
     "iopub.status.busy": "2025-03-27T13:02:46.757540Z",
     "iopub.status.idle": "2025-03-27T13:02:47.450873Z",
     "shell.execute_reply": "2025-03-27T13:02:47.450320Z"
    }
   },
   "outputs": [],
   "source": [
    "import requests\n",
    "import re\n",
    "import pandas as pd\n",
    "from datetime import datetime\n",
    "import pdfplumber\n",
    "import certifi\n",
    "import sys\n",
    "import folium\n",
    "from folium.plugins import HeatMap\n",
    "import googlemaps\n",
    "import pytz\n",
    "from dotenv import load_dotenv\n",
    "import os"
   ]
  },
  {
   "cell_type": "code",
   "execution_count": 2,
   "id": "05d798bc-5c67-4451-afcc-a9763efc974b",
   "metadata": {
    "execution": {
     "iopub.execute_input": "2025-03-27T13:02:47.452912Z",
     "iopub.status.busy": "2025-03-27T13:02:47.452683Z",
     "iopub.status.idle": "2025-03-27T13:02:47.459882Z",
     "shell.execute_reply": "2025-03-27T13:02:47.459186Z"
    }
   },
   "outputs": [
    {
     "data": {
      "text/plain": [
       "False"
      ]
     },
     "execution_count": 2,
     "metadata": {},
     "output_type": "execute_result"
    }
   ],
   "source": [
    "load_dotenv()"
   ]
  },
  {
   "cell_type": "code",
   "execution_count": 3,
   "id": "cda0db2d-2998-4180-894f-f0a4a4216394",
   "metadata": {
    "execution": {
     "iopub.execute_input": "2025-03-27T13:02:47.461691Z",
     "iopub.status.busy": "2025-03-27T13:02:47.461299Z",
     "iopub.status.idle": "2025-03-27T13:02:47.476182Z",
     "shell.execute_reply": "2025-03-27T13:02:47.475734Z"
    }
   },
   "outputs": [
    {
     "data": {
      "text/plain": [
       "'20250327'"
      ]
     },
     "execution_count": 3,
     "metadata": {},
     "output_type": "execute_result"
    }
   ],
   "source": [
    "time_zone = pytz.timezone('Asia/Kolkata')\n",
    "date = datetime.now(time_zone).strftime(\"%Y%m%d\")\n",
    "date"
   ]
  },
  {
   "cell_type": "code",
   "execution_count": 4,
   "id": "9a8e0d85-ec36-458b-a6aa-d6afa36de260",
   "metadata": {
    "execution": {
     "iopub.execute_input": "2025-03-27T13:02:47.477877Z",
     "iopub.status.busy": "2025-03-27T13:02:47.477532Z",
     "iopub.status.idle": "2025-03-27T13:02:47.480308Z",
     "shell.execute_reply": "2025-03-27T13:02:47.479718Z"
    }
   },
   "outputs": [],
   "source": [
    "# date = '20250322'"
   ]
  },
  {
   "cell_type": "code",
   "execution_count": 5,
   "id": "785d4ca3-6b04-47dd-b5ca-497861fb2b7c",
   "metadata": {
    "execution": {
     "iopub.execute_input": "2025-03-27T13:02:47.482044Z",
     "iopub.status.busy": "2025-03-27T13:02:47.481715Z",
     "iopub.status.idle": "2025-03-27T13:02:47.484647Z",
     "shell.execute_reply": "2025-03-27T13:02:47.484168Z"
    }
   },
   "outputs": [],
   "source": [
    "time = datetime.now(time_zone).strftime(\"%H:%M:%S\")"
   ]
  },
  {
   "cell_type": "code",
   "execution_count": 6,
   "id": "54e8231d-1c78-465c-ab15-9f3c9001bd65",
   "metadata": {
    "execution": {
     "iopub.execute_input": "2025-03-27T13:02:47.486323Z",
     "iopub.status.busy": "2025-03-27T13:02:47.485996Z",
     "iopub.status.idle": "2025-03-27T13:02:47.488785Z",
     "shell.execute_reply": "2025-03-27T13:02:47.488325Z"
    }
   },
   "outputs": [],
   "source": [
    "url = f'https://cpcb.nic.in//upload/Downloads/AQI_Bulletin_{date}.pdf'"
   ]
  },
  {
   "cell_type": "code",
   "execution_count": 7,
   "id": "a64a93dc-2aba-47f6-901d-c07dee819f52",
   "metadata": {
    "execution": {
     "iopub.execute_input": "2025-03-27T13:02:47.490442Z",
     "iopub.status.busy": "2025-03-27T13:02:47.490121Z",
     "iopub.status.idle": "2025-03-27T13:02:49.045140Z",
     "shell.execute_reply": "2025-03-27T13:02:49.044568Z"
    }
   },
   "outputs": [
    {
     "name": "stdout",
     "output_type": "stream",
     "text": [
      "Download successful.\n"
     ]
    }
   ],
   "source": [
    "response = requests.get(url, headers={\"User-Agent\": \"Mozilla/5.0\"}, verify=certifi.where())\n",
    "\n",
    "if response.status_code == 200:\n",
    "    with open(f\"AQI_Bulletin_{date}.pdf\", \"wb\") as f:\n",
    "        f.write(response.content)\n",
    "    print(\"Download successful.\")\n",
    "else:\n",
    "    print(\"Failed to download:\", response.status_code)"
   ]
  },
  {
   "cell_type": "code",
   "execution_count": 8,
   "id": "06efcb47-a867-4e95-8df0-de5ed0d0ad1c",
   "metadata": {
    "execution": {
     "iopub.execute_input": "2025-03-27T13:02:49.047103Z",
     "iopub.status.busy": "2025-03-27T13:02:49.046700Z",
     "iopub.status.idle": "2025-03-27T13:02:49.049683Z",
     "shell.execute_reply": "2025-03-27T13:02:49.049164Z"
    }
   },
   "outputs": [],
   "source": [
    "daily_doc = f'AQI_Bulletin_{date}.pdf'"
   ]
  },
  {
   "cell_type": "code",
   "execution_count": 9,
   "id": "75527bb6-7687-47b4-87e1-b7812fe080a9",
   "metadata": {
    "execution": {
     "iopub.execute_input": "2025-03-27T13:02:49.051322Z",
     "iopub.status.busy": "2025-03-27T13:02:49.051139Z",
     "iopub.status.idle": "2025-03-27T13:02:49.911176Z",
     "shell.execute_reply": "2025-03-27T13:02:49.910635Z"
    }
   },
   "outputs": [],
   "source": [
    "if daily_doc:\n",
    "    tables = []\n",
    "    with pdfplumber.open(daily_doc) as pdf:\n",
    "        for page in pdf.pages[:-1]:\n",
    "            extracted_tables = page.extract_tables()\n",
    "            # print(extracted_tables[0])\n",
    "            tables.extend(extracted_tables)"
   ]
  },
  {
   "cell_type": "code",
   "execution_count": 10,
   "id": "c20c5755-dec4-4918-a7be-ee9870e5302f",
   "metadata": {
    "execution": {
     "iopub.execute_input": "2025-03-27T13:02:49.913088Z",
     "iopub.status.busy": "2025-03-27T13:02:49.912913Z",
     "iopub.status.idle": "2025-03-27T13:02:49.916131Z",
     "shell.execute_reply": "2025-03-27T13:02:49.915334Z"
    }
   },
   "outputs": [],
   "source": [
    "clean_tables = []\n",
    "for table in tables:\n",
    "    table_wihtout_headers = table[1:]\n",
    "    clean_tables.append(table_wihtout_headers)"
   ]
  },
  {
   "cell_type": "code",
   "execution_count": 11,
   "id": "bb3bf321-f0b4-4066-80b2-6fa4fb547169",
   "metadata": {
    "execution": {
     "iopub.execute_input": "2025-03-27T13:02:49.918353Z",
     "iopub.status.busy": "2025-03-27T13:02:49.918098Z",
     "iopub.status.idle": "2025-03-27T13:02:49.924483Z",
     "shell.execute_reply": "2025-03-27T13:02:49.923777Z"
    }
   },
   "outputs": [],
   "source": [
    "df_list = []\n",
    "for each_table in clean_tables:\n",
    "    df = pd.DataFrame(each_table)\n",
    "    df_list.append(df)"
   ]
  },
  {
   "cell_type": "code",
   "execution_count": 12,
   "id": "22d95c34-ceff-4728-945c-d3f72323b765",
   "metadata": {
    "execution": {
     "iopub.execute_input": "2025-03-27T13:02:49.926833Z",
     "iopub.status.busy": "2025-03-27T13:02:49.926419Z",
     "iopub.status.idle": "2025-03-27T13:02:49.930877Z",
     "shell.execute_reply": "2025-03-27T13:02:49.930309Z"
    }
   },
   "outputs": [],
   "source": [
    "df_combined = pd.concat(df_list, ignore_index=True)\n",
    "df_combined.columns = tables[0][0]"
   ]
  },
  {
   "cell_type": "code",
   "execution_count": 13,
   "id": "9fdb1891-7849-4831-ae59-214062c3aa0e",
   "metadata": {
    "execution": {
     "iopub.execute_input": "2025-03-27T13:02:49.932770Z",
     "iopub.status.busy": "2025-03-27T13:02:49.932432Z",
     "iopub.status.idle": "2025-03-27T13:02:49.936277Z",
     "shell.execute_reply": "2025-03-27T13:02:49.935665Z"
    }
   },
   "outputs": [],
   "source": [
    "df = df_combined.drop(columns=['S.No', 'Prominent Pollutant', 'No. of Stations\\nParticipated/\\nTotal Stations'])"
   ]
  },
  {
   "cell_type": "code",
   "execution_count": 14,
   "id": "2988aebe-c589-4f7a-8689-371f6fbff1c4",
   "metadata": {
    "execution": {
     "iopub.execute_input": "2025-03-27T13:02:49.937873Z",
     "iopub.status.busy": "2025-03-27T13:02:49.937706Z",
     "iopub.status.idle": "2025-03-27T13:02:49.941538Z",
     "shell.execute_reply": "2025-03-27T13:02:49.941031Z"
    }
   },
   "outputs": [],
   "source": [
    "df.columns = df.columns.str.replace(\"\\n\", \"\").str.replace(\" \",\"_\")"
   ]
  },
  {
   "cell_type": "code",
   "execution_count": 15,
   "id": "98de0784-0938-459e-a1cb-a735ca771785",
   "metadata": {
    "execution": {
     "iopub.execute_input": "2025-03-27T13:02:49.943411Z",
     "iopub.status.busy": "2025-03-27T13:02:49.942993Z",
     "iopub.status.idle": "2025-03-27T13:02:49.946358Z",
     "shell.execute_reply": "2025-03-27T13:02:49.945876Z"
    }
   },
   "outputs": [],
   "source": [
    "df['IndexValue'] = df['IndexValue'].astype(int)"
   ]
  },
  {
   "cell_type": "code",
   "execution_count": 16,
   "id": "2ccb929c-ddba-4428-9a6f-21154b27c9d2",
   "metadata": {
    "execution": {
     "iopub.execute_input": "2025-03-27T13:02:49.948084Z",
     "iopub.status.busy": "2025-03-27T13:02:49.947768Z",
     "iopub.status.idle": "2025-03-27T13:02:49.950480Z",
     "shell.execute_reply": "2025-03-27T13:02:49.950004Z"
    }
   },
   "outputs": [],
   "source": [
    "API_KEY = os.getenv(\"GOOGLE_API_KEY\")"
   ]
  },
  {
   "cell_type": "code",
   "execution_count": 17,
   "id": "eb50974e-3251-42f3-aff4-f95c8eb99938",
   "metadata": {
    "execution": {
     "iopub.execute_input": "2025-03-27T13:02:49.952106Z",
     "iopub.status.busy": "2025-03-27T13:02:49.951804Z",
     "iopub.status.idle": "2025-03-27T13:02:49.954759Z",
     "shell.execute_reply": "2025-03-27T13:02:49.954174Z"
    }
   },
   "outputs": [],
   "source": [
    "gmaps = googlemaps.Client(key=API_KEY)"
   ]
  },
  {
   "cell_type": "code",
   "execution_count": 18,
   "id": "b492a1f4-8f7b-4e81-bd89-4e689c462aee",
   "metadata": {
    "execution": {
     "iopub.execute_input": "2025-03-27T13:02:49.956360Z",
     "iopub.status.busy": "2025-03-27T13:02:49.956175Z",
     "iopub.status.idle": "2025-03-27T13:03:05.908743Z",
     "shell.execute_reply": "2025-03-27T13:03:05.908266Z"
    }
   },
   "outputs": [],
   "source": [
    "# Function to get state using reverse geocoding\n",
    "def get_state(city):\n",
    "    try:\n",
    "        geocode_result = gmaps.geocode(f\"{city}, India\")\n",
    "        for component in geocode_result[0]['address_components']:\n",
    "            if 'administrative_area_level_1' in component['types']:\n",
    "                return component['long_name']\n",
    "    except Exception as e:\n",
    "        return None\n",
    "\n",
    "df[\"State\"] = df[\"City\"].apply(get_state)"
   ]
  },
  {
   "cell_type": "code",
   "execution_count": 19,
   "id": "2d22fdf2-07d8-4568-abe1-ee0e33f90b5a",
   "metadata": {
    "execution": {
     "iopub.execute_input": "2025-03-27T13:03:05.910782Z",
     "iopub.status.busy": "2025-03-27T13:03:05.910442Z",
     "iopub.status.idle": "2025-03-27T13:03:05.921015Z",
     "shell.execute_reply": "2025-03-27T13:03:05.920567Z"
    }
   },
   "outputs": [
    {
     "data": {
      "text/html": [
       "<div>\n",
       "<style scoped>\n",
       "    .dataframe tbody tr th:only-of-type {\n",
       "        vertical-align: middle;\n",
       "    }\n",
       "\n",
       "    .dataframe tbody tr th {\n",
       "        vertical-align: top;\n",
       "    }\n",
       "\n",
       "    .dataframe thead th {\n",
       "        text-align: right;\n",
       "    }\n",
       "</style>\n",
       "<table border=\"1\" class=\"dataframe\">\n",
       "  <thead>\n",
       "    <tr style=\"text-align: right;\">\n",
       "      <th></th>\n",
       "      <th>City</th>\n",
       "      <th>Air_Quality</th>\n",
       "      <th>IndexValue</th>\n",
       "      <th>State</th>\n",
       "    </tr>\n",
       "  </thead>\n",
       "  <tbody>\n",
       "    <tr>\n",
       "      <th>96</th>\n",
       "      <td>Hajipur</td>\n",
       "      <td>Very Poor</td>\n",
       "      <td>328</td>\n",
       "      <td>Bihar</td>\n",
       "    </tr>\n",
       "    <tr>\n",
       "      <th>89</th>\n",
       "      <td>Ghaziabad</td>\n",
       "      <td>Very Poor</td>\n",
       "      <td>311</td>\n",
       "      <td>Uttar Pradesh</td>\n",
       "    </tr>\n",
       "    <tr>\n",
       "      <th>69</th>\n",
       "      <td>Cuttack</td>\n",
       "      <td>Poor</td>\n",
       "      <td>282</td>\n",
       "      <td>Odisha</td>\n",
       "    </tr>\n",
       "    <tr>\n",
       "      <th>93</th>\n",
       "      <td>Gurugram</td>\n",
       "      <td>Poor</td>\n",
       "      <td>274</td>\n",
       "      <td>Haryana</td>\n",
       "    </tr>\n",
       "    <tr>\n",
       "      <th>205</th>\n",
       "      <td>Sri Ganganagar</td>\n",
       "      <td>Poor</td>\n",
       "      <td>274</td>\n",
       "      <td>Rajasthan</td>\n",
       "    </tr>\n",
       "    <tr>\n",
       "      <th>23</th>\n",
       "      <td>Baghpat</td>\n",
       "      <td>Poor</td>\n",
       "      <td>273</td>\n",
       "      <td>Uttar Pradesh</td>\n",
       "    </tr>\n",
       "    <tr>\n",
       "      <th>160</th>\n",
       "      <td>Nalbari</td>\n",
       "      <td>Poor</td>\n",
       "      <td>263</td>\n",
       "      <td>Assam</td>\n",
       "    </tr>\n",
       "    <tr>\n",
       "      <th>136</th>\n",
       "      <td>Kunjemura</td>\n",
       "      <td>Poor</td>\n",
       "      <td>260</td>\n",
       "      <td>Chhattisgarh</td>\n",
       "    </tr>\n",
       "    <tr>\n",
       "      <th>74</th>\n",
       "      <td>Delhi</td>\n",
       "      <td>Poor</td>\n",
       "      <td>259</td>\n",
       "      <td>Delhi</td>\n",
       "    </tr>\n",
       "    <tr>\n",
       "      <th>18</th>\n",
       "      <td>Aurangabad (Bihar)</td>\n",
       "      <td>Poor</td>\n",
       "      <td>248</td>\n",
       "      <td>Bihar</td>\n",
       "    </tr>\n",
       "    <tr>\n",
       "      <th>94</th>\n",
       "      <td>Guwahati</td>\n",
       "      <td>Poor</td>\n",
       "      <td>247</td>\n",
       "      <td>Assam</td>\n",
       "    </tr>\n",
       "    <tr>\n",
       "      <th>201</th>\n",
       "      <td>Singrauli</td>\n",
       "      <td>Poor</td>\n",
       "      <td>243</td>\n",
       "      <td>Madhya Pradesh</td>\n",
       "    </tr>\n",
       "    <tr>\n",
       "      <th>55</th>\n",
       "      <td>Byrnihat</td>\n",
       "      <td>Poor</td>\n",
       "      <td>240</td>\n",
       "      <td>Meghalaya</td>\n",
       "    </tr>\n",
       "    <tr>\n",
       "      <th>149</th>\n",
       "      <td>Motihari</td>\n",
       "      <td>Poor</td>\n",
       "      <td>235</td>\n",
       "      <td>Bihar</td>\n",
       "    </tr>\n",
       "    <tr>\n",
       "      <th>82</th>\n",
       "      <td>Durgapur</td>\n",
       "      <td>Poor</td>\n",
       "      <td>234</td>\n",
       "      <td>West Bengal</td>\n",
       "    </tr>\n",
       "    <tr>\n",
       "      <th>171</th>\n",
       "      <td>Patna</td>\n",
       "      <td>Poor</td>\n",
       "      <td>229</td>\n",
       "      <td>Bihar</td>\n",
       "    </tr>\n",
       "    <tr>\n",
       "      <th>200</th>\n",
       "      <td>Siliguri</td>\n",
       "      <td>Poor</td>\n",
       "      <td>224</td>\n",
       "      <td>West Bengal</td>\n",
       "    </tr>\n",
       "    <tr>\n",
       "      <th>51</th>\n",
       "      <td>Bulandshahr</td>\n",
       "      <td>Poor</td>\n",
       "      <td>202</td>\n",
       "      <td>Uttar Pradesh</td>\n",
       "    </tr>\n",
       "    <tr>\n",
       "      <th>193</th>\n",
       "      <td>Sasaram</td>\n",
       "      <td>Poor</td>\n",
       "      <td>201</td>\n",
       "      <td>Bihar</td>\n",
       "    </tr>\n",
       "    <tr>\n",
       "      <th>12</th>\n",
       "      <td>Angul</td>\n",
       "      <td>Moderate</td>\n",
       "      <td>197</td>\n",
       "      <td>Odisha</td>\n",
       "    </tr>\n",
       "  </tbody>\n",
       "</table>\n",
       "</div>"
      ],
      "text/plain": [
       "                   City Air_Quality  IndexValue           State\n",
       "96              Hajipur   Very Poor         328           Bihar\n",
       "89            Ghaziabad   Very Poor         311   Uttar Pradesh\n",
       "69              Cuttack        Poor         282          Odisha\n",
       "93             Gurugram        Poor         274         Haryana\n",
       "205      Sri Ganganagar        Poor         274       Rajasthan\n",
       "23              Baghpat        Poor         273   Uttar Pradesh\n",
       "160             Nalbari        Poor         263           Assam\n",
       "136           Kunjemura        Poor         260    Chhattisgarh\n",
       "74                Delhi        Poor         259           Delhi\n",
       "18   Aurangabad (Bihar)        Poor         248           Bihar\n",
       "94             Guwahati        Poor         247           Assam\n",
       "201           Singrauli        Poor         243  Madhya Pradesh\n",
       "55             Byrnihat        Poor         240       Meghalaya\n",
       "149            Motihari        Poor         235           Bihar\n",
       "82             Durgapur        Poor         234     West Bengal\n",
       "171               Patna        Poor         229           Bihar\n",
       "200            Siliguri        Poor         224     West Bengal\n",
       "51          Bulandshahr        Poor         202   Uttar Pradesh\n",
       "193             Sasaram        Poor         201           Bihar\n",
       "12                Angul    Moderate         197          Odisha"
      ]
     },
     "execution_count": 19,
     "metadata": {},
     "output_type": "execute_result"
    }
   ],
   "source": [
    "df.sort_values(by='IndexValue', ascending=False).head(20)#.to_csv('daily_aqi.csv', index=False)"
   ]
  },
  {
   "cell_type": "code",
   "execution_count": 20,
   "id": "e6911dee-d043-4309-a9d0-23bcea75657c",
   "metadata": {
    "execution": {
     "iopub.execute_input": "2025-03-27T13:03:05.922775Z",
     "iopub.status.busy": "2025-03-27T13:03:05.922443Z",
     "iopub.status.idle": "2025-03-27T13:03:05.926264Z",
     "shell.execute_reply": "2025-03-27T13:03:05.925712Z"
    }
   },
   "outputs": [],
   "source": [
    "# Function to geocode addresses\n",
    "def geocode_google(address):\n",
    "    try:\n",
    "        geocode_result = gmaps.geocode(address)\n",
    "        if geocode_result:\n",
    "            location = geocode_result[0]['geometry']['location']\n",
    "            return pd.Series([location['lat'], location['lng']])\n",
    "        else:\n",
    "            return pd.Series([None, None])\n",
    "    except Exception as e:\n",
    "        return pd.Series([None, None])"
   ]
  },
  {
   "cell_type": "code",
   "execution_count": 21,
   "id": "564ed777-ae4f-45da-9319-b4cc7eace32f",
   "metadata": {
    "execution": {
     "iopub.execute_input": "2025-03-27T13:03:05.927832Z",
     "iopub.status.busy": "2025-03-27T13:03:05.927550Z",
     "iopub.status.idle": "2025-03-27T13:03:16.815447Z",
     "shell.execute_reply": "2025-03-27T13:03:16.814808Z"
    }
   },
   "outputs": [],
   "source": [
    "# Apply geocoding function to the DataFrame\n",
    "df[['Latitude', 'Longitude']] = df['City'].apply(geocode_google)"
   ]
  },
  {
   "cell_type": "code",
   "execution_count": 22,
   "id": "ab2f5d77-6e43-4b91-8419-d44b166326ff",
   "metadata": {
    "execution": {
     "iopub.execute_input": "2025-03-27T13:03:16.817588Z",
     "iopub.status.busy": "2025-03-27T13:03:16.817410Z",
     "iopub.status.idle": "2025-03-27T13:03:16.821017Z",
     "shell.execute_reply": "2025-03-27T13:03:16.820394Z"
    }
   },
   "outputs": [],
   "source": [
    "df['date'] = date"
   ]
  },
  {
   "cell_type": "code",
   "execution_count": 23,
   "id": "0c9380cf-e95b-419c-a059-f7d451f64713",
   "metadata": {
    "execution": {
     "iopub.execute_input": "2025-03-27T13:03:16.823436Z",
     "iopub.status.busy": "2025-03-27T13:03:16.822939Z",
     "iopub.status.idle": "2025-03-27T13:03:22.415293Z",
     "shell.execute_reply": "2025-03-27T13:03:22.414650Z"
    },
    "scrolled": true
   },
   "outputs": [],
   "source": [
    "if len(df[df['Latitude'].isna()]['City']) > 0:\n",
    "    df[['Latitude', 'Longitude']] = df['City'].apply(geocode_google)"
   ]
  },
  {
   "cell_type": "code",
   "execution_count": 24,
   "id": "c3a07744-243c-40e8-be52-9537b39b587e",
   "metadata": {
    "execution": {
     "iopub.execute_input": "2025-03-27T13:03:22.417417Z",
     "iopub.status.busy": "2025-03-27T13:03:22.417222Z",
     "iopub.status.idle": "2025-03-27T13:03:22.422015Z",
     "shell.execute_reply": "2025-03-27T13:03:22.421473Z"
    }
   },
   "outputs": [
    {
     "data": {
      "text/plain": [
       "4"
      ]
     },
     "execution_count": 24,
     "metadata": {},
     "output_type": "execute_result"
    }
   ],
   "source": [
    "len(df[df['Latitude'].isna()]['City'])"
   ]
  },
  {
   "cell_type": "code",
   "execution_count": 25,
   "id": "108f3cc9-869b-44e4-9d57-ab4e670a5bb8",
   "metadata": {
    "execution": {
     "iopub.execute_input": "2025-03-27T13:03:22.423762Z",
     "iopub.status.busy": "2025-03-27T13:03:22.423351Z",
     "iopub.status.idle": "2025-03-27T13:03:22.427703Z",
     "shell.execute_reply": "2025-03-27T13:03:22.427051Z"
    }
   },
   "outputs": [],
   "source": [
    "if len(df[df['Latitude'].isna()]['City']) > 0:\n",
    "    df['Latitude'] = df['Latitude'].fillna('0')\n",
    "    df['Longitude'] = df['Longitude'].fillna('0')"
   ]
  },
  {
   "cell_type": "code",
   "execution_count": 26,
   "id": "8d1ef039-c623-44c2-9fc0-67c88a850dca",
   "metadata": {
    "execution": {
     "iopub.execute_input": "2025-03-27T13:03:22.429535Z",
     "iopub.status.busy": "2025-03-27T13:03:22.429086Z",
     "iopub.status.idle": "2025-03-27T13:03:22.433381Z",
     "shell.execute_reply": "2025-03-27T13:03:22.432915Z"
    }
   },
   "outputs": [
    {
     "data": {
      "text/plain": [
       "0"
      ]
     },
     "execution_count": 26,
     "metadata": {},
     "output_type": "execute_result"
    }
   ],
   "source": [
    "len(df[df['Latitude'].isna()]['City']) "
   ]
  },
  {
   "cell_type": "code",
   "execution_count": 27,
   "id": "4d8a8a15-d69f-4ed2-9dcd-c8022403c593",
   "metadata": {
    "execution": {
     "iopub.execute_input": "2025-03-27T13:03:22.435119Z",
     "iopub.status.busy": "2025-03-27T13:03:22.434789Z",
     "iopub.status.idle": "2025-03-27T13:03:22.554821Z",
     "shell.execute_reply": "2025-03-27T13:03:22.554273Z"
    }
   },
   "outputs": [],
   "source": [
    "with pdfplumber.open(daily_doc) as pdf:\n",
    "    last_page_text = pdf.pages[-1].extract_text()"
   ]
  },
  {
   "cell_type": "code",
   "execution_count": 28,
   "id": "4b3d87b6-5da5-45a6-a0a5-08acf306e663",
   "metadata": {
    "execution": {
     "iopub.execute_input": "2025-03-27T13:03:22.556805Z",
     "iopub.status.busy": "2025-03-27T13:03:22.556533Z",
     "iopub.status.idle": "2025-03-27T13:03:22.559732Z",
     "shell.execute_reply": "2025-03-27T13:03:22.559170Z"
    }
   },
   "outputs": [],
   "source": [
    "text = last_page_text.replace(\"\\n\", \" \")"
   ]
  },
  {
   "cell_type": "code",
   "execution_count": 29,
   "id": "acd01d31-8423-468e-95a2-86fc20cdf394",
   "metadata": {
    "execution": {
     "iopub.execute_input": "2025-03-27T13:03:22.561323Z",
     "iopub.status.busy": "2025-03-27T13:03:22.561036Z",
     "iopub.status.idle": "2025-03-27T13:03:22.563984Z",
     "shell.execute_reply": "2025-03-27T13:03:22.563390Z"
    }
   },
   "outputs": [],
   "source": [
    "list_of_no_data_cities = text.split(\":\")[1].split(\",\")"
   ]
  },
  {
   "cell_type": "code",
   "execution_count": 30,
   "id": "8a955366-b3d9-4f61-9fc3-14c6b8c34b9d",
   "metadata": {
    "execution": {
     "iopub.execute_input": "2025-03-27T13:03:22.565688Z",
     "iopub.status.busy": "2025-03-27T13:03:22.565309Z",
     "iopub.status.idle": "2025-03-27T13:03:22.568379Z",
     "shell.execute_reply": "2025-03-27T13:03:22.567813Z"
    }
   },
   "outputs": [],
   "source": [
    "no_data_cities = []\n",
    "for each_city in list_of_no_data_cities:\n",
    "    city_name = each_city.split(\")\")[1].strip()\n",
    "    no_data_cities.append(city_name)"
   ]
  },
  {
   "cell_type": "code",
   "execution_count": 31,
   "id": "27be2af5-1f94-44b9-9e58-f25ff0d81791",
   "metadata": {
    "execution": {
     "iopub.execute_input": "2025-03-27T13:03:22.570191Z",
     "iopub.status.busy": "2025-03-27T13:03:22.569704Z",
     "iopub.status.idle": "2025-03-27T13:03:27.352998Z",
     "shell.execute_reply": "2025-03-27T13:03:27.352453Z"
    }
   },
   "outputs": [],
   "source": [
    "geocoded_no_data_cities = []\n",
    "for each_city in no_data_cities:\n",
    "    no_data_city_dict = {}\n",
    "    no_data_city_dict['city'] = each_city \n",
    "    no_data_city_dict['lat'] = geocode_google(each_city)[0]\n",
    "    no_data_city_dict['long'] = geocode_google(each_city)[1]\n",
    "    geocoded_no_data_cities.append(no_data_city_dict)"
   ]
  },
  {
   "cell_type": "code",
   "execution_count": 32,
   "id": "a0462a2b-c69b-433e-866e-2d72965f7e01",
   "metadata": {
    "execution": {
     "iopub.execute_input": "2025-03-27T13:03:27.355106Z",
     "iopub.status.busy": "2025-03-27T13:03:27.354773Z",
     "iopub.status.idle": "2025-03-27T13:03:30.504981Z",
     "shell.execute_reply": "2025-03-27T13:03:30.504442Z"
    }
   },
   "outputs": [],
   "source": [
    "df_no_data = pd.DataFrame(geocoded_no_data_cities)\n",
    "df_no_data['state'] = df_no_data['city'].apply(get_state)"
   ]
  },
  {
   "cell_type": "code",
   "execution_count": 33,
   "id": "48bdd438-1b03-4a1b-b2d0-7b5c69f3be34",
   "metadata": {
    "execution": {
     "iopub.execute_input": "2025-03-27T13:03:30.507006Z",
     "iopub.status.busy": "2025-03-27T13:03:30.506689Z",
     "iopub.status.idle": "2025-03-27T13:03:30.510087Z",
     "shell.execute_reply": "2025-03-27T13:03:30.509358Z"
    }
   },
   "outputs": [],
   "source": [
    "df_no_data['date'] = date"
   ]
  },
  {
   "cell_type": "code",
   "execution_count": 34,
   "id": "7fe69ef7-58bf-4628-8d6c-0b7d7bda9474",
   "metadata": {
    "execution": {
     "iopub.execute_input": "2025-03-27T13:03:30.512034Z",
     "iopub.status.busy": "2025-03-27T13:03:30.511690Z",
     "iopub.status.idle": "2025-03-27T13:03:30.515797Z",
     "shell.execute_reply": "2025-03-27T13:03:30.515102Z"
    }
   },
   "outputs": [],
   "source": [
    "if len(df_no_data[df_no_data['lat'].isna()]) > 0:\n",
    "    df_no_data['city'].apply(geocode_google)"
   ]
  },
  {
   "cell_type": "code",
   "execution_count": 35,
   "id": "89086515-d835-4e93-aaac-76ef94e7fc12",
   "metadata": {
    "execution": {
     "iopub.execute_input": "2025-03-27T13:03:30.517865Z",
     "iopub.status.busy": "2025-03-27T13:03:30.517477Z",
     "iopub.status.idle": "2025-03-27T13:03:30.521652Z",
     "shell.execute_reply": "2025-03-27T13:03:30.521149Z"
    }
   },
   "outputs": [],
   "source": [
    "if len(df_no_data[df_no_data['lat'].isna()]) > 0:\n",
    "    df_no_data['lat'] = df_no_data['lat'].fillna('0')\n",
    "    df_no_data['long'] = df_no_data['long'].fillna('0')"
   ]
  },
  {
   "cell_type": "code",
   "execution_count": 36,
   "id": "a3c28d6d-85fd-412a-b018-67c62e1d280a",
   "metadata": {
    "execution": {
     "iopub.execute_input": "2025-03-27T13:03:30.523520Z",
     "iopub.status.busy": "2025-03-27T13:03:30.523101Z",
     "iopub.status.idle": "2025-03-27T13:03:30.527997Z",
     "shell.execute_reply": "2025-03-27T13:03:30.527450Z"
    }
   },
   "outputs": [],
   "source": [
    "df_no_data.to_csv('no_data_cities.csv', index=False)"
   ]
  },
  {
   "cell_type": "code",
   "execution_count": 37,
   "id": "ba75d3bf-8a6d-4c2c-81c1-e7703a09c759",
   "metadata": {
    "execution": {
     "iopub.execute_input": "2025-03-27T13:03:30.529667Z",
     "iopub.status.busy": "2025-03-27T13:03:30.529384Z",
     "iopub.status.idle": "2025-03-27T13:03:30.555380Z",
     "shell.execute_reply": "2025-03-27T13:03:30.554780Z"
    }
   },
   "outputs": [],
   "source": [
    "# Create base map\n",
    "m1 = folium.Map(location=[22.9734, 78.6569], zoom_start=4.5)\n",
    "\n",
    "map_date = pd.to_datetime(df['date'].iloc[0]).strftime(\"%B %d, %Y\")  # Optional formatting\n",
    "\n",
    "# Define map center\n",
    "map_center = [33.9734, 78.6569]\n",
    "\n",
    "heat_data = [[row['Latitude'], row['Longitude'], row['IndexValue']] for index, row in df.iterrows()]\n",
    "HeatMap(heat_data, radius=13, blur=10, max_zoom=4.5).add_to(m1)\n",
    "\n",
    "folium.map.Marker(\n",
    "    [33.5, 78],  # Approximate location to place annotation (adjust as needed)\n",
    "    icon=folium.DivIcon(html=\"\"\"\n",
    "        <div style=\"position: absolute; top: 10px; left: 10px; font-size: 12px; font-weight: bold; \n",
    "                    background: rgba(255, 255, 255, 0.5); padding: 2px; border-radius: 1px; \n",
    "                    border: 1px solid; white-space: nowrap; z-index:9999;\">\n",
    "            Zoom in at area of interest\n",
    "        </div>\n",
    "    \"\"\")\n",
    ").add_to(m1)\n",
    "\n",
    "folium.map.Marker(\n",
    "    map_center,\n",
    "    icon=folium.DivIcon(html=f\"\"\"\n",
    "        <div style=\"text-align: center; font-size: 12px; min-width: 120px; font-weight: bold; \n",
    "                    background: rgba(255, 255, 255, 0.3); padding: 0px 0px; border-radius: 1px; \n",
    "                    border: 1px solid; z-index:9999;\">\n",
    "            {map_date}\n",
    "        </div>\n",
    "    \"\"\")\n",
    ").add_to(m1)\n",
    "\n",
    "m1.save(f\"daily_map_{date}.html\")"
   ]
  },
  {
   "cell_type": "code",
   "execution_count": 38,
   "id": "892eb9a7-4270-4102-9786-9bc0e54602ba",
   "metadata": {
    "execution": {
     "iopub.execute_input": "2025-03-27T13:03:30.557178Z",
     "iopub.status.busy": "2025-03-27T13:03:30.556757Z",
     "iopub.status.idle": "2025-03-27T13:03:30.560383Z",
     "shell.execute_reply": "2025-03-27T13:03:30.559902Z"
    }
   },
   "outputs": [],
   "source": [
    "with open(f\"daily_map_{date}.html\", \"r\") as source_file:\n",
    "    content = source_file.read()\n",
    "\n",
    "with open(\"daily_map.html\", \"w\") as target_file:\n",
    "    target_file.write(content)"
   ]
  },
  {
   "cell_type": "code",
   "execution_count": 39,
   "id": "c816e227-fa01-4b0a-b571-76c9b1c52fbc",
   "metadata": {
    "execution": {
     "iopub.execute_input": "2025-03-27T13:03:30.562135Z",
     "iopub.status.busy": "2025-03-27T13:03:30.561809Z",
     "iopub.status.idle": "2025-03-27T13:03:30.650925Z",
     "shell.execute_reply": "2025-03-27T13:03:30.650428Z"
    }
   },
   "outputs": [],
   "source": [
    "# Create a base map centered around India\n",
    "m2 = folium.Map(location=[22.9734, 78.9629], zoom_start=4.5)\n",
    "\n",
    "# Add markers with city names as labels\n",
    "for _, row in df_no_data.iterrows():\n",
    "    folium.Marker(\n",
    "        location=[row[\"lat\"], row[\"long\"]],\n",
    "        popup=folium.Popup(row[\"city\"], parse_html=True),\n",
    "        icon=folium.Icon(color=\"red\", icon=\"flag\")\n",
    "    ).add_to(m2)\n",
    "\n",
    "folium.map.Marker(\n",
    "    [33.5, 78],  # Approximate location to place annotation (adjust as needed)\n",
    "    icon=folium.DivIcon(html=\"\"\"\n",
    "        <div style=\"position: absolute; top: 10px; left: 10px; font-size: 12px; font-weight: bold; \n",
    "                    background: rgba(255, 255, 255, 0.5); padding: 2px; border-radius: 1px; \n",
    "                    border: 1px solid; white-space: nowrap; z-index:9999;\">\n",
    "            Zoom in at area of interest\n",
    "        </div>\n",
    "    \"\"\")\n",
    ").add_to(m2)\n",
    "\n",
    "folium.map.Marker(\n",
    "    map_center,\n",
    "    icon=folium.DivIcon(html=f\"\"\"\n",
    "        <div style=\"text-align: center; font-size: 12px; min-width: 120px; font-weight: bold; \n",
    "                    background: rgba(255, 255, 255, 0.3); padding: 0px 0px; border-radius: 1px; \n",
    "                    border: 1px solid; z-index:9999;\">\n",
    "            {map_date}\n",
    "        </div>\n",
    "    \"\"\")\n",
    ").add_to(m2)\n",
    "\n",
    "# Display the map\n",
    "m2.save(f\"no_data_map_{date}.html\")"
   ]
  },
  {
   "cell_type": "code",
   "execution_count": 40,
   "id": "30ed4797-7823-4294-95c1-f0f6b6c23dcb",
   "metadata": {
    "execution": {
     "iopub.execute_input": "2025-03-27T13:03:30.653154Z",
     "iopub.status.busy": "2025-03-27T13:03:30.652798Z",
     "iopub.status.idle": "2025-03-27T13:03:30.656671Z",
     "shell.execute_reply": "2025-03-27T13:03:30.656119Z"
    }
   },
   "outputs": [],
   "source": [
    "with open(f\"no_data_map_{date}.html\", \"r\") as source_file:\n",
    "    content = source_file.read()\n",
    "\n",
    "with open(\"no_data_map.html\", \"w\") as target_file:\n",
    "    target_file.write(content)"
   ]
  },
  {
   "cell_type": "code",
   "execution_count": null,
   "id": "31ed98a2-6622-4d5b-9c38-147adbb6803f",
   "metadata": {},
   "outputs": [],
   "source": []
  }
 ],
 "metadata": {
  "kernelspec": {
   "display_name": "python3.11",
   "language": "python",
   "name": "python3.11"
  },
  "language_info": {
   "codemirror_mode": {
    "name": "ipython",
    "version": 3
   },
   "file_extension": ".py",
   "mimetype": "text/x-python",
   "name": "python",
   "nbconvert_exporter": "python",
   "pygments_lexer": "ipython3",
   "version": "3.11.11"
  }
 },
 "nbformat": 4,
 "nbformat_minor": 5
}
