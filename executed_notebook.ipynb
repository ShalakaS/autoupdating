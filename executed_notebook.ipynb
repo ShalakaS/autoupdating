{
 "cells": [
  {
   "cell_type": "code",
   "execution_count": 1,
   "id": "df35fa10-763b-45b2-b97a-c4839007a9d5",
   "metadata": {
    "execution": {
     "iopub.execute_input": "2025-09-26T13:04:06.299314Z",
     "iopub.status.busy": "2025-09-26T13:04:06.299149Z",
     "iopub.status.idle": "2025-09-26T13:04:06.844084Z",
     "shell.execute_reply": "2025-09-26T13:04:06.843518Z"
    }
   },
   "outputs": [],
   "source": [
    "import requests\n",
    "import re\n",
    "import pandas as pd\n",
    "from datetime import datetime\n",
    "import pdfplumber\n",
    "import certifi\n",
    "import sys\n",
    "import folium\n",
    "from folium.plugins import HeatMap\n",
    "import googlemaps\n",
    "import pytz\n",
    "from dotenv import load_dotenv\n",
    "import os"
   ]
  },
  {
   "cell_type": "code",
   "execution_count": 2,
   "id": "05d798bc-5c67-4451-afcc-a9763efc974b",
   "metadata": {
    "execution": {
     "iopub.execute_input": "2025-09-26T13:04:06.846095Z",
     "iopub.status.busy": "2025-09-26T13:04:06.845850Z",
     "iopub.status.idle": "2025-09-26T13:04:06.852233Z",
     "shell.execute_reply": "2025-09-26T13:04:06.851746Z"
    }
   },
   "outputs": [
    {
     "data": {
      "text/plain": [
       "False"
      ]
     },
     "execution_count": 2,
     "metadata": {},
     "output_type": "execute_result"
    }
   ],
   "source": [
    "load_dotenv()"
   ]
  },
  {
   "cell_type": "code",
   "execution_count": 3,
   "id": "cda0db2d-2998-4180-894f-f0a4a4216394",
   "metadata": {
    "execution": {
     "iopub.execute_input": "2025-09-26T13:04:06.853797Z",
     "iopub.status.busy": "2025-09-26T13:04:06.853645Z",
     "iopub.status.idle": "2025-09-26T13:04:06.868236Z",
     "shell.execute_reply": "2025-09-26T13:04:06.867639Z"
    }
   },
   "outputs": [
    {
     "data": {
      "text/plain": [
       "'20250926'"
      ]
     },
     "execution_count": 3,
     "metadata": {},
     "output_type": "execute_result"
    }
   ],
   "source": [
    "time_zone = pytz.timezone('Asia/Kolkata')\n",
    "date = datetime.now(time_zone).strftime(\"%Y%m%d\")\n",
    "date"
   ]
  },
  {
   "cell_type": "code",
   "execution_count": 4,
   "id": "785d4ca3-6b04-47dd-b5ca-497861fb2b7c",
   "metadata": {
    "execution": {
     "iopub.execute_input": "2025-09-26T13:04:06.869818Z",
     "iopub.status.busy": "2025-09-26T13:04:06.869654Z",
     "iopub.status.idle": "2025-09-26T13:04:06.872519Z",
     "shell.execute_reply": "2025-09-26T13:04:06.871898Z"
    }
   },
   "outputs": [],
   "source": [
    "time = datetime.now(time_zone).strftime(\"%H:%M:%S\")"
   ]
  },
  {
   "cell_type": "code",
   "execution_count": 5,
   "id": "54e8231d-1c78-465c-ab15-9f3c9001bd65",
   "metadata": {
    "execution": {
     "iopub.execute_input": "2025-09-26T13:04:06.874014Z",
     "iopub.status.busy": "2025-09-26T13:04:06.873838Z",
     "iopub.status.idle": "2025-09-26T13:04:06.876564Z",
     "shell.execute_reply": "2025-09-26T13:04:06.875930Z"
    }
   },
   "outputs": [],
   "source": [
    "url = f'https://cpcb.nic.in//upload/Downloads/AQI_Bulletin_{date}.pdf'"
   ]
  },
  {
   "cell_type": "code",
   "execution_count": 6,
   "id": "a64a93dc-2aba-47f6-901d-c07dee819f52",
   "metadata": {
    "execution": {
     "iopub.execute_input": "2025-09-26T13:04:06.878097Z",
     "iopub.status.busy": "2025-09-26T13:04:06.877932Z",
     "iopub.status.idle": "2025-09-26T13:04:09.003433Z",
     "shell.execute_reply": "2025-09-26T13:04:09.002814Z"
    }
   },
   "outputs": [
    {
     "name": "stderr",
     "output_type": "stream",
     "text": [
      "/opt/hostedtoolcache/Python/3.11.13/x64/lib/python3.11/site-packages/urllib3/connectionpool.py:1097: InsecureRequestWarning: Unverified HTTPS request is being made to host 'cpcb.nic.in'. Adding certificate verification is strongly advised. See: https://urllib3.readthedocs.io/en/latest/advanced-usage.html#tls-warnings\n",
      "  warnings.warn(\n"
     ]
    },
    {
     "name": "stdout",
     "output_type": "stream",
     "text": [
      "Download successful.\n"
     ]
    }
   ],
   "source": [
    "response = requests.get(url, headers={\"User-Agent\": \"Mozilla/5.0\"}, verify=False)\n",
    "\n",
    "if response.status_code == 200:\n",
    "    with open(f\"AQI_Bulletin_{date}.pdf\", \"wb\") as f:\n",
    "        f.write(response.content)\n",
    "    print(\"Download successful.\")\n",
    "else:\n",
    "    print(\"Failed to download:\", response.status_code)"
   ]
  },
  {
   "cell_type": "code",
   "execution_count": 7,
   "id": "06efcb47-a867-4e95-8df0-de5ed0d0ad1c",
   "metadata": {
    "execution": {
     "iopub.execute_input": "2025-09-26T13:04:09.005240Z",
     "iopub.status.busy": "2025-09-26T13:04:09.005071Z",
     "iopub.status.idle": "2025-09-26T13:04:09.008033Z",
     "shell.execute_reply": "2025-09-26T13:04:09.007349Z"
    }
   },
   "outputs": [],
   "source": [
    "daily_doc = f'AQI_Bulletin_{date}.pdf'"
   ]
  },
  {
   "cell_type": "code",
   "execution_count": 8,
   "id": "75527bb6-7687-47b4-87e1-b7812fe080a9",
   "metadata": {
    "execution": {
     "iopub.execute_input": "2025-09-26T13:04:09.009602Z",
     "iopub.status.busy": "2025-09-26T13:04:09.009446Z",
     "iopub.status.idle": "2025-09-26T13:04:09.852900Z",
     "shell.execute_reply": "2025-09-26T13:04:09.852250Z"
    }
   },
   "outputs": [],
   "source": [
    "if daily_doc:\n",
    "    tables = []\n",
    "    with pdfplumber.open(daily_doc) as pdf:\n",
    "        for page in pdf.pages[:-1]:\n",
    "            extracted_tables = page.extract_tables()\n",
    "            # print(extracted_tables[0])\n",
    "            tables.extend(extracted_tables)"
   ]
  },
  {
   "cell_type": "code",
   "execution_count": 9,
   "id": "c20c5755-dec4-4918-a7be-ee9870e5302f",
   "metadata": {
    "execution": {
     "iopub.execute_input": "2025-09-26T13:04:09.854893Z",
     "iopub.status.busy": "2025-09-26T13:04:09.854728Z",
     "iopub.status.idle": "2025-09-26T13:04:09.857760Z",
     "shell.execute_reply": "2025-09-26T13:04:09.857179Z"
    }
   },
   "outputs": [],
   "source": [
    "clean_tables = []\n",
    "for table in tables:\n",
    "    table_wihtout_headers = table[1:]\n",
    "    clean_tables.append(table_wihtout_headers)"
   ]
  },
  {
   "cell_type": "code",
   "execution_count": 10,
   "id": "bb3bf321-f0b4-4066-80b2-6fa4fb547169",
   "metadata": {
    "execution": {
     "iopub.execute_input": "2025-09-26T13:04:09.859327Z",
     "iopub.status.busy": "2025-09-26T13:04:09.859178Z",
     "iopub.status.idle": "2025-09-26T13:04:09.864176Z",
     "shell.execute_reply": "2025-09-26T13:04:09.863696Z"
    }
   },
   "outputs": [],
   "source": [
    "df_list = []\n",
    "for each_table in clean_tables:\n",
    "    df = pd.DataFrame(each_table)\n",
    "    df_list.append(df)"
   ]
  },
  {
   "cell_type": "code",
   "execution_count": 11,
   "id": "22d95c34-ceff-4728-945c-d3f72323b765",
   "metadata": {
    "execution": {
     "iopub.execute_input": "2025-09-26T13:04:09.865641Z",
     "iopub.status.busy": "2025-09-26T13:04:09.865493Z",
     "iopub.status.idle": "2025-09-26T13:04:09.868970Z",
     "shell.execute_reply": "2025-09-26T13:04:09.868508Z"
    }
   },
   "outputs": [],
   "source": [
    "df_combined = pd.concat(df_list, ignore_index=True)\n",
    "df_combined.columns = tables[0][0]"
   ]
  },
  {
   "cell_type": "code",
   "execution_count": 12,
   "id": "9fdb1891-7849-4831-ae59-214062c3aa0e",
   "metadata": {
    "execution": {
     "iopub.execute_input": "2025-09-26T13:04:09.870385Z",
     "iopub.status.busy": "2025-09-26T13:04:09.870242Z",
     "iopub.status.idle": "2025-09-26T13:04:09.873574Z",
     "shell.execute_reply": "2025-09-26T13:04:09.873110Z"
    }
   },
   "outputs": [],
   "source": [
    "df = df_combined.drop(columns=['S.No']) #, 'Prominent Pollutant', 'No. of Stations\\nParticipated/\\nTotal Stations'])"
   ]
  },
  {
   "cell_type": "code",
   "execution_count": 13,
   "id": "2988aebe-c589-4f7a-8689-371f6fbff1c4",
   "metadata": {
    "execution": {
     "iopub.execute_input": "2025-09-26T13:04:09.875053Z",
     "iopub.status.busy": "2025-09-26T13:04:09.874879Z",
     "iopub.status.idle": "2025-09-26T13:04:09.879663Z",
     "shell.execute_reply": "2025-09-26T13:04:09.879233Z"
    }
   },
   "outputs": [],
   "source": [
    "df.columns = df.columns.str.replace(\"\\n\", \" \").str.replace(\" \",\"_\").str.replace(\"/\", \"\")"
   ]
  },
  {
   "cell_type": "code",
   "execution_count": 14,
   "id": "83ebc6e2-0403-48d6-b9e4-8d41760ffb47",
   "metadata": {
    "execution": {
     "iopub.execute_input": "2025-09-26T13:04:09.881114Z",
     "iopub.status.busy": "2025-09-26T13:04:09.880966Z",
     "iopub.status.idle": "2025-09-26T13:04:09.884707Z",
     "shell.execute_reply": "2025-09-26T13:04:09.884292Z"
    }
   },
   "outputs": [
    {
     "data": {
      "text/plain": [
       "Index(['City', 'Air_Quality', 'Index_Value', 'Prominent_Pollutant',\n",
       "       'No._of_Stations_Participated_Total_Stations'],\n",
       "      dtype='object')"
      ]
     },
     "execution_count": 14,
     "metadata": {},
     "output_type": "execute_result"
    }
   ],
   "source": [
    "df.columns"
   ]
  },
  {
   "cell_type": "code",
   "execution_count": 15,
   "id": "98de0784-0938-459e-a1cb-a735ca771785",
   "metadata": {
    "execution": {
     "iopub.execute_input": "2025-09-26T13:04:09.886193Z",
     "iopub.status.busy": "2025-09-26T13:04:09.886045Z",
     "iopub.status.idle": "2025-09-26T13:04:09.889296Z",
     "shell.execute_reply": "2025-09-26T13:04:09.888671Z"
    }
   },
   "outputs": [],
   "source": [
    "df['Index_Value'] = df['Index_Value'].astype(int)"
   ]
  },
  {
   "cell_type": "code",
   "execution_count": 16,
   "id": "2ccb929c-ddba-4428-9a6f-21154b27c9d2",
   "metadata": {
    "execution": {
     "iopub.execute_input": "2025-09-26T13:04:09.890871Z",
     "iopub.status.busy": "2025-09-26T13:04:09.890723Z",
     "iopub.status.idle": "2025-09-26T13:04:09.893395Z",
     "shell.execute_reply": "2025-09-26T13:04:09.892941Z"
    }
   },
   "outputs": [],
   "source": [
    "API_KEY = os.getenv(\"GOOGLE_API_KEY\")"
   ]
  },
  {
   "cell_type": "code",
   "execution_count": 17,
   "id": "eb50974e-3251-42f3-aff4-f95c8eb99938",
   "metadata": {
    "execution": {
     "iopub.execute_input": "2025-09-26T13:04:09.894892Z",
     "iopub.status.busy": "2025-09-26T13:04:09.894745Z",
     "iopub.status.idle": "2025-09-26T13:04:09.897465Z",
     "shell.execute_reply": "2025-09-26T13:04:09.897012Z"
    }
   },
   "outputs": [],
   "source": [
    "gmaps = googlemaps.Client(key=API_KEY)"
   ]
  },
  {
   "cell_type": "code",
   "execution_count": 18,
   "id": "b492a1f4-8f7b-4e81-bd89-4e689c462aee",
   "metadata": {
    "execution": {
     "iopub.execute_input": "2025-09-26T13:04:09.898897Z",
     "iopub.status.busy": "2025-09-26T13:04:09.898753Z",
     "iopub.status.idle": "2025-09-26T13:04:32.464131Z",
     "shell.execute_reply": "2025-09-26T13:04:32.463646Z"
    }
   },
   "outputs": [],
   "source": [
    "# Function to get state using reverse geocoding\n",
    "def get_state(city):\n",
    "    try:\n",
    "        geocode_result = gmaps.geocode(f\"{city}, India\")\n",
    "        for component in geocode_result[0]['address_components']:\n",
    "            if 'administrative_area_level_1' in component['types']:\n",
    "                return component['long_name']\n",
    "    except Exception as e:\n",
    "        return None\n",
    "\n",
    "df[\"State\"] = df[\"City\"].apply(get_state)"
   ]
  },
  {
   "cell_type": "code",
   "execution_count": 19,
   "id": "2d22fdf2-07d8-4568-abe1-ee0e33f90b5a",
   "metadata": {
    "execution": {
     "iopub.execute_input": "2025-09-26T13:04:32.465903Z",
     "iopub.status.busy": "2025-09-26T13:04:32.465752Z",
     "iopub.status.idle": "2025-09-26T13:04:32.471856Z",
     "shell.execute_reply": "2025-09-26T13:04:32.471367Z"
    }
   },
   "outputs": [],
   "source": [
    "df.sort_values(by='Index_Value', ascending=False).to_csv(f'daily_aqi_{date}.csv', index=False)"
   ]
  },
  {
   "cell_type": "code",
   "execution_count": 20,
   "id": "e6911dee-d043-4309-a9d0-23bcea75657c",
   "metadata": {
    "execution": {
     "iopub.execute_input": "2025-09-26T13:04:32.473498Z",
     "iopub.status.busy": "2025-09-26T13:04:32.473349Z",
     "iopub.status.idle": "2025-09-26T13:04:32.476936Z",
     "shell.execute_reply": "2025-09-26T13:04:32.476391Z"
    }
   },
   "outputs": [],
   "source": [
    "# Function to geocode addresses\n",
    "def geocode_google(address):\n",
    "    try:\n",
    "        geocode_result = gmaps.geocode(address)\n",
    "        if geocode_result:\n",
    "            location = geocode_result[0]['geometry']['location']\n",
    "            return pd.Series([location['lat'], location['lng']])\n",
    "        else:\n",
    "            return pd.Series([None, None])\n",
    "    except Exception as e:\n",
    "        return pd.Series([None, None])"
   ]
  },
  {
   "cell_type": "code",
   "execution_count": 21,
   "id": "564ed777-ae4f-45da-9319-b4cc7eace32f",
   "metadata": {
    "execution": {
     "iopub.execute_input": "2025-09-26T13:04:32.478391Z",
     "iopub.status.busy": "2025-09-26T13:04:32.478250Z",
     "iopub.status.idle": "2025-09-26T13:04:46.298540Z",
     "shell.execute_reply": "2025-09-26T13:04:46.298022Z"
    }
   },
   "outputs": [],
   "source": [
    "# Apply geocoding function to the DataFrame\n",
    "df[['Latitude', 'Longitude']] = df['City'].apply(geocode_google)"
   ]
  },
  {
   "cell_type": "code",
   "execution_count": 22,
   "id": "ab2f5d77-6e43-4b91-8419-d44b166326ff",
   "metadata": {
    "execution": {
     "iopub.execute_input": "2025-09-26T13:04:46.300292Z",
     "iopub.status.busy": "2025-09-26T13:04:46.300146Z",
     "iopub.status.idle": "2025-09-26T13:04:46.303291Z",
     "shell.execute_reply": "2025-09-26T13:04:46.302611Z"
    }
   },
   "outputs": [],
   "source": [
    "df['date'] = date"
   ]
  },
  {
   "cell_type": "code",
   "execution_count": 23,
   "id": "0c9380cf-e95b-419c-a059-f7d451f64713",
   "metadata": {
    "execution": {
     "iopub.execute_input": "2025-09-26T13:04:46.304720Z",
     "iopub.status.busy": "2025-09-26T13:04:46.304578Z",
     "iopub.status.idle": "2025-09-26T13:04:52.644608Z",
     "shell.execute_reply": "2025-09-26T13:04:52.644088Z"
    },
    "scrolled": true
   },
   "outputs": [],
   "source": [
    "if len(df[df['Latitude'].isna()]['City']) > 0:\n",
    "    df[['Latitude', 'Longitude']] = df['City'].apply(geocode_google)"
   ]
  },
  {
   "cell_type": "code",
   "execution_count": 24,
   "id": "c3a07744-243c-40e8-be52-9537b39b587e",
   "metadata": {
    "execution": {
     "iopub.execute_input": "2025-09-26T13:04:52.646333Z",
     "iopub.status.busy": "2025-09-26T13:04:52.646163Z",
     "iopub.status.idle": "2025-09-26T13:04:52.650575Z",
     "shell.execute_reply": "2025-09-26T13:04:52.650005Z"
    }
   },
   "outputs": [
    {
     "data": {
      "text/plain": [
       "1"
      ]
     },
     "execution_count": 24,
     "metadata": {},
     "output_type": "execute_result"
    }
   ],
   "source": [
    "len(df[df['Latitude'].isna()]['City'])"
   ]
  },
  {
   "cell_type": "code",
   "execution_count": 25,
   "id": "108f3cc9-869b-44e4-9d57-ab4e670a5bb8",
   "metadata": {
    "execution": {
     "iopub.execute_input": "2025-09-26T13:04:52.652098Z",
     "iopub.status.busy": "2025-09-26T13:04:52.651939Z",
     "iopub.status.idle": "2025-09-26T13:04:52.655956Z",
     "shell.execute_reply": "2025-09-26T13:04:52.655389Z"
    }
   },
   "outputs": [],
   "source": [
    "if len(df[df['Latitude'].isna()]['City']) > 0:\n",
    "    df['Latitude'] = df['Latitude'].fillna('0')\n",
    "    df['Longitude'] = df['Longitude'].fillna('0')"
   ]
  },
  {
   "cell_type": "code",
   "execution_count": 26,
   "id": "8d1ef039-c623-44c2-9fc0-67c88a850dca",
   "metadata": {
    "execution": {
     "iopub.execute_input": "2025-09-26T13:04:52.657389Z",
     "iopub.status.busy": "2025-09-26T13:04:52.657232Z",
     "iopub.status.idle": "2025-09-26T13:04:52.661427Z",
     "shell.execute_reply": "2025-09-26T13:04:52.660861Z"
    }
   },
   "outputs": [
    {
     "data": {
      "text/plain": [
       "0"
      ]
     },
     "execution_count": 26,
     "metadata": {},
     "output_type": "execute_result"
    }
   ],
   "source": [
    "len(df[df['Latitude'].isna()]['City']) "
   ]
  },
  {
   "cell_type": "code",
   "execution_count": 27,
   "id": "4d8a8a15-d69f-4ed2-9dcd-c8022403c593",
   "metadata": {
    "execution": {
     "iopub.execute_input": "2025-09-26T13:04:52.662816Z",
     "iopub.status.busy": "2025-09-26T13:04:52.662674Z",
     "iopub.status.idle": "2025-09-26T13:04:52.783385Z",
     "shell.execute_reply": "2025-09-26T13:04:52.782823Z"
    }
   },
   "outputs": [],
   "source": [
    "with pdfplumber.open(daily_doc) as pdf:\n",
    "    last_page_text = pdf.pages[-1].extract_text()"
   ]
  },
  {
   "cell_type": "code",
   "execution_count": 28,
   "id": "4b3d87b6-5da5-45a6-a0a5-08acf306e663",
   "metadata": {
    "execution": {
     "iopub.execute_input": "2025-09-26T13:04:52.785262Z",
     "iopub.status.busy": "2025-09-26T13:04:52.785106Z",
     "iopub.status.idle": "2025-09-26T13:04:52.787887Z",
     "shell.execute_reply": "2025-09-26T13:04:52.787341Z"
    }
   },
   "outputs": [],
   "source": [
    "text = last_page_text.replace(\"\\n\", \" \")"
   ]
  },
  {
   "cell_type": "code",
   "execution_count": 29,
   "id": "acd01d31-8423-468e-95a2-86fc20cdf394",
   "metadata": {
    "execution": {
     "iopub.execute_input": "2025-09-26T13:04:52.789400Z",
     "iopub.status.busy": "2025-09-26T13:04:52.789256Z",
     "iopub.status.idle": "2025-09-26T13:04:52.791975Z",
     "shell.execute_reply": "2025-09-26T13:04:52.791409Z"
    }
   },
   "outputs": [],
   "source": [
    "list_of_no_data_cities = text.split(\":\")[1].split(\",\")"
   ]
  },
  {
   "cell_type": "code",
   "execution_count": 30,
   "id": "8a955366-b3d9-4f61-9fc3-14c6b8c34b9d",
   "metadata": {
    "execution": {
     "iopub.execute_input": "2025-09-26T13:04:52.793368Z",
     "iopub.status.busy": "2025-09-26T13:04:52.793203Z",
     "iopub.status.idle": "2025-09-26T13:04:52.796005Z",
     "shell.execute_reply": "2025-09-26T13:04:52.795529Z"
    }
   },
   "outputs": [],
   "source": [
    "no_data_cities = []\n",
    "for each_city in list_of_no_data_cities:\n",
    "    city_name = each_city.split(\")\")[1].strip()\n",
    "    no_data_cities.append(city_name)"
   ]
  },
  {
   "cell_type": "code",
   "execution_count": 31,
   "id": "27be2af5-1f94-44b9-9e58-f25ff0d81791",
   "metadata": {
    "execution": {
     "iopub.execute_input": "2025-09-26T13:04:52.797487Z",
     "iopub.status.busy": "2025-09-26T13:04:52.797342Z",
     "iopub.status.idle": "2025-09-26T13:04:59.824053Z",
     "shell.execute_reply": "2025-09-26T13:04:59.823510Z"
    }
   },
   "outputs": [],
   "source": [
    "geocoded_no_data_cities = []\n",
    "for each_city in no_data_cities:\n",
    "    no_data_city_dict = {}\n",
    "    no_data_city_dict['city'] = each_city \n",
    "    no_data_city_dict['lat'] = geocode_google(each_city)[0]\n",
    "    no_data_city_dict['long'] = geocode_google(each_city)[1]\n",
    "    geocoded_no_data_cities.append(no_data_city_dict)"
   ]
  },
  {
   "cell_type": "code",
   "execution_count": 32,
   "id": "a0462a2b-c69b-433e-866e-2d72965f7e01",
   "metadata": {
    "execution": {
     "iopub.execute_input": "2025-09-26T13:04:59.825826Z",
     "iopub.status.busy": "2025-09-26T13:04:59.825676Z",
     "iopub.status.idle": "2025-09-26T13:05:05.872230Z",
     "shell.execute_reply": "2025-09-26T13:05:05.871688Z"
    }
   },
   "outputs": [],
   "source": [
    "df_no_data = pd.DataFrame(geocoded_no_data_cities)\n",
    "df_no_data['state'] = df_no_data['city'].apply(get_state)"
   ]
  },
  {
   "cell_type": "code",
   "execution_count": 33,
   "id": "48bdd438-1b03-4a1b-b2d0-7b5c69f3be34",
   "metadata": {
    "execution": {
     "iopub.execute_input": "2025-09-26T13:05:05.874071Z",
     "iopub.status.busy": "2025-09-26T13:05:05.873890Z",
     "iopub.status.idle": "2025-09-26T13:05:05.876904Z",
     "shell.execute_reply": "2025-09-26T13:05:05.876367Z"
    }
   },
   "outputs": [],
   "source": [
    "df_no_data['date'] = date"
   ]
  },
  {
   "cell_type": "code",
   "execution_count": 34,
   "id": "7fe69ef7-58bf-4628-8d6c-0b7d7bda9474",
   "metadata": {
    "execution": {
     "iopub.execute_input": "2025-09-26T13:05:05.878356Z",
     "iopub.status.busy": "2025-09-26T13:05:05.878198Z",
     "iopub.status.idle": "2025-09-26T13:05:05.881511Z",
     "shell.execute_reply": "2025-09-26T13:05:05.880948Z"
    }
   },
   "outputs": [],
   "source": [
    "if len(df_no_data[df_no_data['lat'].isna()]) > 0:\n",
    "    df_no_data['city'].apply(geocode_google)"
   ]
  },
  {
   "cell_type": "code",
   "execution_count": 35,
   "id": "89086515-d835-4e93-aaac-76ef94e7fc12",
   "metadata": {
    "execution": {
     "iopub.execute_input": "2025-09-26T13:05:05.883040Z",
     "iopub.status.busy": "2025-09-26T13:05:05.882873Z",
     "iopub.status.idle": "2025-09-26T13:05:05.886176Z",
     "shell.execute_reply": "2025-09-26T13:05:05.885534Z"
    }
   },
   "outputs": [],
   "source": [
    "if len(df_no_data[df_no_data['lat'].isna()]) > 0:\n",
    "    df_no_data['lat'] = df_no_data['lat'].fillna('0')\n",
    "    df_no_data['long'] = df_no_data['long'].fillna('0')"
   ]
  },
  {
   "cell_type": "code",
   "execution_count": 36,
   "id": "a3c28d6d-85fd-412a-b018-67c62e1d280a",
   "metadata": {
    "execution": {
     "iopub.execute_input": "2025-09-26T13:05:05.887642Z",
     "iopub.status.busy": "2025-09-26T13:05:05.887498Z",
     "iopub.status.idle": "2025-09-26T13:05:05.891286Z",
     "shell.execute_reply": "2025-09-26T13:05:05.890845Z"
    }
   },
   "outputs": [],
   "source": [
    "df_no_data.to_csv('no_data_cities.csv', index=False)"
   ]
  },
  {
   "cell_type": "code",
   "execution_count": 37,
   "id": "ba75d3bf-8a6d-4c2c-81c1-e7703a09c759",
   "metadata": {
    "execution": {
     "iopub.execute_input": "2025-09-26T13:05:05.892809Z",
     "iopub.status.busy": "2025-09-26T13:05:05.892665Z",
     "iopub.status.idle": "2025-09-26T13:05:05.917338Z",
     "shell.execute_reply": "2025-09-26T13:05:05.916894Z"
    }
   },
   "outputs": [],
   "source": [
    "# Create base map\n",
    "m1 = folium.Map(location=[22.9734, 78.6569], zoom_start=4.5)\n",
    "\n",
    "map_date = pd.to_datetime(df['date'].iloc[0]).strftime(\"%B %d, %Y\")  # Optional formatting\n",
    "\n",
    "# Define map center\n",
    "map_center = [33.9734, 78.6569]\n",
    "\n",
    "heat_data = [[row['Latitude'], row['Longitude'], row['Index_Value']] for index, row in df.iterrows()]\n",
    "HeatMap(heat_data, radius=13, blur=10, max_zoom=4.5).add_to(m1)\n",
    "\n",
    "folium.map.Marker(\n",
    "    [33.5, 78],  # Approximate location to place annotation (adjust as needed)\n",
    "    icon=folium.DivIcon(html=\"\"\"\n",
    "        <div style=\"position: absolute; top: 10px; left: 10px; font-size: 12px; font-weight: bold; \n",
    "                    background: rgba(255, 255, 255, 0.5); padding: 2px; border-radius: 1px; \n",
    "                    border: 1px solid; white-space: nowrap; z-index:9999;\">\n",
    "            Zoom in at area of interest\n",
    "        </div>\n",
    "    \"\"\")\n",
    ").add_to(m1)\n",
    "\n",
    "folium.map.Marker(\n",
    "    map_center,\n",
    "    icon=folium.DivIcon(html=f\"\"\"\n",
    "        <div style=\"text-align: center; font-size: 12px; min-width: 120px; font-weight: bold; \n",
    "                    background: rgba(255, 255, 255, 0.3); padding: 0px 0px; border-radius: 1px; \n",
    "                    border: 1px solid; z-index:9999;\">\n",
    "            {map_date}\n",
    "        </div>\n",
    "    \"\"\")\n",
    ").add_to(m1)\n",
    "\n",
    "m1.save(f\"daily_map_{date}.html\")"
   ]
  },
  {
   "cell_type": "code",
   "execution_count": 38,
   "id": "892eb9a7-4270-4102-9786-9bc0e54602ba",
   "metadata": {
    "execution": {
     "iopub.execute_input": "2025-09-26T13:05:05.918747Z",
     "iopub.status.busy": "2025-09-26T13:05:05.918605Z",
     "iopub.status.idle": "2025-09-26T13:05:05.921850Z",
     "shell.execute_reply": "2025-09-26T13:05:05.921411Z"
    }
   },
   "outputs": [],
   "source": [
    "with open(f\"daily_map_{date}.html\", \"r\") as source_file:\n",
    "    content = source_file.read()\n",
    "\n",
    "with open(\"daily_map.html\", \"w\") as target_file:\n",
    "    target_file.write(content)"
   ]
  },
  {
   "cell_type": "code",
   "execution_count": 39,
   "id": "c816e227-fa01-4b0a-b571-76c9b1c52fbc",
   "metadata": {
    "execution": {
     "iopub.execute_input": "2025-09-26T13:05:05.923289Z",
     "iopub.status.busy": "2025-09-26T13:05:05.923148Z",
     "iopub.status.idle": "2025-09-26T13:05:06.034603Z",
     "shell.execute_reply": "2025-09-26T13:05:06.034149Z"
    }
   },
   "outputs": [],
   "source": [
    "# Create a base map centered around India\n",
    "m2 = folium.Map(location=[22.9734, 78.9629], zoom_start=4.5)\n",
    "\n",
    "# Add markers with city names as labels\n",
    "for _, row in df_no_data.iterrows():\n",
    "    folium.Marker(\n",
    "        location=[row[\"lat\"], row[\"long\"]],\n",
    "        popup=folium.Popup(row[\"city\"], parse_html=True),\n",
    "        icon=folium.Icon(color=\"red\", icon=\"flag\")\n",
    "    ).add_to(m2)\n",
    "\n",
    "folium.map.Marker(\n",
    "    [33.5, 78],  # Approximate location to place annotation (adjust as needed)\n",
    "    icon=folium.DivIcon(html=\"\"\"\n",
    "        <div style=\"position: absolute; top: 10px; left: 10px; font-size: 12px; font-weight: bold; \n",
    "                    background: rgba(255, 255, 255, 0.5); padding: 2px; border-radius: 1px; \n",
    "                    border: 1px solid; white-space: nowrap; z-index:9999;\">\n",
    "            Zoom in at area of interest\n",
    "        </div>\n",
    "    \"\"\")\n",
    ").add_to(m2)\n",
    "\n",
    "folium.map.Marker(\n",
    "    map_center,\n",
    "    icon=folium.DivIcon(html=f\"\"\"\n",
    "        <div style=\"text-align: center; font-size: 12px; min-width: 120px; font-weight: bold; \n",
    "                    background: rgba(255, 255, 255, 0.3); padding: 0px 0px; border-radius: 1px; \n",
    "                    border: 1px solid; z-index:9999;\">\n",
    "            {map_date}\n",
    "        </div>\n",
    "    \"\"\")\n",
    ").add_to(m2)\n",
    "\n",
    "# Display the map\n",
    "m2.save(f\"no_data_map_{date}.html\")"
   ]
  },
  {
   "cell_type": "code",
   "execution_count": 40,
   "id": "30ed4797-7823-4294-95c1-f0f6b6c23dcb",
   "metadata": {
    "execution": {
     "iopub.execute_input": "2025-09-26T13:05:06.036246Z",
     "iopub.status.busy": "2025-09-26T13:05:06.036081Z",
     "iopub.status.idle": "2025-09-26T13:05:06.039685Z",
     "shell.execute_reply": "2025-09-26T13:05:06.039137Z"
    }
   },
   "outputs": [],
   "source": [
    "with open(f\"no_data_map_{date}.html\", \"r\") as source_file:\n",
    "    content = source_file.read()\n",
    "\n",
    "with open(\"no_data_map.html\", \"w\") as target_file:\n",
    "    target_file.write(content)"
   ]
  },
  {
   "cell_type": "markdown",
   "id": "0673c4b3-bc59-4e80-97d2-2ab9463b0403",
   "metadata": {},
   "source": [
    "#Make an empty list\n",
    "#Save it to a csv \n",
    "#Read into the csv as df\n",
    "#Start adding to the df daily\n",
    "#Save it as csv again?\n",
    "\n",
    "OR\n",
    "\n",
    "#Once df is processed, change the name to have that day's date {date}\n",
    "#Sort descending and take head(10)\n",
    "#save in a different folder\n",
    "#Use os to read ontp the folder and make a list of files inside\n",
    "#Give it a condition: if len(list) > 7, then throw out the oldest one or wait for the new ones to collect into set of 7 \n",
    "#Take mean and display in a table"
   ]
  },
  {
   "cell_type": "code",
   "execution_count": null,
   "id": "13d06fbd-80a2-42dc-bf1d-625707f403ff",
   "metadata": {},
   "outputs": [],
   "source": []
  }
 ],
 "metadata": {
  "kernelspec": {
   "display_name": "python3.11",
   "language": "python",
   "name": "python3.11"
  },
  "language_info": {
   "codemirror_mode": {
    "name": "ipython",
    "version": 3
   },
   "file_extension": ".py",
   "mimetype": "text/x-python",
   "name": "python",
   "nbconvert_exporter": "python",
   "pygments_lexer": "ipython3",
   "version": "3.11.13"
  }
 },
 "nbformat": 4,
 "nbformat_minor": 5
}
