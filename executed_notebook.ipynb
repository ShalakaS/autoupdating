{
 "cells": [
  {
   "cell_type": "code",
   "execution_count": 1,
   "id": "df35fa10-763b-45b2-b97a-c4839007a9d5",
   "metadata": {
    "execution": {
     "iopub.execute_input": "2025-09-12T13:01:02.836725Z",
     "iopub.status.busy": "2025-09-12T13:01:02.836550Z",
     "iopub.status.idle": "2025-09-12T13:01:03.493914Z",
     "shell.execute_reply": "2025-09-12T13:01:03.493361Z"
    }
   },
   "outputs": [],
   "source": [
    "import requests\n",
    "import re\n",
    "import pandas as pd\n",
    "from datetime import datetime\n",
    "import pdfplumber\n",
    "import certifi\n",
    "import sys\n",
    "import folium\n",
    "from folium.plugins import HeatMap\n",
    "import googlemaps\n",
    "import pytz\n",
    "from dotenv import load_dotenv\n",
    "import os"
   ]
  },
  {
   "cell_type": "code",
   "execution_count": 2,
   "id": "05d798bc-5c67-4451-afcc-a9763efc974b",
   "metadata": {
    "execution": {
     "iopub.execute_input": "2025-09-12T13:01:03.495961Z",
     "iopub.status.busy": "2025-09-12T13:01:03.495736Z",
     "iopub.status.idle": "2025-09-12T13:01:03.501773Z",
     "shell.execute_reply": "2025-09-12T13:01:03.501211Z"
    }
   },
   "outputs": [
    {
     "data": {
      "text/plain": [
       "False"
      ]
     },
     "execution_count": 2,
     "metadata": {},
     "output_type": "execute_result"
    }
   ],
   "source": [
    "load_dotenv()"
   ]
  },
  {
   "cell_type": "code",
   "execution_count": 3,
   "id": "cda0db2d-2998-4180-894f-f0a4a4216394",
   "metadata": {
    "execution": {
     "iopub.execute_input": "2025-09-12T13:01:03.503320Z",
     "iopub.status.busy": "2025-09-12T13:01:03.503162Z",
     "iopub.status.idle": "2025-09-12T13:01:03.518080Z",
     "shell.execute_reply": "2025-09-12T13:01:03.517483Z"
    }
   },
   "outputs": [
    {
     "data": {
      "text/plain": [
       "'20250912'"
      ]
     },
     "execution_count": 3,
     "metadata": {},
     "output_type": "execute_result"
    }
   ],
   "source": [
    "time_zone = pytz.timezone('Asia/Kolkata')\n",
    "date = datetime.now(time_zone).strftime(\"%Y%m%d\")\n",
    "date"
   ]
  },
  {
   "cell_type": "code",
   "execution_count": 4,
   "id": "785d4ca3-6b04-47dd-b5ca-497861fb2b7c",
   "metadata": {
    "execution": {
     "iopub.execute_input": "2025-09-12T13:01:03.519665Z",
     "iopub.status.busy": "2025-09-12T13:01:03.519495Z",
     "iopub.status.idle": "2025-09-12T13:01:03.522225Z",
     "shell.execute_reply": "2025-09-12T13:01:03.521714Z"
    }
   },
   "outputs": [],
   "source": [
    "time = datetime.now(time_zone).strftime(\"%H:%M:%S\")"
   ]
  },
  {
   "cell_type": "code",
   "execution_count": 5,
   "id": "54e8231d-1c78-465c-ab15-9f3c9001bd65",
   "metadata": {
    "execution": {
     "iopub.execute_input": "2025-09-12T13:01:03.523750Z",
     "iopub.status.busy": "2025-09-12T13:01:03.523597Z",
     "iopub.status.idle": "2025-09-12T13:01:03.526161Z",
     "shell.execute_reply": "2025-09-12T13:01:03.525673Z"
    }
   },
   "outputs": [],
   "source": [
    "url = f'https://cpcb.nic.in//upload/Downloads/AQI_Bulletin_{date}.pdf'"
   ]
  },
  {
   "cell_type": "code",
   "execution_count": 6,
   "id": "a64a93dc-2aba-47f6-901d-c07dee819f52",
   "metadata": {
    "execution": {
     "iopub.execute_input": "2025-09-12T13:01:03.527708Z",
     "iopub.status.busy": "2025-09-12T13:01:03.527552Z",
     "iopub.status.idle": "2025-09-12T13:01:05.827734Z",
     "shell.execute_reply": "2025-09-12T13:01:05.827111Z"
    }
   },
   "outputs": [
    {
     "name": "stderr",
     "output_type": "stream",
     "text": [
      "/opt/hostedtoolcache/Python/3.11.13/x64/lib/python3.11/site-packages/urllib3/connectionpool.py:1097: InsecureRequestWarning: Unverified HTTPS request is being made to host 'cpcb.nic.in'. Adding certificate verification is strongly advised. See: https://urllib3.readthedocs.io/en/latest/advanced-usage.html#tls-warnings\n",
      "  warnings.warn(\n"
     ]
    },
    {
     "name": "stdout",
     "output_type": "stream",
     "text": [
      "Download successful.\n"
     ]
    }
   ],
   "source": [
    "response = requests.get(url, headers={\"User-Agent\": \"Mozilla/5.0\"}, verify=False)\n",
    "\n",
    "if response.status_code == 200:\n",
    "    with open(f\"AQI_Bulletin_{date}.pdf\", \"wb\") as f:\n",
    "        f.write(response.content)\n",
    "    print(\"Download successful.\")\n",
    "else:\n",
    "    print(\"Failed to download:\", response.status_code)"
   ]
  },
  {
   "cell_type": "code",
   "execution_count": 7,
   "id": "06efcb47-a867-4e95-8df0-de5ed0d0ad1c",
   "metadata": {
    "execution": {
     "iopub.execute_input": "2025-09-12T13:01:05.829401Z",
     "iopub.status.busy": "2025-09-12T13:01:05.829241Z",
     "iopub.status.idle": "2025-09-12T13:01:05.831936Z",
     "shell.execute_reply": "2025-09-12T13:01:05.831422Z"
    }
   },
   "outputs": [],
   "source": [
    "daily_doc = f'AQI_Bulletin_{date}.pdf'"
   ]
  },
  {
   "cell_type": "code",
   "execution_count": 8,
   "id": "75527bb6-7687-47b4-87e1-b7812fe080a9",
   "metadata": {
    "execution": {
     "iopub.execute_input": "2025-09-12T13:01:05.833515Z",
     "iopub.status.busy": "2025-09-12T13:01:05.833348Z",
     "iopub.status.idle": "2025-09-12T13:01:06.701262Z",
     "shell.execute_reply": "2025-09-12T13:01:06.700615Z"
    }
   },
   "outputs": [],
   "source": [
    "if daily_doc:\n",
    "    tables = []\n",
    "    with pdfplumber.open(daily_doc) as pdf:\n",
    "        for page in pdf.pages[:-1]:\n",
    "            extracted_tables = page.extract_tables()\n",
    "            # print(extracted_tables[0])\n",
    "            tables.extend(extracted_tables)"
   ]
  },
  {
   "cell_type": "code",
   "execution_count": 9,
   "id": "c20c5755-dec4-4918-a7be-ee9870e5302f",
   "metadata": {
    "execution": {
     "iopub.execute_input": "2025-09-12T13:01:06.703150Z",
     "iopub.status.busy": "2025-09-12T13:01:06.702949Z",
     "iopub.status.idle": "2025-09-12T13:01:06.706260Z",
     "shell.execute_reply": "2025-09-12T13:01:06.705602Z"
    }
   },
   "outputs": [],
   "source": [
    "clean_tables = []\n",
    "for table in tables:\n",
    "    table_wihtout_headers = table[1:]\n",
    "    clean_tables.append(table_wihtout_headers)"
   ]
  },
  {
   "cell_type": "code",
   "execution_count": 10,
   "id": "bb3bf321-f0b4-4066-80b2-6fa4fb547169",
   "metadata": {
    "execution": {
     "iopub.execute_input": "2025-09-12T13:01:06.707858Z",
     "iopub.status.busy": "2025-09-12T13:01:06.707686Z",
     "iopub.status.idle": "2025-09-12T13:01:06.712850Z",
     "shell.execute_reply": "2025-09-12T13:01:06.712304Z"
    }
   },
   "outputs": [],
   "source": [
    "df_list = []\n",
    "for each_table in clean_tables:\n",
    "    df = pd.DataFrame(each_table)\n",
    "    df_list.append(df)"
   ]
  },
  {
   "cell_type": "code",
   "execution_count": 11,
   "id": "22d95c34-ceff-4728-945c-d3f72323b765",
   "metadata": {
    "execution": {
     "iopub.execute_input": "2025-09-12T13:01:06.714522Z",
     "iopub.status.busy": "2025-09-12T13:01:06.714364Z",
     "iopub.status.idle": "2025-09-12T13:01:06.717785Z",
     "shell.execute_reply": "2025-09-12T13:01:06.717327Z"
    }
   },
   "outputs": [],
   "source": [
    "df_combined = pd.concat(df_list, ignore_index=True)\n",
    "df_combined.columns = tables[0][0]"
   ]
  },
  {
   "cell_type": "code",
   "execution_count": 12,
   "id": "9fdb1891-7849-4831-ae59-214062c3aa0e",
   "metadata": {
    "execution": {
     "iopub.execute_input": "2025-09-12T13:01:06.719211Z",
     "iopub.status.busy": "2025-09-12T13:01:06.719055Z",
     "iopub.status.idle": "2025-09-12T13:01:06.722463Z",
     "shell.execute_reply": "2025-09-12T13:01:06.721846Z"
    }
   },
   "outputs": [],
   "source": [
    "df = df_combined.drop(columns=['S.No']) #, 'Prominent Pollutant', 'No. of Stations\\nParticipated/\\nTotal Stations'])"
   ]
  },
  {
   "cell_type": "code",
   "execution_count": 13,
   "id": "2988aebe-c589-4f7a-8689-371f6fbff1c4",
   "metadata": {
    "execution": {
     "iopub.execute_input": "2025-09-12T13:01:06.723955Z",
     "iopub.status.busy": "2025-09-12T13:01:06.723801Z",
     "iopub.status.idle": "2025-09-12T13:01:06.727386Z",
     "shell.execute_reply": "2025-09-12T13:01:06.726938Z"
    }
   },
   "outputs": [],
   "source": [
    "df.columns = df.columns.str.replace(\"\\n\", \" \").str.replace(\" \",\"_\").str.replace(\"/\", \"\")"
   ]
  },
  {
   "cell_type": "code",
   "execution_count": 14,
   "id": "83ebc6e2-0403-48d6-b9e4-8d41760ffb47",
   "metadata": {
    "execution": {
     "iopub.execute_input": "2025-09-12T13:01:06.728879Z",
     "iopub.status.busy": "2025-09-12T13:01:06.728726Z",
     "iopub.status.idle": "2025-09-12T13:01:06.732719Z",
     "shell.execute_reply": "2025-09-12T13:01:06.732274Z"
    }
   },
   "outputs": [
    {
     "data": {
      "text/plain": [
       "Index(['City', 'Air_Quality', 'Index_Value', 'Prominent_Pollutant',\n",
       "       'No._of_Stations_Participated_Total_Stations'],\n",
       "      dtype='object')"
      ]
     },
     "execution_count": 14,
     "metadata": {},
     "output_type": "execute_result"
    }
   ],
   "source": [
    "df.columns"
   ]
  },
  {
   "cell_type": "code",
   "execution_count": 15,
   "id": "98de0784-0938-459e-a1cb-a735ca771785",
   "metadata": {
    "execution": {
     "iopub.execute_input": "2025-09-12T13:01:06.734167Z",
     "iopub.status.busy": "2025-09-12T13:01:06.733990Z",
     "iopub.status.idle": "2025-09-12T13:01:06.737079Z",
     "shell.execute_reply": "2025-09-12T13:01:06.736598Z"
    }
   },
   "outputs": [],
   "source": [
    "df['Index_Value'] = df['Index_Value'].astype(int)"
   ]
  },
  {
   "cell_type": "code",
   "execution_count": 16,
   "id": "2ccb929c-ddba-4428-9a6f-21154b27c9d2",
   "metadata": {
    "execution": {
     "iopub.execute_input": "2025-09-12T13:01:06.738503Z",
     "iopub.status.busy": "2025-09-12T13:01:06.738337Z",
     "iopub.status.idle": "2025-09-12T13:01:06.741044Z",
     "shell.execute_reply": "2025-09-12T13:01:06.740461Z"
    }
   },
   "outputs": [],
   "source": [
    "API_KEY = os.getenv(\"GOOGLE_API_KEY\")"
   ]
  },
  {
   "cell_type": "code",
   "execution_count": 17,
   "id": "eb50974e-3251-42f3-aff4-f95c8eb99938",
   "metadata": {
    "execution": {
     "iopub.execute_input": "2025-09-12T13:01:06.742484Z",
     "iopub.status.busy": "2025-09-12T13:01:06.742325Z",
     "iopub.status.idle": "2025-09-12T13:01:06.745082Z",
     "shell.execute_reply": "2025-09-12T13:01:06.744506Z"
    }
   },
   "outputs": [],
   "source": [
    "gmaps = googlemaps.Client(key=API_KEY)"
   ]
  },
  {
   "cell_type": "code",
   "execution_count": 18,
   "id": "b492a1f4-8f7b-4e81-bd89-4e689c462aee",
   "metadata": {
    "execution": {
     "iopub.execute_input": "2025-09-12T13:01:06.746546Z",
     "iopub.status.busy": "2025-09-12T13:01:06.746391Z",
     "iopub.status.idle": "2025-09-12T13:01:25.714578Z",
     "shell.execute_reply": "2025-09-12T13:01:25.714056Z"
    }
   },
   "outputs": [],
   "source": [
    "# Function to get state using reverse geocoding\n",
    "def get_state(city):\n",
    "    try:\n",
    "        geocode_result = gmaps.geocode(f\"{city}, India\")\n",
    "        for component in geocode_result[0]['address_components']:\n",
    "            if 'administrative_area_level_1' in component['types']:\n",
    "                return component['long_name']\n",
    "    except Exception as e:\n",
    "        return None\n",
    "\n",
    "df[\"State\"] = df[\"City\"].apply(get_state)"
   ]
  },
  {
   "cell_type": "code",
   "execution_count": 19,
   "id": "2d22fdf2-07d8-4568-abe1-ee0e33f90b5a",
   "metadata": {
    "execution": {
     "iopub.execute_input": "2025-09-12T13:01:25.716356Z",
     "iopub.status.busy": "2025-09-12T13:01:25.716197Z",
     "iopub.status.idle": "2025-09-12T13:01:25.723260Z",
     "shell.execute_reply": "2025-09-12T13:01:25.722573Z"
    }
   },
   "outputs": [],
   "source": [
    "df.sort_values(by='Index_Value', ascending=False).to_csv(f'daily_aqi_{date}.csv', index=False)"
   ]
  },
  {
   "cell_type": "code",
   "execution_count": 20,
   "id": "e6911dee-d043-4309-a9d0-23bcea75657c",
   "metadata": {
    "execution": {
     "iopub.execute_input": "2025-09-12T13:01:25.724872Z",
     "iopub.status.busy": "2025-09-12T13:01:25.724711Z",
     "iopub.status.idle": "2025-09-12T13:01:25.728267Z",
     "shell.execute_reply": "2025-09-12T13:01:25.727790Z"
    }
   },
   "outputs": [],
   "source": [
    "# Function to geocode addresses\n",
    "def geocode_google(address):\n",
    "    try:\n",
    "        geocode_result = gmaps.geocode(address)\n",
    "        if geocode_result:\n",
    "            location = geocode_result[0]['geometry']['location']\n",
    "            return pd.Series([location['lat'], location['lng']])\n",
    "        else:\n",
    "            return pd.Series([None, None])\n",
    "    except Exception as e:\n",
    "        return pd.Series([None, None])"
   ]
  },
  {
   "cell_type": "code",
   "execution_count": 21,
   "id": "564ed777-ae4f-45da-9319-b4cc7eace32f",
   "metadata": {
    "execution": {
     "iopub.execute_input": "2025-09-12T13:01:25.729746Z",
     "iopub.status.busy": "2025-09-12T13:01:25.729593Z",
     "iopub.status.idle": "2025-09-12T13:01:41.040950Z",
     "shell.execute_reply": "2025-09-12T13:01:41.040425Z"
    }
   },
   "outputs": [],
   "source": [
    "# Apply geocoding function to the DataFrame\n",
    "df[['Latitude', 'Longitude']] = df['City'].apply(geocode_google)"
   ]
  },
  {
   "cell_type": "code",
   "execution_count": 22,
   "id": "ab2f5d77-6e43-4b91-8419-d44b166326ff",
   "metadata": {
    "execution": {
     "iopub.execute_input": "2025-09-12T13:01:41.042758Z",
     "iopub.status.busy": "2025-09-12T13:01:41.042599Z",
     "iopub.status.idle": "2025-09-12T13:01:41.045566Z",
     "shell.execute_reply": "2025-09-12T13:01:41.045034Z"
    }
   },
   "outputs": [],
   "source": [
    "df['date'] = date"
   ]
  },
  {
   "cell_type": "code",
   "execution_count": 23,
   "id": "0c9380cf-e95b-419c-a059-f7d451f64713",
   "metadata": {
    "execution": {
     "iopub.execute_input": "2025-09-12T13:01:41.047261Z",
     "iopub.status.busy": "2025-09-12T13:01:41.047111Z",
     "iopub.status.idle": "2025-09-12T13:01:51.174381Z",
     "shell.execute_reply": "2025-09-12T13:01:51.173797Z"
    },
    "scrolled": true
   },
   "outputs": [],
   "source": [
    "if len(df[df['Latitude'].isna()]['City']) > 0:\n",
    "    df[['Latitude', 'Longitude']] = df['City'].apply(geocode_google)"
   ]
  },
  {
   "cell_type": "code",
   "execution_count": 24,
   "id": "c3a07744-243c-40e8-be52-9537b39b587e",
   "metadata": {
    "execution": {
     "iopub.execute_input": "2025-09-12T13:01:51.176212Z",
     "iopub.status.busy": "2025-09-12T13:01:51.175920Z",
     "iopub.status.idle": "2025-09-12T13:01:51.180493Z",
     "shell.execute_reply": "2025-09-12T13:01:51.180026Z"
    }
   },
   "outputs": [
    {
     "data": {
      "text/plain": [
       "1"
      ]
     },
     "execution_count": 24,
     "metadata": {},
     "output_type": "execute_result"
    }
   ],
   "source": [
    "len(df[df['Latitude'].isna()]['City'])"
   ]
  },
  {
   "cell_type": "code",
   "execution_count": 25,
   "id": "108f3cc9-869b-44e4-9d57-ab4e670a5bb8",
   "metadata": {
    "execution": {
     "iopub.execute_input": "2025-09-12T13:01:51.181946Z",
     "iopub.status.busy": "2025-09-12T13:01:51.181791Z",
     "iopub.status.idle": "2025-09-12T13:01:51.185877Z",
     "shell.execute_reply": "2025-09-12T13:01:51.185271Z"
    }
   },
   "outputs": [],
   "source": [
    "if len(df[df['Latitude'].isna()]['City']) > 0:\n",
    "    df['Latitude'] = df['Latitude'].fillna('0')\n",
    "    df['Longitude'] = df['Longitude'].fillna('0')"
   ]
  },
  {
   "cell_type": "code",
   "execution_count": 26,
   "id": "8d1ef039-c623-44c2-9fc0-67c88a850dca",
   "metadata": {
    "execution": {
     "iopub.execute_input": "2025-09-12T13:01:51.187444Z",
     "iopub.status.busy": "2025-09-12T13:01:51.187279Z",
     "iopub.status.idle": "2025-09-12T13:01:51.191392Z",
     "shell.execute_reply": "2025-09-12T13:01:51.190955Z"
    }
   },
   "outputs": [
    {
     "data": {
      "text/plain": [
       "0"
      ]
     },
     "execution_count": 26,
     "metadata": {},
     "output_type": "execute_result"
    }
   ],
   "source": [
    "len(df[df['Latitude'].isna()]['City']) "
   ]
  },
  {
   "cell_type": "code",
   "execution_count": 27,
   "id": "4d8a8a15-d69f-4ed2-9dcd-c8022403c593",
   "metadata": {
    "execution": {
     "iopub.execute_input": "2025-09-12T13:01:51.192848Z",
     "iopub.status.busy": "2025-09-12T13:01:51.192683Z",
     "iopub.status.idle": "2025-09-12T13:01:51.308959Z",
     "shell.execute_reply": "2025-09-12T13:01:51.308432Z"
    }
   },
   "outputs": [],
   "source": [
    "with pdfplumber.open(daily_doc) as pdf:\n",
    "    last_page_text = pdf.pages[-1].extract_text()"
   ]
  },
  {
   "cell_type": "code",
   "execution_count": 28,
   "id": "4b3d87b6-5da5-45a6-a0a5-08acf306e663",
   "metadata": {
    "execution": {
     "iopub.execute_input": "2025-09-12T13:01:51.310801Z",
     "iopub.status.busy": "2025-09-12T13:01:51.310638Z",
     "iopub.status.idle": "2025-09-12T13:01:51.313567Z",
     "shell.execute_reply": "2025-09-12T13:01:51.313018Z"
    }
   },
   "outputs": [],
   "source": [
    "text = last_page_text.replace(\"\\n\", \" \")"
   ]
  },
  {
   "cell_type": "code",
   "execution_count": 29,
   "id": "acd01d31-8423-468e-95a2-86fc20cdf394",
   "metadata": {
    "execution": {
     "iopub.execute_input": "2025-09-12T13:01:51.315050Z",
     "iopub.status.busy": "2025-09-12T13:01:51.314878Z",
     "iopub.status.idle": "2025-09-12T13:01:51.317677Z",
     "shell.execute_reply": "2025-09-12T13:01:51.317173Z"
    }
   },
   "outputs": [],
   "source": [
    "list_of_no_data_cities = text.split(\":\")[1].split(\",\")"
   ]
  },
  {
   "cell_type": "code",
   "execution_count": 30,
   "id": "8a955366-b3d9-4f61-9fc3-14c6b8c34b9d",
   "metadata": {
    "execution": {
     "iopub.execute_input": "2025-09-12T13:01:51.319160Z",
     "iopub.status.busy": "2025-09-12T13:01:51.318974Z",
     "iopub.status.idle": "2025-09-12T13:01:51.321935Z",
     "shell.execute_reply": "2025-09-12T13:01:51.321482Z"
    }
   },
   "outputs": [],
   "source": [
    "no_data_cities = []\n",
    "for each_city in list_of_no_data_cities:\n",
    "    city_name = each_city.split(\")\")[1].strip()\n",
    "    no_data_cities.append(city_name)"
   ]
  },
  {
   "cell_type": "code",
   "execution_count": 31,
   "id": "27be2af5-1f94-44b9-9e58-f25ff0d81791",
   "metadata": {
    "execution": {
     "iopub.execute_input": "2025-09-12T13:01:51.323422Z",
     "iopub.status.busy": "2025-09-12T13:01:51.323270Z",
     "iopub.status.idle": "2025-09-12T13:01:58.088216Z",
     "shell.execute_reply": "2025-09-12T13:01:58.087674Z"
    }
   },
   "outputs": [],
   "source": [
    "geocoded_no_data_cities = []\n",
    "for each_city in no_data_cities:\n",
    "    no_data_city_dict = {}\n",
    "    no_data_city_dict['city'] = each_city \n",
    "    no_data_city_dict['lat'] = geocode_google(each_city)[0]\n",
    "    no_data_city_dict['long'] = geocode_google(each_city)[1]\n",
    "    geocoded_no_data_cities.append(no_data_city_dict)"
   ]
  },
  {
   "cell_type": "code",
   "execution_count": 32,
   "id": "a0462a2b-c69b-433e-866e-2d72965f7e01",
   "metadata": {
    "execution": {
     "iopub.execute_input": "2025-09-12T13:01:58.089912Z",
     "iopub.status.busy": "2025-09-12T13:01:58.089756Z",
     "iopub.status.idle": "2025-09-12T13:02:01.838767Z",
     "shell.execute_reply": "2025-09-12T13:02:01.838231Z"
    }
   },
   "outputs": [],
   "source": [
    "df_no_data = pd.DataFrame(geocoded_no_data_cities)\n",
    "df_no_data['state'] = df_no_data['city'].apply(get_state)"
   ]
  },
  {
   "cell_type": "code",
   "execution_count": 33,
   "id": "48bdd438-1b03-4a1b-b2d0-7b5c69f3be34",
   "metadata": {
    "execution": {
     "iopub.execute_input": "2025-09-12T13:02:01.840573Z",
     "iopub.status.busy": "2025-09-12T13:02:01.840400Z",
     "iopub.status.idle": "2025-09-12T13:02:01.843446Z",
     "shell.execute_reply": "2025-09-12T13:02:01.842871Z"
    }
   },
   "outputs": [],
   "source": [
    "df_no_data['date'] = date"
   ]
  },
  {
   "cell_type": "code",
   "execution_count": 34,
   "id": "7fe69ef7-58bf-4628-8d6c-0b7d7bda9474",
   "metadata": {
    "execution": {
     "iopub.execute_input": "2025-09-12T13:02:01.844906Z",
     "iopub.status.busy": "2025-09-12T13:02:01.844744Z",
     "iopub.status.idle": "2025-09-12T13:02:01.847949Z",
     "shell.execute_reply": "2025-09-12T13:02:01.847410Z"
    }
   },
   "outputs": [],
   "source": [
    "if len(df_no_data[df_no_data['lat'].isna()]) > 0:\n",
    "    df_no_data['city'].apply(geocode_google)"
   ]
  },
  {
   "cell_type": "code",
   "execution_count": 35,
   "id": "89086515-d835-4e93-aaac-76ef94e7fc12",
   "metadata": {
    "execution": {
     "iopub.execute_input": "2025-09-12T13:02:01.849390Z",
     "iopub.status.busy": "2025-09-12T13:02:01.849233Z",
     "iopub.status.idle": "2025-09-12T13:02:01.852461Z",
     "shell.execute_reply": "2025-09-12T13:02:01.851888Z"
    }
   },
   "outputs": [],
   "source": [
    "if len(df_no_data[df_no_data['lat'].isna()]) > 0:\n",
    "    df_no_data['lat'] = df_no_data['lat'].fillna('0')\n",
    "    df_no_data['long'] = df_no_data['long'].fillna('0')"
   ]
  },
  {
   "cell_type": "code",
   "execution_count": 36,
   "id": "a3c28d6d-85fd-412a-b018-67c62e1d280a",
   "metadata": {
    "execution": {
     "iopub.execute_input": "2025-09-12T13:02:01.853920Z",
     "iopub.status.busy": "2025-09-12T13:02:01.853759Z",
     "iopub.status.idle": "2025-09-12T13:02:01.857569Z",
     "shell.execute_reply": "2025-09-12T13:02:01.857030Z"
    }
   },
   "outputs": [],
   "source": [
    "df_no_data.to_csv('no_data_cities.csv', index=False)"
   ]
  },
  {
   "cell_type": "code",
   "execution_count": 37,
   "id": "ba75d3bf-8a6d-4c2c-81c1-e7703a09c759",
   "metadata": {
    "execution": {
     "iopub.execute_input": "2025-09-12T13:02:01.859045Z",
     "iopub.status.busy": "2025-09-12T13:02:01.858860Z",
     "iopub.status.idle": "2025-09-12T13:02:01.884570Z",
     "shell.execute_reply": "2025-09-12T13:02:01.884120Z"
    }
   },
   "outputs": [],
   "source": [
    "# Create base map\n",
    "m1 = folium.Map(location=[22.9734, 78.6569], zoom_start=4.5)\n",
    "\n",
    "map_date = pd.to_datetime(df['date'].iloc[0]).strftime(\"%B %d, %Y\")  # Optional formatting\n",
    "\n",
    "# Define map center\n",
    "map_center = [33.9734, 78.6569]\n",
    "\n",
    "heat_data = [[row['Latitude'], row['Longitude'], row['Index_Value']] for index, row in df.iterrows()]\n",
    "HeatMap(heat_data, radius=13, blur=10, max_zoom=4.5).add_to(m1)\n",
    "\n",
    "folium.map.Marker(\n",
    "    [33.5, 78],  # Approximate location to place annotation (adjust as needed)\n",
    "    icon=folium.DivIcon(html=\"\"\"\n",
    "        <div style=\"position: absolute; top: 10px; left: 10px; font-size: 12px; font-weight: bold; \n",
    "                    background: rgba(255, 255, 255, 0.5); padding: 2px; border-radius: 1px; \n",
    "                    border: 1px solid; white-space: nowrap; z-index:9999;\">\n",
    "            Zoom in at area of interest\n",
    "        </div>\n",
    "    \"\"\")\n",
    ").add_to(m1)\n",
    "\n",
    "folium.map.Marker(\n",
    "    map_center,\n",
    "    icon=folium.DivIcon(html=f\"\"\"\n",
    "        <div style=\"text-align: center; font-size: 12px; min-width: 120px; font-weight: bold; \n",
    "                    background: rgba(255, 255, 255, 0.3); padding: 0px 0px; border-radius: 1px; \n",
    "                    border: 1px solid; z-index:9999;\">\n",
    "            {map_date}\n",
    "        </div>\n",
    "    \"\"\")\n",
    ").add_to(m1)\n",
    "\n",
    "m1.save(f\"daily_map_{date}.html\")"
   ]
  },
  {
   "cell_type": "code",
   "execution_count": 38,
   "id": "892eb9a7-4270-4102-9786-9bc0e54602ba",
   "metadata": {
    "execution": {
     "iopub.execute_input": "2025-09-12T13:02:01.886168Z",
     "iopub.status.busy": "2025-09-12T13:02:01.885957Z",
     "iopub.status.idle": "2025-09-12T13:02:01.889490Z",
     "shell.execute_reply": "2025-09-12T13:02:01.889022Z"
    }
   },
   "outputs": [],
   "source": [
    "with open(f\"daily_map_{date}.html\", \"r\") as source_file:\n",
    "    content = source_file.read()\n",
    "\n",
    "with open(\"daily_map.html\", \"w\") as target_file:\n",
    "    target_file.write(content)"
   ]
  },
  {
   "cell_type": "code",
   "execution_count": 39,
   "id": "c816e227-fa01-4b0a-b571-76c9b1c52fbc",
   "metadata": {
    "execution": {
     "iopub.execute_input": "2025-09-12T13:02:01.891005Z",
     "iopub.status.busy": "2025-09-12T13:02:01.890835Z",
     "iopub.status.idle": "2025-09-12T13:02:01.981981Z",
     "shell.execute_reply": "2025-09-12T13:02:01.981483Z"
    }
   },
   "outputs": [],
   "source": [
    "# Create a base map centered around India\n",
    "m2 = folium.Map(location=[22.9734, 78.9629], zoom_start=4.5)\n",
    "\n",
    "# Add markers with city names as labels\n",
    "for _, row in df_no_data.iterrows():\n",
    "    folium.Marker(\n",
    "        location=[row[\"lat\"], row[\"long\"]],\n",
    "        popup=folium.Popup(row[\"city\"], parse_html=True),\n",
    "        icon=folium.Icon(color=\"red\", icon=\"flag\")\n",
    "    ).add_to(m2)\n",
    "\n",
    "folium.map.Marker(\n",
    "    [33.5, 78],  # Approximate location to place annotation (adjust as needed)\n",
    "    icon=folium.DivIcon(html=\"\"\"\n",
    "        <div style=\"position: absolute; top: 10px; left: 10px; font-size: 12px; font-weight: bold; \n",
    "                    background: rgba(255, 255, 255, 0.5); padding: 2px; border-radius: 1px; \n",
    "                    border: 1px solid; white-space: nowrap; z-index:9999;\">\n",
    "            Zoom in at area of interest\n",
    "        </div>\n",
    "    \"\"\")\n",
    ").add_to(m2)\n",
    "\n",
    "folium.map.Marker(\n",
    "    map_center,\n",
    "    icon=folium.DivIcon(html=f\"\"\"\n",
    "        <div style=\"text-align: center; font-size: 12px; min-width: 120px; font-weight: bold; \n",
    "                    background: rgba(255, 255, 255, 0.3); padding: 0px 0px; border-radius: 1px; \n",
    "                    border: 1px solid; z-index:9999;\">\n",
    "            {map_date}\n",
    "        </div>\n",
    "    \"\"\")\n",
    ").add_to(m2)\n",
    "\n",
    "# Display the map\n",
    "m2.save(f\"no_data_map_{date}.html\")"
   ]
  },
  {
   "cell_type": "code",
   "execution_count": 40,
   "id": "30ed4797-7823-4294-95c1-f0f6b6c23dcb",
   "metadata": {
    "execution": {
     "iopub.execute_input": "2025-09-12T13:02:01.983849Z",
     "iopub.status.busy": "2025-09-12T13:02:01.983679Z",
     "iopub.status.idle": "2025-09-12T13:02:01.987372Z",
     "shell.execute_reply": "2025-09-12T13:02:01.986884Z"
    }
   },
   "outputs": [],
   "source": [
    "with open(f\"no_data_map_{date}.html\", \"r\") as source_file:\n",
    "    content = source_file.read()\n",
    "\n",
    "with open(\"no_data_map.html\", \"w\") as target_file:\n",
    "    target_file.write(content)"
   ]
  },
  {
   "cell_type": "markdown",
   "id": "0673c4b3-bc59-4e80-97d2-2ab9463b0403",
   "metadata": {},
   "source": [
    "#Make an empty list\n",
    "#Save it to a csv \n",
    "#Read into the csv as df\n",
    "#Start adding to the df daily\n",
    "#Save it as csv again?\n",
    "\n",
    "OR\n",
    "\n",
    "#Once df is processed, change the name to have that day's date {date}\n",
    "#Sort descending and take head(10)\n",
    "#save in a different folder\n",
    "#Use os to read ontp the folder and make a list of files inside\n",
    "#Give it a condition: if len(list) > 7, then throw out the oldest one or wait for the new ones to collect into set of 7 \n",
    "#Take mean and display in a table"
   ]
  },
  {
   "cell_type": "code",
   "execution_count": null,
   "id": "13d06fbd-80a2-42dc-bf1d-625707f403ff",
   "metadata": {},
   "outputs": [],
   "source": []
  }
 ],
 "metadata": {
  "kernelspec": {
   "display_name": "python3.11",
   "language": "python",
   "name": "python3.11"
  },
  "language_info": {
   "codemirror_mode": {
    "name": "ipython",
    "version": 3
   },
   "file_extension": ".py",
   "mimetype": "text/x-python",
   "name": "python",
   "nbconvert_exporter": "python",
   "pygments_lexer": "ipython3",
   "version": "3.11.13"
  }
 },
 "nbformat": 4,
 "nbformat_minor": 5
}
