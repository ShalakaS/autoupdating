{
 "cells": [
  {
   "cell_type": "code",
   "execution_count": 1,
   "id": "df35fa10-763b-45b2-b97a-c4839007a9d5",
   "metadata": {
    "execution": {
     "iopub.execute_input": "2025-03-25T13:02:25.534199Z",
     "iopub.status.busy": "2025-03-25T13:02:25.533703Z",
     "iopub.status.idle": "2025-03-25T13:02:26.222492Z",
     "shell.execute_reply": "2025-03-25T13:02:26.221830Z"
    }
   },
   "outputs": [],
   "source": [
    "import requests\n",
    "import re\n",
    "import pandas as pd\n",
    "from datetime import datetime\n",
    "import pdfplumber\n",
    "import certifi\n",
    "import sys\n",
    "import folium\n",
    "from folium.plugins import HeatMap\n",
    "import googlemaps\n",
    "import pytz\n",
    "from dotenv import load_dotenv\n",
    "import os"
   ]
  },
  {
   "cell_type": "code",
   "execution_count": 2,
   "id": "05d798bc-5c67-4451-afcc-a9763efc974b",
   "metadata": {
    "execution": {
     "iopub.execute_input": "2025-03-25T13:02:26.224971Z",
     "iopub.status.busy": "2025-03-25T13:02:26.224711Z",
     "iopub.status.idle": "2025-03-25T13:02:26.231117Z",
     "shell.execute_reply": "2025-03-25T13:02:26.230584Z"
    }
   },
   "outputs": [
    {
     "data": {
      "text/plain": [
       "False"
      ]
     },
     "execution_count": 2,
     "metadata": {},
     "output_type": "execute_result"
    }
   ],
   "source": [
    "load_dotenv()"
   ]
  },
  {
   "cell_type": "code",
   "execution_count": 3,
   "id": "cda0db2d-2998-4180-894f-f0a4a4216394",
   "metadata": {
    "execution": {
     "iopub.execute_input": "2025-03-25T13:02:26.233222Z",
     "iopub.status.busy": "2025-03-25T13:02:26.233020Z",
     "iopub.status.idle": "2025-03-25T13:02:26.251966Z",
     "shell.execute_reply": "2025-03-25T13:02:26.251311Z"
    }
   },
   "outputs": [
    {
     "data": {
      "text/plain": [
       "'20250325'"
      ]
     },
     "execution_count": 3,
     "metadata": {},
     "output_type": "execute_result"
    }
   ],
   "source": [
    "time_zone = pytz.timezone('Asia/Kolkata')\n",
    "date = datetime.now(time_zone).strftime(\"%Y%m%d\")\n",
    "date"
   ]
  },
  {
   "cell_type": "code",
   "execution_count": 4,
   "id": "9a8e0d85-ec36-458b-a6aa-d6afa36de260",
   "metadata": {
    "execution": {
     "iopub.execute_input": "2025-03-25T13:02:26.254131Z",
     "iopub.status.busy": "2025-03-25T13:02:26.253921Z",
     "iopub.status.idle": "2025-03-25T13:02:26.257299Z",
     "shell.execute_reply": "2025-03-25T13:02:26.256651Z"
    }
   },
   "outputs": [],
   "source": [
    "date = '20250322'"
   ]
  },
  {
   "cell_type": "code",
   "execution_count": 5,
   "id": "785d4ca3-6b04-47dd-b5ca-497861fb2b7c",
   "metadata": {
    "execution": {
     "iopub.execute_input": "2025-03-25T13:02:26.259128Z",
     "iopub.status.busy": "2025-03-25T13:02:26.258957Z",
     "iopub.status.idle": "2025-03-25T13:02:26.262011Z",
     "shell.execute_reply": "2025-03-25T13:02:26.261415Z"
    }
   },
   "outputs": [],
   "source": [
    "time = datetime.now(time_zone).strftime(\"%H:%M:%S\")"
   ]
  },
  {
   "cell_type": "code",
   "execution_count": 6,
   "id": "54e8231d-1c78-465c-ab15-9f3c9001bd65",
   "metadata": {
    "execution": {
     "iopub.execute_input": "2025-03-25T13:02:26.263884Z",
     "iopub.status.busy": "2025-03-25T13:02:26.263542Z",
     "iopub.status.idle": "2025-03-25T13:02:26.266387Z",
     "shell.execute_reply": "2025-03-25T13:02:26.265866Z"
    }
   },
   "outputs": [],
   "source": [
    "url = f'https://cpcb.nic.in//upload/Downloads/AQI_Bulletin_{date}.pdf'"
   ]
  },
  {
   "cell_type": "code",
   "execution_count": 7,
   "id": "a64a93dc-2aba-47f6-901d-c07dee819f52",
   "metadata": {
    "execution": {
     "iopub.execute_input": "2025-03-25T13:02:26.268326Z",
     "iopub.status.busy": "2025-03-25T13:02:26.267893Z",
     "iopub.status.idle": "2025-03-25T13:02:27.775150Z",
     "shell.execute_reply": "2025-03-25T13:02:27.774536Z"
    }
   },
   "outputs": [
    {
     "name": "stdout",
     "output_type": "stream",
     "text": [
      "Download successful.\n"
     ]
    }
   ],
   "source": [
    "response = requests.get(url, headers={\"User-Agent\": \"Mozilla/5.0\"}, verify=certifi.where())\n",
    "\n",
    "if response.status_code == 200:\n",
    "    with open(f\"AQI_Bulletin_{date}.pdf\", \"wb\") as f:\n",
    "        f.write(response.content)\n",
    "    print(\"Download successful.\")\n",
    "else:\n",
    "    print(\"Failed to download:\", response.status_code)"
   ]
  },
  {
   "cell_type": "code",
   "execution_count": 8,
   "id": "06efcb47-a867-4e95-8df0-de5ed0d0ad1c",
   "metadata": {
    "execution": {
     "iopub.execute_input": "2025-03-25T13:02:27.776997Z",
     "iopub.status.busy": "2025-03-25T13:02:27.776812Z",
     "iopub.status.idle": "2025-03-25T13:02:27.779918Z",
     "shell.execute_reply": "2025-03-25T13:02:27.779398Z"
    }
   },
   "outputs": [],
   "source": [
    "daily_doc = f'AQI_Bulletin_{date}.pdf'"
   ]
  },
  {
   "cell_type": "code",
   "execution_count": 9,
   "id": "75527bb6-7687-47b4-87e1-b7812fe080a9",
   "metadata": {
    "execution": {
     "iopub.execute_input": "2025-03-25T13:02:27.781814Z",
     "iopub.status.busy": "2025-03-25T13:02:27.781475Z",
     "iopub.status.idle": "2025-03-25T13:02:28.661077Z",
     "shell.execute_reply": "2025-03-25T13:02:28.660429Z"
    }
   },
   "outputs": [],
   "source": [
    "if daily_doc:\n",
    "    tables = []\n",
    "    with pdfplumber.open(daily_doc) as pdf:\n",
    "        for page in pdf.pages[:-1]:\n",
    "            extracted_tables = page.extract_tables()\n",
    "            # print(extracted_tables[0])\n",
    "            tables.extend(extracted_tables)"
   ]
  },
  {
   "cell_type": "code",
   "execution_count": 10,
   "id": "c20c5755-dec4-4918-a7be-ee9870e5302f",
   "metadata": {
    "execution": {
     "iopub.execute_input": "2025-03-25T13:02:28.663301Z",
     "iopub.status.busy": "2025-03-25T13:02:28.663121Z",
     "iopub.status.idle": "2025-03-25T13:02:28.666541Z",
     "shell.execute_reply": "2025-03-25T13:02:28.665840Z"
    }
   },
   "outputs": [],
   "source": [
    "clean_tables = []\n",
    "for table in tables:\n",
    "    table_wihtout_headers = table[1:]\n",
    "    clean_tables.append(table_wihtout_headers)"
   ]
  },
  {
   "cell_type": "code",
   "execution_count": 11,
   "id": "bb3bf321-f0b4-4066-80b2-6fa4fb547169",
   "metadata": {
    "execution": {
     "iopub.execute_input": "2025-03-25T13:02:28.668372Z",
     "iopub.status.busy": "2025-03-25T13:02:28.667952Z",
     "iopub.status.idle": "2025-03-25T13:02:28.673412Z",
     "shell.execute_reply": "2025-03-25T13:02:28.672945Z"
    }
   },
   "outputs": [],
   "source": [
    "df_list = []\n",
    "for each_table in clean_tables:\n",
    "    df = pd.DataFrame(each_table)\n",
    "    df_list.append(df)"
   ]
  },
  {
   "cell_type": "code",
   "execution_count": 12,
   "id": "22d95c34-ceff-4728-945c-d3f72323b765",
   "metadata": {
    "execution": {
     "iopub.execute_input": "2025-03-25T13:02:28.674963Z",
     "iopub.status.busy": "2025-03-25T13:02:28.674797Z",
     "iopub.status.idle": "2025-03-25T13:02:28.678736Z",
     "shell.execute_reply": "2025-03-25T13:02:28.678269Z"
    }
   },
   "outputs": [],
   "source": [
    "df_combined = pd.concat(df_list, ignore_index=True)\n",
    "df_combined.columns = tables[0][0]"
   ]
  },
  {
   "cell_type": "code",
   "execution_count": 13,
   "id": "9fdb1891-7849-4831-ae59-214062c3aa0e",
   "metadata": {
    "execution": {
     "iopub.execute_input": "2025-03-25T13:02:28.680463Z",
     "iopub.status.busy": "2025-03-25T13:02:28.680151Z",
     "iopub.status.idle": "2025-03-25T13:02:28.683855Z",
     "shell.execute_reply": "2025-03-25T13:02:28.683167Z"
    }
   },
   "outputs": [],
   "source": [
    "df = df_combined.drop(columns=['S.No', 'Prominent Pollutant', 'No. of Stations\\nParticipated/\\nTotal Stations'])"
   ]
  },
  {
   "cell_type": "code",
   "execution_count": 14,
   "id": "2988aebe-c589-4f7a-8689-371f6fbff1c4",
   "metadata": {
    "execution": {
     "iopub.execute_input": "2025-03-25T13:02:28.685645Z",
     "iopub.status.busy": "2025-03-25T13:02:28.685230Z",
     "iopub.status.idle": "2025-03-25T13:02:28.689132Z",
     "shell.execute_reply": "2025-03-25T13:02:28.688699Z"
    }
   },
   "outputs": [],
   "source": [
    "df.columns = df.columns.str.replace(\"\\n\", \"\").str.replace(\" \",\"_\")"
   ]
  },
  {
   "cell_type": "code",
   "execution_count": 15,
   "id": "98de0784-0938-459e-a1cb-a735ca771785",
   "metadata": {
    "execution": {
     "iopub.execute_input": "2025-03-25T13:02:28.690743Z",
     "iopub.status.busy": "2025-03-25T13:02:28.690568Z",
     "iopub.status.idle": "2025-03-25T13:02:28.694044Z",
     "shell.execute_reply": "2025-03-25T13:02:28.693565Z"
    }
   },
   "outputs": [],
   "source": [
    "df['IndexValue'] = df['IndexValue'].astype(int)"
   ]
  },
  {
   "cell_type": "code",
   "execution_count": 16,
   "id": "2ccb929c-ddba-4428-9a6f-21154b27c9d2",
   "metadata": {
    "execution": {
     "iopub.execute_input": "2025-03-25T13:02:28.695713Z",
     "iopub.status.busy": "2025-03-25T13:02:28.695532Z",
     "iopub.status.idle": "2025-03-25T13:02:28.698456Z",
     "shell.execute_reply": "2025-03-25T13:02:28.697925Z"
    }
   },
   "outputs": [],
   "source": [
    "API_KEY = os.getenv(\"GOOGLE_API_KEY\")"
   ]
  },
  {
   "cell_type": "code",
   "execution_count": 17,
   "id": "eb50974e-3251-42f3-aff4-f95c8eb99938",
   "metadata": {
    "execution": {
     "iopub.execute_input": "2025-03-25T13:02:28.700026Z",
     "iopub.status.busy": "2025-03-25T13:02:28.699862Z",
     "iopub.status.idle": "2025-03-25T13:02:28.702923Z",
     "shell.execute_reply": "2025-03-25T13:02:28.702340Z"
    }
   },
   "outputs": [],
   "source": [
    "gmaps = googlemaps.Client(key=API_KEY)"
   ]
  },
  {
   "cell_type": "code",
   "execution_count": 18,
   "id": "b492a1f4-8f7b-4e81-bd89-4e689c462aee",
   "metadata": {
    "execution": {
     "iopub.execute_input": "2025-03-25T13:02:28.704606Z",
     "iopub.status.busy": "2025-03-25T13:02:28.704288Z",
     "iopub.status.idle": "2025-03-25T13:02:44.968725Z",
     "shell.execute_reply": "2025-03-25T13:02:44.968100Z"
    }
   },
   "outputs": [],
   "source": [
    "# Function to get state using reverse geocoding\n",
    "def get_state(city):\n",
    "    try:\n",
    "        geocode_result = gmaps.geocode(f\"{city}, India\")\n",
    "        for component in geocode_result[0]['address_components']:\n",
    "            if 'administrative_area_level_1' in component['types']:\n",
    "                return component['long_name']\n",
    "    except Exception as e:\n",
    "        return None\n",
    "\n",
    "df[\"State\"] = df[\"City\"].apply(get_state)"
   ]
  },
  {
   "cell_type": "code",
   "execution_count": 19,
   "id": "2d22fdf2-07d8-4568-abe1-ee0e33f90b5a",
   "metadata": {
    "execution": {
     "iopub.execute_input": "2025-03-25T13:02:44.970749Z",
     "iopub.status.busy": "2025-03-25T13:02:44.970562Z",
     "iopub.status.idle": "2025-03-25T13:02:44.981162Z",
     "shell.execute_reply": "2025-03-25T13:02:44.980739Z"
    }
   },
   "outputs": [
    {
     "data": {
      "text/html": [
       "<div>\n",
       "<style scoped>\n",
       "    .dataframe tbody tr th:only-of-type {\n",
       "        vertical-align: middle;\n",
       "    }\n",
       "\n",
       "    .dataframe tbody tr th {\n",
       "        vertical-align: top;\n",
       "    }\n",
       "\n",
       "    .dataframe thead th {\n",
       "        text-align: right;\n",
       "    }\n",
       "</style>\n",
       "<table border=\"1\" class=\"dataframe\">\n",
       "  <thead>\n",
       "    <tr style=\"text-align: right;\">\n",
       "      <th></th>\n",
       "      <th>City</th>\n",
       "      <th>Air_Quality</th>\n",
       "      <th>IndexValue</th>\n",
       "      <th>State</th>\n",
       "    </tr>\n",
       "  </thead>\n",
       "  <tbody>\n",
       "    <tr>\n",
       "      <th>159</th>\n",
       "      <td>Nalbari</td>\n",
       "      <td>Poor</td>\n",
       "      <td>280</td>\n",
       "      <td>Assam</td>\n",
       "    </tr>\n",
       "    <tr>\n",
       "      <th>86</th>\n",
       "      <td>Ghaziabad</td>\n",
       "      <td>Poor</td>\n",
       "      <td>257</td>\n",
       "      <td>Uttar Pradesh</td>\n",
       "    </tr>\n",
       "    <tr>\n",
       "      <th>210</th>\n",
       "      <td>Thiruvananthapuram</td>\n",
       "      <td>Poor</td>\n",
       "      <td>253</td>\n",
       "      <td>Kerala</td>\n",
       "    </tr>\n",
       "    <tr>\n",
       "      <th>91</th>\n",
       "      <td>Guwahati</td>\n",
       "      <td>Poor</td>\n",
       "      <td>233</td>\n",
       "      <td>Assam</td>\n",
       "    </tr>\n",
       "    <tr>\n",
       "      <th>201</th>\n",
       "      <td>Siwan</td>\n",
       "      <td>Poor</td>\n",
       "      <td>216</td>\n",
       "      <td>Bihar</td>\n",
       "    </tr>\n",
       "    <tr>\n",
       "      <th>90</th>\n",
       "      <td>Gurugram</td>\n",
       "      <td>Poor</td>\n",
       "      <td>202</td>\n",
       "      <td>Haryana</td>\n",
       "    </tr>\n",
       "    <tr>\n",
       "      <th>3</th>\n",
       "      <td>Ahmednagar</td>\n",
       "      <td>Moderate</td>\n",
       "      <td>185</td>\n",
       "      <td>Maharashtra</td>\n",
       "    </tr>\n",
       "    <tr>\n",
       "      <th>203</th>\n",
       "      <td>Sri Ganganagar</td>\n",
       "      <td>Moderate</td>\n",
       "      <td>177</td>\n",
       "      <td>Rajasthan</td>\n",
       "    </tr>\n",
       "    <tr>\n",
       "      <th>22</th>\n",
       "      <td>Baghpat</td>\n",
       "      <td>Moderate</td>\n",
       "      <td>171</td>\n",
       "      <td>Uttar Pradesh</td>\n",
       "    </tr>\n",
       "    <tr>\n",
       "      <th>56</th>\n",
       "      <td>Charkhi Dadri</td>\n",
       "      <td>Moderate</td>\n",
       "      <td>161</td>\n",
       "      <td>Haryana</td>\n",
       "    </tr>\n",
       "    <tr>\n",
       "      <th>70</th>\n",
       "      <td>Delhi</td>\n",
       "      <td>Moderate</td>\n",
       "      <td>161</td>\n",
       "      <td>Delhi</td>\n",
       "    </tr>\n",
       "    <tr>\n",
       "      <th>171</th>\n",
       "      <td>Pithampur</td>\n",
       "      <td>Moderate</td>\n",
       "      <td>158</td>\n",
       "      <td>Madhya Pradesh</td>\n",
       "    </tr>\n",
       "    <tr>\n",
       "      <th>136</th>\n",
       "      <td>Ludhiana</td>\n",
       "      <td>Moderate</td>\n",
       "      <td>157</td>\n",
       "      <td>Punjab</td>\n",
       "    </tr>\n",
       "    <tr>\n",
       "      <th>95</th>\n",
       "      <td>Hanumangarh</td>\n",
       "      <td>Moderate</td>\n",
       "      <td>157</td>\n",
       "      <td>Rajasthan</td>\n",
       "    </tr>\n",
       "    <tr>\n",
       "      <th>49</th>\n",
       "      <td>Bulandshahr</td>\n",
       "      <td>Moderate</td>\n",
       "      <td>157</td>\n",
       "      <td>Uttar Pradesh</td>\n",
       "    </tr>\n",
       "    <tr>\n",
       "      <th>40</th>\n",
       "      <td>Bhiwadi</td>\n",
       "      <td>Moderate</td>\n",
       "      <td>155</td>\n",
       "      <td>Rajasthan</td>\n",
       "    </tr>\n",
       "    <tr>\n",
       "      <th>194</th>\n",
       "      <td>Sawai Madhopur</td>\n",
       "      <td>Moderate</td>\n",
       "      <td>153</td>\n",
       "      <td>Rajasthan</td>\n",
       "    </tr>\n",
       "    <tr>\n",
       "      <th>219</th>\n",
       "      <td>Tumakuru</td>\n",
       "      <td>Moderate</td>\n",
       "      <td>153</td>\n",
       "      <td>Karnataka</td>\n",
       "    </tr>\n",
       "    <tr>\n",
       "      <th>155</th>\n",
       "      <td>Nagaon</td>\n",
       "      <td>Moderate</td>\n",
       "      <td>148</td>\n",
       "      <td>Assam</td>\n",
       "    </tr>\n",
       "    <tr>\n",
       "      <th>146</th>\n",
       "      <td>Meerut</td>\n",
       "      <td>Moderate</td>\n",
       "      <td>147</td>\n",
       "      <td>Uttar Pradesh</td>\n",
       "    </tr>\n",
       "  </tbody>\n",
       "</table>\n",
       "</div>"
      ],
      "text/plain": [
       "                   City Air_Quality  IndexValue           State\n",
       "159             Nalbari        Poor         280           Assam\n",
       "86            Ghaziabad        Poor         257   Uttar Pradesh\n",
       "210  Thiruvananthapuram        Poor         253          Kerala\n",
       "91             Guwahati        Poor         233           Assam\n",
       "201               Siwan        Poor         216           Bihar\n",
       "90             Gurugram        Poor         202         Haryana\n",
       "3            Ahmednagar    Moderate         185     Maharashtra\n",
       "203      Sri Ganganagar    Moderate         177       Rajasthan\n",
       "22              Baghpat    Moderate         171   Uttar Pradesh\n",
       "56        Charkhi Dadri    Moderate         161         Haryana\n",
       "70                Delhi    Moderate         161           Delhi\n",
       "171           Pithampur    Moderate         158  Madhya Pradesh\n",
       "136            Ludhiana    Moderate         157          Punjab\n",
       "95          Hanumangarh    Moderate         157       Rajasthan\n",
       "49          Bulandshahr    Moderate         157   Uttar Pradesh\n",
       "40              Bhiwadi    Moderate         155       Rajasthan\n",
       "194      Sawai Madhopur    Moderate         153       Rajasthan\n",
       "219            Tumakuru    Moderate         153       Karnataka\n",
       "155              Nagaon    Moderate         148           Assam\n",
       "146              Meerut    Moderate         147   Uttar Pradesh"
      ]
     },
     "execution_count": 19,
     "metadata": {},
     "output_type": "execute_result"
    }
   ],
   "source": [
    "df.sort_values(by='IndexValue', ascending=False).head(20)#.to_csv('daily_aqi.csv', index=False)"
   ]
  },
  {
   "cell_type": "code",
   "execution_count": 20,
   "id": "e6911dee-d043-4309-a9d0-23bcea75657c",
   "metadata": {
    "execution": {
     "iopub.execute_input": "2025-03-25T13:02:44.982919Z",
     "iopub.status.busy": "2025-03-25T13:02:44.982577Z",
     "iopub.status.idle": "2025-03-25T13:02:44.986244Z",
     "shell.execute_reply": "2025-03-25T13:02:44.985735Z"
    }
   },
   "outputs": [],
   "source": [
    "# Function to geocode addresses\n",
    "def geocode_google(address):\n",
    "    try:\n",
    "        geocode_result = gmaps.geocode(address)\n",
    "        if geocode_result:\n",
    "            location = geocode_result[0]['geometry']['location']\n",
    "            return pd.Series([location['lat'], location['lng']])\n",
    "        else:\n",
    "            return pd.Series([None, None])\n",
    "    except Exception as e:\n",
    "        return pd.Series([None, None])"
   ]
  },
  {
   "cell_type": "code",
   "execution_count": 21,
   "id": "564ed777-ae4f-45da-9319-b4cc7eace32f",
   "metadata": {
    "execution": {
     "iopub.execute_input": "2025-03-25T13:02:44.987766Z",
     "iopub.status.busy": "2025-03-25T13:02:44.987591Z",
     "iopub.status.idle": "2025-03-25T13:02:56.186099Z",
     "shell.execute_reply": "2025-03-25T13:02:56.185557Z"
    }
   },
   "outputs": [],
   "source": [
    "# Apply geocoding function to the DataFrame\n",
    "df[['Latitude', 'Longitude']] = df['City'].apply(geocode_google)"
   ]
  },
  {
   "cell_type": "code",
   "execution_count": 22,
   "id": "ab2f5d77-6e43-4b91-8419-d44b166326ff",
   "metadata": {
    "execution": {
     "iopub.execute_input": "2025-03-25T13:02:56.188195Z",
     "iopub.status.busy": "2025-03-25T13:02:56.187860Z",
     "iopub.status.idle": "2025-03-25T13:02:56.191061Z",
     "shell.execute_reply": "2025-03-25T13:02:56.190532Z"
    }
   },
   "outputs": [],
   "source": [
    "df['date'] = date"
   ]
  },
  {
   "cell_type": "code",
   "execution_count": 23,
   "id": "0c9380cf-e95b-419c-a059-f7d451f64713",
   "metadata": {
    "execution": {
     "iopub.execute_input": "2025-03-25T13:02:56.192886Z",
     "iopub.status.busy": "2025-03-25T13:02:56.192604Z",
     "iopub.status.idle": "2025-03-25T13:03:02.136196Z",
     "shell.execute_reply": "2025-03-25T13:03:02.135574Z"
    },
    "scrolled": true
   },
   "outputs": [],
   "source": [
    "if len(df[df['Latitude'].isna()]['City']) > 0:\n",
    "    df[['Latitude', 'Longitude']] = df['City'].apply(geocode_google)"
   ]
  },
  {
   "cell_type": "code",
   "execution_count": 24,
   "id": "c3a07744-243c-40e8-be52-9537b39b587e",
   "metadata": {
    "execution": {
     "iopub.execute_input": "2025-03-25T13:03:02.138266Z",
     "iopub.status.busy": "2025-03-25T13:03:02.138090Z",
     "iopub.status.idle": "2025-03-25T13:03:02.142700Z",
     "shell.execute_reply": "2025-03-25T13:03:02.142214Z"
    }
   },
   "outputs": [
    {
     "data": {
      "text/plain": [
       "3"
      ]
     },
     "execution_count": 24,
     "metadata": {},
     "output_type": "execute_result"
    }
   ],
   "source": [
    "len(df[df['Latitude'].isna()]['City'])"
   ]
  },
  {
   "cell_type": "code",
   "execution_count": 25,
   "id": "108f3cc9-869b-44e4-9d57-ab4e670a5bb8",
   "metadata": {
    "execution": {
     "iopub.execute_input": "2025-03-25T13:03:02.144357Z",
     "iopub.status.busy": "2025-03-25T13:03:02.144038Z",
     "iopub.status.idle": "2025-03-25T13:03:02.148182Z",
     "shell.execute_reply": "2025-03-25T13:03:02.147741Z"
    }
   },
   "outputs": [],
   "source": [
    "if len(df[df['Latitude'].isna()]['City']) > 0:\n",
    "    df['Latitude'] = df['Latitude'].fillna('0')\n",
    "    df['Longitude'] = df['Longitude'].fillna('0')"
   ]
  },
  {
   "cell_type": "code",
   "execution_count": 26,
   "id": "8d1ef039-c623-44c2-9fc0-67c88a850dca",
   "metadata": {
    "execution": {
     "iopub.execute_input": "2025-03-25T13:03:02.149712Z",
     "iopub.status.busy": "2025-03-25T13:03:02.149515Z",
     "iopub.status.idle": "2025-03-25T13:03:02.154604Z",
     "shell.execute_reply": "2025-03-25T13:03:02.154162Z"
    }
   },
   "outputs": [
    {
     "data": {
      "text/plain": [
       "0"
      ]
     },
     "execution_count": 26,
     "metadata": {},
     "output_type": "execute_result"
    }
   ],
   "source": [
    "len(df[df['Latitude'].isna()]['City']) "
   ]
  },
  {
   "cell_type": "code",
   "execution_count": 27,
   "id": "4d8a8a15-d69f-4ed2-9dcd-c8022403c593",
   "metadata": {
    "execution": {
     "iopub.execute_input": "2025-03-25T13:03:02.156261Z",
     "iopub.status.busy": "2025-03-25T13:03:02.155983Z",
     "iopub.status.idle": "2025-03-25T13:03:02.279492Z",
     "shell.execute_reply": "2025-03-25T13:03:02.278869Z"
    }
   },
   "outputs": [],
   "source": [
    "with pdfplumber.open(daily_doc) as pdf:\n",
    "    last_page_text = pdf.pages[-1].extract_text()"
   ]
  },
  {
   "cell_type": "code",
   "execution_count": 28,
   "id": "4b3d87b6-5da5-45a6-a0a5-08acf306e663",
   "metadata": {
    "execution": {
     "iopub.execute_input": "2025-03-25T13:03:02.281905Z",
     "iopub.status.busy": "2025-03-25T13:03:02.281386Z",
     "iopub.status.idle": "2025-03-25T13:03:02.284684Z",
     "shell.execute_reply": "2025-03-25T13:03:02.284011Z"
    }
   },
   "outputs": [],
   "source": [
    "text = last_page_text.replace(\"\\n\", \" \")"
   ]
  },
  {
   "cell_type": "code",
   "execution_count": 29,
   "id": "acd01d31-8423-468e-95a2-86fc20cdf394",
   "metadata": {
    "execution": {
     "iopub.execute_input": "2025-03-25T13:03:02.286329Z",
     "iopub.status.busy": "2025-03-25T13:03:02.286163Z",
     "iopub.status.idle": "2025-03-25T13:03:02.289084Z",
     "shell.execute_reply": "2025-03-25T13:03:02.288606Z"
    }
   },
   "outputs": [],
   "source": [
    "list_of_no_data_cities = text.split(\":\")[1].split(\",\")"
   ]
  },
  {
   "cell_type": "code",
   "execution_count": 30,
   "id": "8a955366-b3d9-4f61-9fc3-14c6b8c34b9d",
   "metadata": {
    "execution": {
     "iopub.execute_input": "2025-03-25T13:03:02.290680Z",
     "iopub.status.busy": "2025-03-25T13:03:02.290504Z",
     "iopub.status.idle": "2025-03-25T13:03:02.293504Z",
     "shell.execute_reply": "2025-03-25T13:03:02.292977Z"
    }
   },
   "outputs": [],
   "source": [
    "no_data_cities = []\n",
    "for each_city in list_of_no_data_cities:\n",
    "    city_name = each_city.split(\")\")[1].strip()\n",
    "    no_data_cities.append(city_name)"
   ]
  },
  {
   "cell_type": "code",
   "execution_count": 31,
   "id": "27be2af5-1f94-44b9-9e58-f25ff0d81791",
   "metadata": {
    "execution": {
     "iopub.execute_input": "2025-03-25T13:03:02.295144Z",
     "iopub.status.busy": "2025-03-25T13:03:02.294986Z",
     "iopub.status.idle": "2025-03-25T13:03:07.263325Z",
     "shell.execute_reply": "2025-03-25T13:03:07.262717Z"
    }
   },
   "outputs": [],
   "source": [
    "geocoded_no_data_cities = []\n",
    "for each_city in no_data_cities:\n",
    "    no_data_city_dict = {}\n",
    "    no_data_city_dict['city'] = each_city \n",
    "    no_data_city_dict['lat'] = geocode_google(each_city)[0]\n",
    "    no_data_city_dict['long'] = geocode_google(each_city)[1]\n",
    "    geocoded_no_data_cities.append(no_data_city_dict)"
   ]
  },
  {
   "cell_type": "code",
   "execution_count": 32,
   "id": "a0462a2b-c69b-433e-866e-2d72965f7e01",
   "metadata": {
    "execution": {
     "iopub.execute_input": "2025-03-25T13:03:07.265398Z",
     "iopub.status.busy": "2025-03-25T13:03:07.265222Z",
     "iopub.status.idle": "2025-03-25T13:03:10.495636Z",
     "shell.execute_reply": "2025-03-25T13:03:10.495048Z"
    }
   },
   "outputs": [],
   "source": [
    "df_no_data = pd.DataFrame(geocoded_no_data_cities)\n",
    "df_no_data['state'] = df_no_data['city'].apply(get_state)"
   ]
  },
  {
   "cell_type": "code",
   "execution_count": 33,
   "id": "48bdd438-1b03-4a1b-b2d0-7b5c69f3be34",
   "metadata": {
    "execution": {
     "iopub.execute_input": "2025-03-25T13:03:10.497773Z",
     "iopub.status.busy": "2025-03-25T13:03:10.497427Z",
     "iopub.status.idle": "2025-03-25T13:03:10.501052Z",
     "shell.execute_reply": "2025-03-25T13:03:10.500397Z"
    }
   },
   "outputs": [],
   "source": [
    "df_no_data['date'] = date"
   ]
  },
  {
   "cell_type": "code",
   "execution_count": 34,
   "id": "7fe69ef7-58bf-4628-8d6c-0b7d7bda9474",
   "metadata": {
    "execution": {
     "iopub.execute_input": "2025-03-25T13:03:10.502976Z",
     "iopub.status.busy": "2025-03-25T13:03:10.502615Z",
     "iopub.status.idle": "2025-03-25T13:03:11.983300Z",
     "shell.execute_reply": "2025-03-25T13:03:11.982765Z"
    }
   },
   "outputs": [],
   "source": [
    "if len(df_no_data[df_no_data['lat'].isna()]) > 0:\n",
    "    df_no_data['city'].apply(geocode_google)"
   ]
  },
  {
   "cell_type": "code",
   "execution_count": 35,
   "id": "89086515-d835-4e93-aaac-76ef94e7fc12",
   "metadata": {
    "execution": {
     "iopub.execute_input": "2025-03-25T13:03:11.985324Z",
     "iopub.status.busy": "2025-03-25T13:03:11.984985Z",
     "iopub.status.idle": "2025-03-25T13:03:11.989325Z",
     "shell.execute_reply": "2025-03-25T13:03:11.988771Z"
    }
   },
   "outputs": [],
   "source": [
    "if len(df_no_data[df_no_data['lat'].isna()]) > 0:\n",
    "    df_no_data['lat'] = df_no_data['lat'].fillna('0')\n",
    "    df_no_data['long'] = df_no_data['long'].fillna('0')"
   ]
  },
  {
   "cell_type": "code",
   "execution_count": 36,
   "id": "a3c28d6d-85fd-412a-b018-67c62e1d280a",
   "metadata": {
    "execution": {
     "iopub.execute_input": "2025-03-25T13:03:11.991097Z",
     "iopub.status.busy": "2025-03-25T13:03:11.990774Z",
     "iopub.status.idle": "2025-03-25T13:03:11.995092Z",
     "shell.execute_reply": "2025-03-25T13:03:11.994672Z"
    }
   },
   "outputs": [],
   "source": [
    "df_no_data.to_csv('no_data_cities.csv', index=False)"
   ]
  },
  {
   "cell_type": "code",
   "execution_count": 37,
   "id": "ba75d3bf-8a6d-4c2c-81c1-e7703a09c759",
   "metadata": {
    "execution": {
     "iopub.execute_input": "2025-03-25T13:03:11.996893Z",
     "iopub.status.busy": "2025-03-25T13:03:11.996474Z",
     "iopub.status.idle": "2025-03-25T13:03:12.022282Z",
     "shell.execute_reply": "2025-03-25T13:03:12.021831Z"
    }
   },
   "outputs": [],
   "source": [
    "# Create base map\n",
    "m1 = folium.Map(location=[22.9734, 78.6569], zoom_start=4.5)\n",
    "\n",
    "map_date = pd.to_datetime(df['date'].iloc[0]).strftime(\"%B %d, %Y\")  # Optional formatting\n",
    "\n",
    "# Define map center\n",
    "map_center = [33.9734, 78.6569]\n",
    "\n",
    "heat_data = [[row['Latitude'], row['Longitude'], row['IndexValue']] for index, row in df.iterrows()]\n",
    "HeatMap(heat_data, radius=13, blur=10, max_zoom=4.5).add_to(m1)\n",
    "\n",
    "folium.map.Marker(\n",
    "    [33.5, 78],  # Approximate location to place annotation (adjust as needed)\n",
    "    icon=folium.DivIcon(html=\"\"\"\n",
    "        <div style=\"position: absolute; top: 10px; left: 10px; font-size: 12px; font-weight: bold; \n",
    "                    background: rgba(255, 255, 255, 0.5); padding: 2px; border-radius: 1px; \n",
    "                    border: 1px solid; white-space: nowrap; z-index:9999;\">\n",
    "            Zoom in at area of interest\n",
    "        </div>\n",
    "    \"\"\")\n",
    ").add_to(m1)\n",
    "\n",
    "folium.map.Marker(\n",
    "    map_center,\n",
    "    icon=folium.DivIcon(html=f\"\"\"\n",
    "        <div style=\"text-align: center; font-size: 12px; min-width: 120px; font-weight: bold; \n",
    "                    background: rgba(255, 255, 255, 0.3); padding: 0px 0px; border-radius: 1px; \n",
    "                    border: 1px solid; z-index:9999;\">\n",
    "            {map_date}\n",
    "        </div>\n",
    "    \"\"\")\n",
    ").add_to(m1)\n",
    "\n",
    "m1.save(f\"daily_map_{date}.html\")"
   ]
  },
  {
   "cell_type": "code",
   "execution_count": 38,
   "id": "892eb9a7-4270-4102-9786-9bc0e54602ba",
   "metadata": {
    "execution": {
     "iopub.execute_input": "2025-03-25T13:03:12.024214Z",
     "iopub.status.busy": "2025-03-25T13:03:12.023889Z",
     "iopub.status.idle": "2025-03-25T13:03:12.027382Z",
     "shell.execute_reply": "2025-03-25T13:03:12.026964Z"
    }
   },
   "outputs": [],
   "source": [
    "with open(f\"daily_map_{date}.html\", \"r\") as source_file:\n",
    "    content = source_file.read()\n",
    "\n",
    "with open(\"daily_map.html\", \"w\") as target_file:\n",
    "    target_file.write(content)"
   ]
  },
  {
   "cell_type": "code",
   "execution_count": 39,
   "id": "c816e227-fa01-4b0a-b571-76c9b1c52fbc",
   "metadata": {
    "execution": {
     "iopub.execute_input": "2025-03-25T13:03:12.029142Z",
     "iopub.status.busy": "2025-03-25T13:03:12.028833Z",
     "iopub.status.idle": "2025-03-25T13:03:12.117368Z",
     "shell.execute_reply": "2025-03-25T13:03:12.116828Z"
    }
   },
   "outputs": [],
   "source": [
    "# Create a base map centered around India\n",
    "m2 = folium.Map(location=[22.9734, 78.9629], zoom_start=4.5)\n",
    "\n",
    "# Add markers with city names as labels\n",
    "for _, row in df_no_data.iterrows():\n",
    "    folium.Marker(\n",
    "        location=[row[\"lat\"], row[\"long\"]],\n",
    "        popup=folium.Popup(row[\"city\"], parse_html=True),\n",
    "        icon=folium.Icon(color=\"red\", icon=\"flag\")\n",
    "    ).add_to(m2)\n",
    "\n",
    "folium.map.Marker(\n",
    "    [33.5, 78],  # Approximate location to place annotation (adjust as needed)\n",
    "    icon=folium.DivIcon(html=\"\"\"\n",
    "        <div style=\"position: absolute; top: 10px; left: 10px; font-size: 12px; font-weight: bold; \n",
    "                    background: rgba(255, 255, 255, 0.5); padding: 2px; border-radius: 1px; \n",
    "                    border: 1px solid; white-space: nowrap; z-index:9999;\">\n",
    "            Zoom in at area of interest\n",
    "        </div>\n",
    "    \"\"\")\n",
    ").add_to(m2)\n",
    "\n",
    "folium.map.Marker(\n",
    "    map_center,\n",
    "    icon=folium.DivIcon(html=f\"\"\"\n",
    "        <div style=\"text-align: center; font-size: 12px; min-width: 120px; font-weight: bold; \n",
    "                    background: rgba(255, 255, 255, 0.3); padding: 0px 0px; border-radius: 1px; \n",
    "                    border: 1px solid; z-index:9999;\">\n",
    "            {map_date}\n",
    "        </div>\n",
    "    \"\"\")\n",
    ").add_to(m2)\n",
    "\n",
    "# Display the map\n",
    "m2.save(f\"no_data_map_{date}.html\")"
   ]
  },
  {
   "cell_type": "code",
   "execution_count": 40,
   "id": "30ed4797-7823-4294-95c1-f0f6b6c23dcb",
   "metadata": {
    "execution": {
     "iopub.execute_input": "2025-03-25T13:03:12.119413Z",
     "iopub.status.busy": "2025-03-25T13:03:12.119092Z",
     "iopub.status.idle": "2025-03-25T13:03:12.123002Z",
     "shell.execute_reply": "2025-03-25T13:03:12.122530Z"
    }
   },
   "outputs": [],
   "source": [
    "with open(f\"no_data_map_{date}.html\", \"r\") as source_file:\n",
    "    content = source_file.read()\n",
    "\n",
    "with open(\"no_data_map.html\", \"w\") as target_file:\n",
    "    target_file.write(content)"
   ]
  },
  {
   "cell_type": "code",
   "execution_count": null,
   "id": "31ed98a2-6622-4d5b-9c38-147adbb6803f",
   "metadata": {},
   "outputs": [],
   "source": []
  }
 ],
 "metadata": {
  "kernelspec": {
   "display_name": "python3.11",
   "language": "python",
   "name": "python3.11"
  },
  "language_info": {
   "codemirror_mode": {
    "name": "ipython",
    "version": 3
   },
   "file_extension": ".py",
   "mimetype": "text/x-python",
   "name": "python",
   "nbconvert_exporter": "python",
   "pygments_lexer": "ipython3",
   "version": "3.11.11"
  }
 },
 "nbformat": 4,
 "nbformat_minor": 5
}
